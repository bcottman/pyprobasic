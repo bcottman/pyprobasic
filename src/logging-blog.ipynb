{
 "cells": [
  {
   "cell_type": "markdown",
   "id": "c9c40132",
   "metadata": {},
   "source": [
    "# pyprobasic"
   ]
  },
  {
   "cell_type": "code",
   "execution_count": 1,
   "id": "12a4d8b4",
   "metadata": {
    "ExecuteTime": {
     "end_time": "2021-06-22T21:26:06.697273Z",
     "start_time": "2021-06-22T21:26:06.374033Z"
    }
   },
   "outputs": [],
   "source": [
    "#hide\n",
    "from nbdev.showdoc import *"
   ]
  },
  {
   "cell_type": "markdown",
   "id": "a435f4e8",
   "metadata": {
    "ExecuteTime": {
     "end_time": "2021-06-02T17:48:58.084140Z",
     "start_time": "2021-06-02T17:48:58.080434Z"
    }
   },
   "source": [
    "## logging"
   ]
  },
  {
   "cell_type": "markdown",
   "id": "9c84e3b8",
   "metadata": {},
   "source": [
    "## Logging with loguru"
   ]
  },
  {
   "cell_type": "code",
   "execution_count": 1,
   "id": "9d9d5475",
   "metadata": {
    "ExecuteTime": {
     "end_time": "2021-06-20T22:01:47.518874Z",
     "start_time": "2021-06-20T22:01:47.486062Z"
    }
   },
   "outputs": [],
   "source": [
    "from loguru._logger import Core"
   ]
  },
  {
   "cell_type": "code",
   "execution_count": 2,
   "id": "e5b7b7a9",
   "metadata": {
    "ExecuteTime": {
     "end_time": "2021-06-20T22:01:52.012209Z",
     "start_time": "2021-06-20T22:01:51.995567Z"
    }
   },
   "outputs": [
    {
     "data": {
      "text/plain": [
       "['__class__',\n",
       " '__delattr__',\n",
       " '__dict__',\n",
       " '__dir__',\n",
       " '__doc__',\n",
       " '__eq__',\n",
       " '__format__',\n",
       " '__ge__',\n",
       " '__getattribute__',\n",
       " '__getstate__',\n",
       " '__gt__',\n",
       " '__hash__',\n",
       " '__init__',\n",
       " '__init_subclass__',\n",
       " '__le__',\n",
       " '__lt__',\n",
       " '__module__',\n",
       " '__ne__',\n",
       " '__new__',\n",
       " '__reduce__',\n",
       " '__reduce_ex__',\n",
       " '__repr__',\n",
       " '__setattr__',\n",
       " '__setstate__',\n",
       " '__sizeof__',\n",
       " '__str__',\n",
       " '__subclasshook__',\n",
       " '__weakref__',\n",
       " 'activation_list',\n",
       " 'activation_none',\n",
       " 'enabled',\n",
       " 'extra',\n",
       " 'handlers',\n",
       " 'handlers_count',\n",
       " 'levels',\n",
       " 'levels_ansi_codes',\n",
       " 'lock',\n",
       " 'min_level',\n",
       " 'patcher']"
      ]
     },
     "execution_count": 2,
     "metadata": {},
     "output_type": "execute_result"
    }
   ],
   "source": [
    "c =Core()\n",
    "lc = dir(c)\n",
    "lc"
   ]
  },
  {
   "cell_type": "code",
   "execution_count": 3,
   "id": "ca50dc20",
   "metadata": {
    "ExecuteTime": {
     "end_time": "2021-06-20T22:01:58.452690Z",
     "start_time": "2021-06-20T22:01:58.446836Z"
    }
   },
   "outputs": [
    {
     "data": {
      "text/plain": [
       "dict_keys(['TRACE', 'DEBUG', 'INFO', 'SUCCESS', 'WARNING', 'ERROR', 'CRITICAL'])"
      ]
     },
     "execution_count": 3,
     "metadata": {},
     "output_type": "execute_result"
    }
   ],
   "source": [
    "c.levels.keys()"
   ]
  },
  {
   "cell_type": "code",
   "execution_count": 12,
   "id": "2f3daeef",
   "metadata": {
    "ExecuteTime": {
     "end_time": "2021-06-08T22:08:24.616328Z",
     "start_time": "2021-06-08T22:08:24.601270Z"
    }
   },
   "outputs": [
    {
     "name": "stdout",
     "output_type": "stream",
     "text": [
      "__class__  <class 'loguru._logger.Core'>\n",
      "__delattr__  <method-wrapper '__delattr__' of Core object at 0x7fe57c24cc10>\n",
      "__dict__  {'levels': {'TRACE': Level(name='TRACE', no=5, color='<cyan><bold>', icon='✏️'), 'DEBUG': Level(name='DEBUG', no=10, color='<blue><bold>', icon='🐞'), 'INFO': Level(name='INFO', no=20, color='<bold>', icon='ℹ️'), 'SUCCESS': Level(name='SUCCESS', no=25, color='<green><bold>', icon='✔️'), 'WARNING': Level(name='WARNING', no=30, color='<yellow><bold>', icon='⚠️'), 'ERROR': Level(name='ERROR', no=40, color='<red><bold>', icon='❌'), 'CRITICAL': Level(name='CRITICAL', no=50, color='<RED><bold>', icon='☠️')}, 'levels_ansi_codes': {'TRACE': '\\x1b[36m\\x1b[1m', 'DEBUG': '\\x1b[34m\\x1b[1m', 'INFO': '\\x1b[1m', 'SUCCESS': '\\x1b[32m\\x1b[1m', 'WARNING': '\\x1b[33m\\x1b[1m', 'ERROR': '\\x1b[31m\\x1b[1m', 'CRITICAL': '\\x1b[41m\\x1b[1m', None: ''}, 'handlers_count': count(0), 'handlers': {}, 'extra': {}, 'patcher': None, 'min_level': inf, 'enabled': {}, 'activation_list': [], 'activation_none': True, 'lock': <unlocked _thread.lock object at 0x7fe57c2ef060>}\n",
      "__dir__  <built-in method __dir__ of Core object at 0x7fe57c24cc10>\n",
      "__doc__  None\n",
      "__eq__  <method-wrapper '__eq__' of Core object at 0x7fe57c24cc10>\n",
      "__format__  <built-in method __format__ of Core object at 0x7fe57c24cc10>\n",
      "__ge__  <method-wrapper '__ge__' of Core object at 0x7fe57c24cc10>\n",
      "__getattribute__  <method-wrapper '__getattribute__' of Core object at 0x7fe57c24cc10>\n",
      "__getstate__  <bound method Core.__getstate__ of <loguru._logger.Core object at 0x7fe57c24cc10>>\n",
      "__gt__  <method-wrapper '__gt__' of Core object at 0x7fe57c24cc10>\n",
      "__hash__  <method-wrapper '__hash__' of Core object at 0x7fe57c24cc10>\n",
      "__init__  <bound method Core.__init__ of <loguru._logger.Core object at 0x7fe57c24cc10>>\n",
      "__init_subclass__  <built-in method __init_subclass__ of type object at 0x563e03dadd20>\n",
      "__le__  <method-wrapper '__le__' of Core object at 0x7fe57c24cc10>\n",
      "__lt__  <method-wrapper '__lt__' of Core object at 0x7fe57c24cc10>\n",
      "__module__  loguru._logger\n",
      "__ne__  <method-wrapper '__ne__' of Core object at 0x7fe57c24cc10>\n",
      "__new__  <built-in method __new__ of type object at 0x563e027ae580>\n",
      "__reduce__  <built-in method __reduce__ of Core object at 0x7fe57c24cc10>\n",
      "__reduce_ex__  <built-in method __reduce_ex__ of Core object at 0x7fe57c24cc10>\n",
      "__repr__  <method-wrapper '__repr__' of Core object at 0x7fe57c24cc10>\n",
      "__setattr__  <method-wrapper '__setattr__' of Core object at 0x7fe57c24cc10>\n",
      "__setstate__  <bound method Core.__setstate__ of <loguru._logger.Core object at 0x7fe57c24cc10>>\n",
      "__sizeof__  <built-in method __sizeof__ of Core object at 0x7fe57c24cc10>\n",
      "__str__  <method-wrapper '__str__' of Core object at 0x7fe57c24cc10>\n",
      "__subclasshook__  <built-in method __subclasshook__ of type object at 0x563e03dadd20>\n",
      "__weakref__  None\n",
      "activation_list  []\n",
      "activation_none  True\n",
      "enabled  {}\n",
      "extra  {}\n",
      "handlers  {}\n",
      "handlers_count  count(0)\n",
      "levels  {'TRACE': Level(name='TRACE', no=5, color='<cyan><bold>', icon='✏️'), 'DEBUG': Level(name='DEBUG', no=10, color='<blue><bold>', icon='🐞'), 'INFO': Level(name='INFO', no=20, color='<bold>', icon='ℹ️'), 'SUCCESS': Level(name='SUCCESS', no=25, color='<green><bold>', icon='✔️'), 'WARNING': Level(name='WARNING', no=30, color='<yellow><bold>', icon='⚠️'), 'ERROR': Level(name='ERROR', no=40, color='<red><bold>', icon='❌'), 'CRITICAL': Level(name='CRITICAL', no=50, color='<RED><bold>', icon='☠️')}\n",
      "levels_ansi_codes  {'TRACE': '\\x1b[36m\\x1b[1m', 'DEBUG': '\\x1b[34m\\x1b[1m', 'INFO': '\\x1b[1m', 'SUCCESS': '\\x1b[32m\\x1b[1m', 'WARNING': '\\x1b[33m\\x1b[1m', 'ERROR': '\\x1b[31m\\x1b[1m', 'CRITICAL': '\\x1b[41m\\x1b[1m', None: ''}\n",
      "lock  <unlocked _thread.lock object at 0x7fe57c2ef060>\n",
      "min_level  inf\n",
      "patcher  None\n"
     ]
    }
   ],
   "source": [
    "\n",
    "for a in lc:\n",
    "    print('{}  {}'.format(a, eval('c.'+a)))"
   ]
  },
  {
   "cell_type": "code",
   "execution_count": 4,
   "id": "db1b3f4a",
   "metadata": {
    "ExecuteTime": {
     "end_time": "2021-06-20T22:02:05.031271Z",
     "start_time": "2021-06-20T22:02:05.021039Z"
    }
   },
   "outputs": [
    {
     "name": "stderr",
     "output_type": "stream",
     "text": [
      "2021-06-20 22:02:05.023 | INFO     | __main__:<module>:3 - Straightforward logging. Replace your informative print statements\n",
      "2021-06-20 22:02:05.025 | INFO     | __main__:<module>:4 - Continue logging.\n",
      "2021-06-20 22:02:05.026 | INFO     | __main__:<module>:5 - and Yet Again Continue logging.\n"
     ]
    }
   ],
   "source": [
    "from loguru import logger\n",
    "\n",
    "logger.info(\"Straightforward logging. Replace your informative print statements\")\n",
    "logger.info(\"Continue logging.\")\n",
    "logger.info(\"and Yet Again Continue logging.\")"
   ]
  },
  {
   "cell_type": "code",
   "execution_count": 5,
   "id": "665c293b",
   "metadata": {
    "ExecuteTime": {
     "end_time": "2021-06-20T22:02:09.622459Z",
     "start_time": "2021-06-20T22:02:09.615949Z"
    }
   },
   "outputs": [
    {
     "name": "stderr",
     "output_type": "stream",
     "text": [
      "2021-06-20 22:02:09.617 | ERROR    | __main__:betterThanPrint:2 - cool: logging\n"
     ]
    }
   ],
   "source": [
    "def betterThanPrint(msg):\n",
    "    logger.error(\"cool: {}\".format(msg))\n",
    "betterThanPrint('logging')"
   ]
  },
  {
   "cell_type": "code",
   "execution_count": 6,
   "id": "5fa83c41",
   "metadata": {
    "ExecuteTime": {
     "end_time": "2021-06-20T22:02:20.737457Z",
     "start_time": "2021-06-20T22:02:20.731298Z"
    }
   },
   "outputs": [
    {
     "name": "stderr",
     "output_type": "stream",
     "text": [
      "2021-06-20 22:02:20.733 | DEBUG    | __main__:<module>:2 - x:1\n"
     ]
    }
   ],
   "source": [
    "x =1\n",
    "logger.debug(\"x:{}\".format(x))"
   ]
  },
  {
   "cell_type": "markdown",
   "id": "db5f7ea1",
   "metadata": {
    "ExecuteTime": {
     "end_time": "2021-05-28T14:32:17.082957Z",
     "start_time": "2021-05-28T14:32:16.972859Z"
    }
   },
   "source": [
    "logger.debug(_message, *args, **kwargs)\n",
    "logger.info(_message, *args, **kwargs)\n",
    "logger.success(_message, *args, **kwargs)\n",
    "logger.warning(_message, *args, **kwargs)\n",
    "logger.error(_message, *args, **kwargs)\n",
    "logger.critical(_message, *args, **kwargs)"
   ]
  },
  {
   "cell_type": "markdown",
   "id": "f854a493",
   "metadata": {},
   "source": [
    "## LoggingState"
   ]
  },
  {
   "cell_type": "code",
   "execution_count": 2,
   "id": "27076816",
   "metadata": {
    "ExecuteTime": {
     "end_time": "2021-06-22T21:27:48.840855Z",
     "start_time": "2021-06-22T21:27:48.814143Z"
    }
   },
   "outputs": [],
   "source": [
    "#export\n",
    "from dataclasses import dataclass\n",
    "from loguru import logger\n",
    "\n",
    "@dataclass\n",
    "class LoggingState:\n",
    "    states =  ['debug', 'info', 'success', 'warning', 'critical']\n",
    "    debug: bool  = False\n",
    "    info: bool = False\n",
    "    success: bool  = False\n",
    "    warning: bool  = False\n",
    "    error: bool = True\n",
    "    critical: bool  = False"
   ]
  },
  {
   "cell_type": "code",
   "execution_count": 8,
   "id": "b0017f80",
   "metadata": {
    "ExecuteTime": {
     "end_time": "2021-06-20T22:02:30.511718Z",
     "start_time": "2021-06-20T22:02:30.505808Z"
    }
   },
   "outputs": [],
   "source": [
    "LogInfo = LoggingState(info=True)\n",
    "LogInfoDebug = LoggingState(info=True,debug=True)\n",
    "LogDebugOn = LoggingState(debug=True)\n",
    "LogDebugOff = LoggingState(debug=False)\n",
    "LogWarning = LoggingState(warning=True)\n",
    "LogCritical = LoggingState(critical=True)"
   ]
  },
  {
   "cell_type": "code",
   "execution_count": 9,
   "id": "fa326af3",
   "metadata": {
    "ExecuteTime": {
     "end_time": "2021-06-20T22:02:35.836400Z",
     "start_time": "2021-06-20T22:02:35.829790Z"
    }
   },
   "outputs": [
    {
     "data": {
      "text/plain": [
       "True"
      ]
     },
     "execution_count": 9,
     "metadata": {},
     "output_type": "execute_result"
    }
   ],
   "source": [
    "f = LogInfo\n",
    "X = str(f)\n",
    "\n",
    "eval(X+'.info')"
   ]
  },
  {
   "cell_type": "code",
   "execution_count": 10,
   "id": "f99ead94",
   "metadata": {
    "ExecuteTime": {
     "end_time": "2021-06-20T22:02:40.264202Z",
     "start_time": "2021-06-20T22:02:40.257591Z"
    }
   },
   "outputs": [
    {
     "name": "stdout",
     "output_type": "stream",
     "text": [
      "debug\n",
      "info\n",
      "success\n",
      "warning\n",
      "critical\n"
     ]
    }
   ],
   "source": [
    "for key in  f.states :\n",
    "    print(key)"
   ]
  },
  {
   "cell_type": "markdown",
   "id": "41b50d8d",
   "metadata": {},
   "source": [
    "## log_call Decorator"
   ]
  },
  {
   "cell_type": "code",
   "execution_count": 11,
   "id": "ad03f7bb",
   "metadata": {
    "ExecuteTime": {
     "end_time": "2021-06-20T22:02:44.786859Z",
     "start_time": "2021-06-20T22:02:44.780684Z"
    }
   },
   "outputs": [],
   "source": [
    "from typing import Dict, List, Any\n",
    "\n",
    "def log_output(logState:LoggingState, fun, result:Any) -> None:\n",
    "    for key in  logState.states :\n",
    "        if  eval(str(logState)+'.'+key):\n",
    "            eval('logger.'+key)(\"function: {}, result:{}\".format(fun.__name__,result))\n"
   ]
  },
  {
   "cell_type": "code",
   "execution_count": 12,
   "id": "77345351",
   "metadata": {
    "ExecuteTime": {
     "end_time": "2021-06-20T22:02:48.245918Z",
     "start_time": "2021-06-20T22:02:48.239302Z"
    }
   },
   "outputs": [],
   "source": [
    "def log_call(logState):\n",
    "    \"\"\"\n",
    "        Decorator @log_call wraps the function \n",
    "        with log events.\n",
    "    \"\"\"\n",
    "    def decorator(fun):\n",
    "        @wraps(fun)\n",
    "        def wrapper(*args, **kwargs):\n",
    "            #Pre\n",
    "            result = fun(*args, **kwargs)\n",
    "            #post:\n",
    "            log_output(logState,fun, result)\n",
    "            return result\n",
    "        return wrapper\n",
    "    return decorator"
   ]
  },
  {
   "cell_type": "code",
   "execution_count": 88,
   "id": "06abe89f",
   "metadata": {
    "ExecuteTime": {
     "end_time": "2021-06-02T17:43:49.526925Z",
     "start_time": "2021-06-02T17:43:49.512140Z"
    }
   },
   "outputs": [
    {
     "name": "stderr",
     "output_type": "stream",
     "text": [
      "2021-06-02 17:43:49.515 | DEBUG    | __main__:log_output:4 - function: add_one, result:1\n",
      "2021-06-02 17:43:49.518 | DEBUG    | __main__:log_output:4 - function: add_one, result:2\n",
      "2021-06-02 17:43:49.520 | DEBUG    | __main__:log_output:4 - function: add_one, result:3\n"
     ]
    },
    {
     "data": {
      "text/plain": [
       "3"
      ]
     },
     "execution_count": 88,
     "metadata": {},
     "output_type": "execute_result"
    }
   ],
   "source": [
    "LogDebug = LogDebugOn\n",
    "@log_call(LogDebug)\n",
    "def add_one(x):\n",
    "    x = x+1\n",
    "    return(x)\n",
    "\n",
    "y=0\n",
    "y =add_one(y)\n",
    "y = add_one(y)\n",
    "add_one(y)"
   ]
  },
  {
   "cell_type": "markdown",
   "id": "c6da6dc5",
   "metadata": {},
   "source": [
    "## log_error Decorator"
   ]
  },
  {
   "cell_type": "code",
   "execution_count": null,
   "id": "4d7f1dc1",
   "metadata": {},
   "outputs": [],
   "source": [
    "def log_error(logState):\n",
    "    \"\"\"\n",
    "        Decorator @log_call wraps the function \n",
    "        with log events.\n",
    "    \"\"\"\n",
    "    def decorator(fun):\n",
    "        @wraps(fun)\n",
    "        def wrapper(*args, **kwargs):\n",
    "            #Pre\n",
    "            if fun(*args, **kwargs):\n",
    "                continue\n",
    "            else:\n",
    "            #post:\n",
    "            log_output(logState,fun, result)\n",
    "            return result\n",
    "        return wrapper\n",
    "    return decorator"
   ]
  },
  {
   "cell_type": "code",
   "execution_count": null,
   "id": "aa1fce20",
   "metadata": {},
   "outputs": [],
   "source": []
  },
  {
   "cell_type": "code",
   "execution_count": null,
   "id": "d1ec4653",
   "metadata": {},
   "outputs": [],
   "source": []
  },
  {
   "cell_type": "code",
   "execution_count": null,
   "id": "12bde36c",
   "metadata": {},
   "outputs": [],
   "source": []
  },
  {
   "cell_type": "markdown",
   "id": "c8f09264",
   "metadata": {},
   "source": [
    "## Increment, decrement"
   ]
  },
  {
   "cell_type": "code",
   "execution_count": 92,
   "id": "7575b563",
   "metadata": {
    "ExecuteTime": {
     "end_time": "2021-06-02T17:56:53.656425Z",
     "start_time": "2021-06-02T17:56:53.651294Z"
    }
   },
   "outputs": [],
   "source": [
    "@dataclass\n",
    "class Counter:\n",
    "    count: int = 0"
   ]
  },
  {
   "cell_type": "code",
   "execution_count": 96,
   "id": "223c03bc",
   "metadata": {
    "ExecuteTime": {
     "end_time": "2021-06-02T18:06:26.556778Z",
     "start_time": "2021-06-02T18:06:26.550133Z"
    }
   },
   "outputs": [
    {
     "data": {
      "text/plain": [
       "99"
      ]
     },
     "execution_count": 96,
     "metadata": {},
     "output_type": "execute_result"
    }
   ],
   "source": [
    "count99 = Counter(count=99)\n",
    "count99.count"
   ]
  },
  {
   "cell_type": "code",
   "execution_count": 91,
   "id": "1c06164a",
   "metadata": {
    "ExecuteTime": {
     "end_time": "2021-06-02T17:55:18.722906Z",
     "start_time": "2021-06-02T17:55:18.715579Z"
    }
   },
   "outputs": [],
   "source": [
    "call_count= 0\n",
    "def increment(fun, increase):\n",
    "    \"\"\"\n",
    "            Decorator pre-function call and post-function call of function func.\n",
    "    \"\"\"\n",
    "    @wraps(fun)\n",
    "    def wrapper(*args, **kwargs):\n",
    "        global call_count\n",
    "        #Pre action\n",
    "        result = fun(*args, **kwargs)\n",
    "        logger.info('call_count:{}'.format(call_count))\n",
    "        if increase: call_count =+ 1\n",
    "        else: call_count =- 1\n",
    "        return result\n",
    "    return wrapper"
   ]
  },
  {
   "cell_type": "code",
   "execution_count": null,
   "id": "7b9bafb5",
   "metadata": {
    "ExecuteTime": {
     "end_time": "2021-06-02T13:37:59.524722Z",
     "start_time": "2021-06-02T13:37:59.320Z"
    }
   },
   "outputs": [],
   "source": [
    "@log_call\n",
    "@add_one\n",
    "def pow(x,y):\n",
    "    return(x**y)"
   ]
  },
  {
   "cell_type": "code",
   "execution_count": null,
   "id": "8aa79d61",
   "metadata": {
    "ExecuteTime": {
     "end_time": "2021-06-02T13:37:59.526319Z",
     "start_time": "2021-06-02T13:37:59.321Z"
    }
   },
   "outputs": [],
   "source": [
    "print('',call_count)\n",
    "print(pow(2,10))"
   ]
  },
  {
   "cell_type": "code",
   "execution_count": null,
   "id": "1ade6170",
   "metadata": {
    "ExecuteTime": {
     "end_time": "2021-06-02T13:37:59.527615Z",
     "start_time": "2021-06-02T13:37:59.323Z"
    }
   },
   "outputs": [],
   "source": [
    "print('',call_count)\n",
    "print(pow(2,10))"
   ]
  },
  {
   "cell_type": "code",
   "execution_count": null,
   "id": "e6e1b398",
   "metadata": {
    "ExecuteTime": {
     "end_time": "2021-06-02T13:37:59.528995Z",
     "start_time": "2021-06-02T13:37:59.326Z"
    }
   },
   "outputs": [],
   "source": [
    "from typing import Dict, List, Any\n",
    "def log_output(fun, result:Any, kw:Dict, check_state:List ) -> None:\n",
    "    for key in kw:\n",
    "        keyl = key.lower()\n",
    "        if  keyl in check_state:\n",
    "            if kw[key]:\n",
    "                eval('logger.'+keyl)(\"function: {}, result:{}\".format(fun.__name__,result))\n",
    "\n",
    "def log_call(*a, **kw):\n",
    "\n",
    "    \"\"\"\n",
    "        Decorator @log_call causes the wrapped funtion \n",
    "        to log at state given in **kw the \n",
    "        \"fucntion: {}, result:{}\".format(fun.__name__,result)\n",
    "\n",
    "    \"\"\"\n",
    "\n",
    "    def decorator(fun):\n",
    "        @wraps(fun)\n",
    "        def wrapper(*args, **kwargs):\n",
    "            #Pre\n",
    "            result = fun(*args, **kwargs)\n",
    "            #post:\n",
    "            check_state = ('debug', 'info', 'success', 'warning', 'error', 'critical')\n",
    "            log_output(fun, result, kw, check_state)\n",
    "            return result\n",
    "        return wrapper\n",
    "    return decorator"
   ]
  },
  {
   "cell_type": "code",
   "execution_count": null,
   "id": "9ac35fe8",
   "metadata": {
    "ExecuteTime": {
     "end_time": "2021-06-02T13:37:59.530567Z",
     "start_time": "2021-06-02T13:37:59.327Z"
    }
   },
   "outputs": [],
   "source": [
    "@log_call(ERROR=True)\n",
    "@add_one\n",
    "def pow(x,y):\n",
    "    return(x**y)"
   ]
  },
  {
   "cell_type": "code",
   "execution_count": null,
   "id": "805b7082",
   "metadata": {
    "ExecuteTime": {
     "end_time": "2021-06-02T13:37:59.532316Z",
     "start_time": "2021-06-02T13:37:59.329Z"
    }
   },
   "outputs": [],
   "source": [
    "print(pow(2,10))\n",
    "print('',call_count)"
   ]
  },
  {
   "cell_type": "code",
   "execution_count": null,
   "id": "5ddd189f",
   "metadata": {
    "ExecuteTime": {
     "end_time": "2021-06-02T13:37:59.533934Z",
     "start_time": "2021-06-02T13:37:59.331Z"
    }
   },
   "outputs": [],
   "source": [
    "@add_one\n",
    "@log_call(ERROR=True)\n",
    "def pow(x,y):\n",
    "    return(x**y)"
   ]
  },
  {
   "cell_type": "code",
   "execution_count": null,
   "id": "d37d7cb2",
   "metadata": {
    "ExecuteTime": {
     "end_time": "2021-06-02T13:37:59.535476Z",
     "start_time": "2021-06-02T13:37:59.333Z"
    }
   },
   "outputs": [],
   "source": [
    "print('',call_count)\n",
    "print(pow(2,100))\n"
   ]
  },
  {
   "cell_type": "code",
   "execution_count": null,
   "id": "66769589",
   "metadata": {},
   "outputs": [],
   "source": []
  }
 ],
 "metadata": {
  "kernelspec": {
   "display_name": "Python 3",
   "language": "python",
   "name": "python3"
  },
  "language_info": {
   "codemirror_mode": {
    "name": "ipython",
    "version": 3
   },
   "file_extension": ".py",
   "mimetype": "text/x-python",
   "name": "python",
   "nbconvert_exporter": "python",
   "pygments_lexer": "ipython3",
   "version": "3.7.6"
  },
  "toc": {
   "base_numbering": 1,
   "nav_menu": {},
   "number_sections": true,
   "sideBar": true,
   "skip_h1_title": false,
   "title_cell": "Table of Contents",
   "title_sidebar": "Contents",
   "toc_cell": false,
   "toc_position": {},
   "toc_section_display": true,
   "toc_window_display": true
  }
 },
 "nbformat": 4,
 "nbformat_minor": 5
}
