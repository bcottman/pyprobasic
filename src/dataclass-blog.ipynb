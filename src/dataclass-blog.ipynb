{
 "cells": [
  {
   "cell_type": "markdown",
   "metadata": {},
   "source": [
    "# pyprobasic"
   ]
  },
  {
   "cell_type": "markdown",
   "metadata": {
    "ExecuteTime": {
     "end_time": "2021-06-02T17:48:58.084140Z",
     "start_time": "2021-06-02T17:48:58.080434Z"
    }
   },
   "source": [
    "## @dataclass"
   ]
  },
  {
   "cell_type": "markdown",
   "metadata": {
    "heading_collapsed": true
   },
   "source": [
    "### import"
   ]
  },
  {
   "cell_type": "code",
   "execution_count": 1,
   "id": "db1b3f4a",
   "metadata": {
    "ExecuteTime": {
     "end_time": "2021-06-07T15:33:47.959470Z",
     "start_time": "2021-06-07T15:33:47.923186Z"
    },
    "hidden": true
   },
   "outputs": [],
   "source": [
    "from loguru import logger\n",
    "from functools import wraps\n",
    "from inspect import signature, getmembers\n",
    "from dataclasses import dataclass\n",
    "from typing import Dict, List, Any\n",
    "import sys\n"
   ]
  },
  {
   "cell_type": "markdown",
   "metadata": {
    "ExecuteTime": {
     "end_time": "2021-05-28T14:32:17.082957Z",
     "start_time": "2021-05-28T14:32:16.972859Z"
    },
    "hidden": true
   },
   "source": [
    "logger.debug(_message, *args, **kwargs)\n",
    "logger.info(_message, *args, **kwargs)\n",
    "logger.success(_message, *args, **kwargs)\n",
    "logger.warning(_message, *args, **kwargs)\n",
    "logger.error(_message, *args, **kwargs)\n",
    "logger.critical(_message, *args, **kwargs)"
   ]
  },
  {
   "cell_type": "markdown",
   "metadata": {},
   "source": [
    "### @dataclass"
   ]
  },
  {
   "cell_type": "code",
   "execution_count": 2,
   "metadata": {
    "ExecuteTime": {
     "end_time": "2021-06-07T15:33:48.168309Z",
     "start_time": "2021-06-07T15:33:47.962950Z"
    }
   },
   "outputs": [],
   "source": [
    "from dataclasses import dataclass\n",
    "from typing import Dict\n",
    "import numpy as np\n",
    "@dataclass\n",
    "class Data():\n",
    "    X: np.ndarray = None  # The field declaration: X\n",
    "    y: np.array = None    # The field declaration: y\n",
    "    kwargs: Dict = None   # The field declaration: kwargs"
   ]
  },
  {
   "cell_type": "code",
   "execution_count": 3,
   "metadata": {
    "ExecuteTime": {
     "end_time": "2021-06-07T15:33:48.189798Z",
     "start_time": "2021-06-07T15:33:48.171190Z"
    }
   },
   "outputs": [
    {
     "data": {
      "text/plain": [
       "True"
      ]
     },
     "execution_count": 3,
     "metadata": {},
     "output_type": "execute_result"
    }
   ],
   "source": [
    "data1 = Data()\n",
    "data2 = Data()\n",
    "data1 == data1"
   ]
  },
  {
   "cell_type": "code",
   "execution_count": 4,
   "metadata": {
    "ExecuteTime": {
     "end_time": "2021-06-07T15:33:48.200098Z",
     "start_time": "2021-06-07T15:33:48.192610Z"
    }
   },
   "outputs": [
    {
     "name": "stdout",
     "output_type": "stream",
     "text": [
      "Data(X=None, y=None, kwargs=None)\n"
     ]
    },
    {
     "data": {
      "text/plain": [
       "Data(X=None, y=None, kwargs=None)"
      ]
     },
     "execution_count": 4,
     "metadata": {},
     "output_type": "execute_result"
    }
   ],
   "source": [
    "print(data1)\n",
    "data1"
   ]
  },
  {
   "cell_type": "code",
   "execution_count": 5,
   "metadata": {
    "ExecuteTime": {
     "end_time": "2021-06-07T15:33:48.210241Z",
     "start_time": "2021-06-07T15:33:48.202721Z"
    }
   },
   "outputs": [],
   "source": [
    "@dataclass(unsafe_hash=True)\n",
    "class Data:\n",
    "    X: np.ndarray = None\n",
    "    y: np.array = None\n",
    "    kwargs: Dict = None\n",
    "    \n",
    "data1 = Data()\n",
    "data2 = Data()    \n",
    "data3 = Data(1,2,3)"
   ]
  },
  {
   "cell_type": "code",
   "execution_count": 6,
   "metadata": {
    "ExecuteTime": {
     "end_time": "2021-06-07T15:33:48.223318Z",
     "start_time": "2021-06-07T15:33:48.215550Z"
    }
   },
   "outputs": [
    {
     "data": {
      "text/plain": [
       "{Data(X=1, y=2, kwargs=3): 2}"
      ]
     },
     "execution_count": 6,
     "metadata": {},
     "output_type": "execute_result"
    }
   ],
   "source": [
    "{data3:2}"
   ]
  },
  {
   "cell_type": "code",
   "execution_count": 65,
   "metadata": {
    "ExecuteTime": {
     "end_time": "2021-06-07T17:24:57.298764Z",
     "start_time": "2021-06-07T17:24:57.291985Z"
    }
   },
   "outputs": [],
   "source": [
    "class CrossValidation:\n",
    "    def __init__(self, inner_cv, outer_cv,\n",
    "                     eval_final_performance, test_size,\n",
    "                     calculate_metrics_per_fold,\n",
    "                     calculate_metrics_across_folds):\n",
    "            self.inner_cv = inner_cv\n",
    "            self.outer_cv = outer_cv\n",
    "            self.eval_final_performance = eval_final_performance\n",
    "            self.test_size = test_size\n",
    "            self.calculate_metrics_per_fold = calculate_metrics_per_fold\n",
    "            self.calculate_metrics_across_folds = calculate_metrics_across_folds\n",
    "            self.outer_folds = None\n",
    "            self.inner_folds = dict()"
   ]
  },
  {
   "cell_type": "code",
   "execution_count": 69,
   "metadata": {
    "ExecuteTime": {
     "end_time": "2021-06-07T17:26:20.540377Z",
     "start_time": "2021-06-07T17:26:20.533604Z"
    }
   },
   "outputs": [],
   "source": [
    "@dataclass\n",
    "class CrossValidation:\n",
    "    inner_cv: int\n",
    "    outer_cv: int\n",
    "    eval_final_performance: bool = True\n",
    "    test_size: float = 0.2\n",
    "    calculate_metrics_per_fold: bool = True\n",
    "    calculate_metrics_across_folds: bool = False\n",
    "    outer_folds =  None\n",
    "    inner_folds = None"
   ]
  },
  {
   "cell_type": "code",
   "execution_count": 9,
   "metadata": {
    "ExecuteTime": {
     "end_time": "2021-06-07T15:33:48.356061Z",
     "start_time": "2021-06-07T15:33:48.246242Z"
    }
   },
   "outputs": [
    {
     "ename": "TypeError",
     "evalue": "__init__() missing 2 required positional arguments: 'inner_cv' and 'outer_cv'",
     "output_type": "error",
     "traceback": [
      "\u001b[0;31m---------------------------------------------------------------------------\u001b[0m",
      "\u001b[0;31mTypeError\u001b[0m                                 Traceback (most recent call last)",
      "\u001b[0;32m<ipython-input-9-d13dba9669ad>\u001b[0m in \u001b[0;36m<module>\u001b[0;34m\u001b[0m\n\u001b[0;32m----> 1\u001b[0;31m \u001b[0mcv1\u001b[0m \u001b[0;34m=\u001b[0m \u001b[0mCrossValidation\u001b[0m\u001b[0;34m(\u001b[0m\u001b[0;34m)\u001b[0m\u001b[0;34m\u001b[0m\u001b[0;34m\u001b[0m\u001b[0m\n\u001b[0m",
      "\u001b[0;31mTypeError\u001b[0m: __init__() missing 2 required positional arguments: 'inner_cv' and 'outer_cv'"
     ]
    }
   ],
   "source": [
    "cv1 = CrossValidation()"
   ]
  },
  {
   "cell_type": "code",
   "execution_count": 70,
   "metadata": {
    "ExecuteTime": {
     "end_time": "2021-06-07T17:26:25.313064Z",
     "start_time": "2021-06-07T17:26:25.303975Z"
    },
    "scrolled": false
   },
   "outputs": [
    {
     "name": "stdout",
     "output_type": "stream",
     "text": [
      "CrossValidation(inner_cv=1, outer_cv=2, eval_final_performance=True, test_size=0.2, calculate_metrics_per_fold=True, calculate_metrics_across_folds=False)\n"
     ]
    },
    {
     "data": {
      "text/plain": [
       "CrossValidation(inner_cv=3, outer_cv=2, eval_final_performance=True, test_size=0.5, calculate_metrics_per_fold=True, calculate_metrics_across_folds=False)"
      ]
     },
     "execution_count": 70,
     "metadata": {},
     "output_type": "execute_result"
    }
   ],
   "source": [
    "cv1 = CrossValidation(1,2)\n",
    "cv2 = CrossValidation(1,2)\n",
    "cv3 = CrossValidation(3,2,test_size=0.5)\n",
    "print(cv1)\n",
    "cv3"
   ]
  },
  {
   "cell_type": "code",
   "execution_count": 71,
   "metadata": {
    "ExecuteTime": {
     "end_time": "2021-06-07T17:26:30.325086Z",
     "start_time": "2021-06-07T17:26:30.316971Z"
    }
   },
   "outputs": [
    {
     "name": "stdout",
     "output_type": "stream",
     "text": [
      "Help on CrossValidation in module __main__ object:\n",
      "\n",
      "class CrossValidation(builtins.object)\n",
      " |  CrossValidation(inner_cv: int, outer_cv: int, eval_final_performance: bool = True, test_size: float = 0.2, calculate_metrics_per_fold: bool = True, calculate_metrics_across_folds: bool = False) -> None\n",
      " |  \n",
      " |  CrossValidation(inner_cv: int, outer_cv: int, eval_final_performance: bool = True, test_size: float = 0.2, calculate_metrics_per_fold: bool = True, calculate_metrics_across_folds: bool = False)\n",
      " |  \n",
      " |  Methods defined here:\n",
      " |  \n",
      " |  __eq__(self, other)\n",
      " |  \n",
      " |  __init__(self, inner_cv: int, outer_cv: int, eval_final_performance: bool = True, test_size: float = 0.2, calculate_metrics_per_fold: bool = True, calculate_metrics_across_folds: bool = False) -> None\n",
      " |  \n",
      " |  __repr__(self)\n",
      " |  \n",
      " |  ----------------------------------------------------------------------\n",
      " |  Data descriptors defined here:\n",
      " |  \n",
      " |  __dict__\n",
      " |      dictionary for instance variables (if defined)\n",
      " |  \n",
      " |  __weakref__\n",
      " |      list of weak references to the object (if defined)\n",
      " |  \n",
      " |  ----------------------------------------------------------------------\n",
      " |  Data and other attributes defined here:\n",
      " |  \n",
      " |  __annotations__ = {'calculate_metrics_across_folds': <class 'bool'>, '...\n",
      " |  \n",
      " |  __dataclass_fields__ = {'calculate_metrics_across_folds': Field(name='...\n",
      " |  \n",
      " |  __dataclass_params__ = _DataclassParams(init=True,repr=True,eq=True,or...\n",
      " |  \n",
      " |  __hash__ = None\n",
      " |  \n",
      " |  calculate_metrics_across_folds = False\n",
      " |  \n",
      " |  calculate_metrics_per_fold = True\n",
      " |  \n",
      " |  eval_final_performance = True\n",
      " |  \n",
      " |  inner_folds = None\n",
      " |  \n",
      " |  outer_folds = None\n",
      " |  \n",
      " |  test_size = 0.2\n",
      "\n"
     ]
    }
   ],
   "source": [
    "help(cv1)"
   ]
  },
  {
   "cell_type": "code",
   "execution_count": 58,
   "metadata": {
    "ExecuteTime": {
     "end_time": "2021-06-07T16:47:44.431736Z",
     "start_time": "2021-06-07T16:47:44.425668Z"
    }
   },
   "outputs": [
    {
     "data": {
      "text/plain": [
       "sys.version_info(major=3, minor=7, micro=6, releaselevel='final', serial=0)"
      ]
     },
     "execution_count": 58,
     "metadata": {},
     "output_type": "execute_result"
    }
   ],
   "source": [
    "sys.version_info"
   ]
  },
  {
   "cell_type": "code",
   "execution_count": 11,
   "metadata": {
    "ExecuteTime": {
     "end_time": "2021-06-07T15:33:58.254329Z",
     "start_time": "2021-06-07T15:33:58.247778Z"
    }
   },
   "outputs": [
    {
     "data": {
      "text/plain": [
       "True"
      ]
     },
     "execution_count": 11,
     "metadata": {},
     "output_type": "execute_result"
    }
   ],
   "source": [
    "cv1 == cv2"
   ]
  },
  {
   "cell_type": "code",
   "execution_count": 12,
   "metadata": {
    "ExecuteTime": {
     "end_time": "2021-06-07T15:33:58.263867Z",
     "start_time": "2021-06-07T15:33:58.257767Z"
    }
   },
   "outputs": [
    {
     "data": {
      "text/plain": [
       "False"
      ]
     },
     "execution_count": 12,
     "metadata": {},
     "output_type": "execute_result"
    }
   ],
   "source": [
    "cv1 == cv3"
   ]
  },
  {
   "cell_type": "markdown",
   "metadata": {
    "heading_collapsed": true
   },
   "source": [
    "### Inspecting @dataclass Generation of def class boilerplate"
   ]
  },
  {
   "cell_type": "code",
   "execution_count": 13,
   "metadata": {
    "ExecuteTime": {
     "end_time": "2021-06-07T15:33:58.277589Z",
     "start_time": "2021-06-07T15:33:58.266900Z"
    },
    "hidden": true
   },
   "outputs": [
    {
     "name": "stdout",
     "output_type": "stream",
     "text": [
      "Help on class Data in module __main__:\n",
      "\n",
      "class Data(builtins.object)\n",
      " |  Data(X: numpy.ndarray = None, y: <built-in function array> = None, kwargs: Dict = None) -> None\n",
      " |  \n",
      " |  Data(X: numpy.ndarray = None, y: <built-in function array> = None, kwargs: Dict = None)\n",
      " |  \n",
      " |  Methods defined here:\n",
      " |  \n",
      " |  __eq__(self, other)\n",
      " |  \n",
      " |  __hash__(self)\n",
      " |  \n",
      " |  __init__(self, X: numpy.ndarray = None, y: <built-in function array> = None, kwargs: Dict = None) -> None\n",
      " |  \n",
      " |  __repr__(self)\n",
      " |  \n",
      " |  ----------------------------------------------------------------------\n",
      " |  Data descriptors defined here:\n",
      " |  \n",
      " |  __dict__\n",
      " |      dictionary for instance variables (if defined)\n",
      " |  \n",
      " |  __weakref__\n",
      " |      list of weak references to the object (if defined)\n",
      " |  \n",
      " |  ----------------------------------------------------------------------\n",
      " |  Data and other attributes defined here:\n",
      " |  \n",
      " |  X = None\n",
      " |  \n",
      " |  __annotations__ = {'X': <class 'numpy.ndarray'>, 'kwargs': typing.Dict...\n",
      " |  \n",
      " |  __dataclass_fields__ = {'X': Field(name='X',type=<class 'numpy.ndarray...\n",
      " |  \n",
      " |  __dataclass_params__ = _DataclassParams(init=True,repr=True,eq=True,or...\n",
      " |  \n",
      " |  kwargs = None\n",
      " |  \n",
      " |  y = None\n",
      "\n"
     ]
    }
   ],
   "source": [
    "help(Data)"
   ]
  },
  {
   "cell_type": "code",
   "execution_count": 14,
   "metadata": {
    "ExecuteTime": {
     "end_time": "2021-06-07T15:33:58.292096Z",
     "start_time": "2021-06-07T15:33:58.280412Z"
    },
    "hidden": true
   },
   "outputs": [
    {
     "data": {
      "text/plain": [
       "[('X', None),\n",
       " ('__annotations__',\n",
       "  {'X': numpy.ndarray, 'y': <function numpy.array>, 'kwargs': typing.Dict}),\n",
       " ('__class__', type),\n",
       " ('__dataclass_fields__',\n",
       "  {'X': Field(name='X',type=<class 'numpy.ndarray'>,default=None,default_factory=<dataclasses._MISSING_TYPE object at 0x7f801cd08950>,init=True,repr=True,hash=None,compare=True,metadata=mappingproxy({}),_field_type=_FIELD),\n",
       "   'y': Field(name='y',type=<built-in function array>,default=None,default_factory=<dataclasses._MISSING_TYPE object at 0x7f801cd08950>,init=True,repr=True,hash=None,compare=True,metadata=mappingproxy({}),_field_type=_FIELD),\n",
       "   'kwargs': Field(name='kwargs',type=typing.Dict,default=None,default_factory=<dataclasses._MISSING_TYPE object at 0x7f801cd08950>,init=True,repr=True,hash=None,compare=True,metadata=mappingproxy({}),_field_type=_FIELD)}),\n",
       " ('__dataclass_params__',\n",
       "  _DataclassParams(init=True,repr=True,eq=True,order=False,unsafe_hash=True,frozen=False)),\n",
       " ('__delattr__', <slot wrapper '__delattr__' of 'object' objects>),\n",
       " ('__dict__',\n",
       "  mappingproxy({'__module__': '__main__',\n",
       "                '__annotations__': {'X': numpy.ndarray,\n",
       "                 'y': <function numpy.array>,\n",
       "                 'kwargs': typing.Dict},\n",
       "                'X': None,\n",
       "                'y': None,\n",
       "                'kwargs': None,\n",
       "                '__dict__': <attribute '__dict__' of 'Data' objects>,\n",
       "                '__weakref__': <attribute '__weakref__' of 'Data' objects>,\n",
       "                '__doc__': 'Data(X: numpy.ndarray = None, y: <built-in function array> = None, kwargs: Dict = None)',\n",
       "                '__dataclass_params__': _DataclassParams(init=True,repr=True,eq=True,order=False,unsafe_hash=True,frozen=False),\n",
       "                '__dataclass_fields__': {'X': Field(name='X',type=<class 'numpy.ndarray'>,default=None,default_factory=<dataclasses._MISSING_TYPE object at 0x7f801cd08950>,init=True,repr=True,hash=None,compare=True,metadata=mappingproxy({}),_field_type=_FIELD),\n",
       "                 'y': Field(name='y',type=<built-in function array>,default=None,default_factory=<dataclasses._MISSING_TYPE object at 0x7f801cd08950>,init=True,repr=True,hash=None,compare=True,metadata=mappingproxy({}),_field_type=_FIELD),\n",
       "                 'kwargs': Field(name='kwargs',type=typing.Dict,default=None,default_factory=<dataclasses._MISSING_TYPE object at 0x7f801cd08950>,init=True,repr=True,hash=None,compare=True,metadata=mappingproxy({}),_field_type=_FIELD)},\n",
       "                '__init__': <function __main__.__create_fn__.<locals>.__init__(self, X: numpy.ndarray = None, y: <built-in function array> = None, kwargs: Dict = None) -> None>,\n",
       "                '__repr__': <function __main__.__create_fn__.<locals>.__repr__(self)>,\n",
       "                '__eq__': <function __main__.__create_fn__.<locals>.__eq__(self, other)>,\n",
       "                '__hash__': <function __main__.__create_fn__.<locals>.__hash__(self)>})),\n",
       " ('__dir__', <method '__dir__' of 'object' objects>),\n",
       " ('__doc__',\n",
       "  'Data(X: numpy.ndarray = None, y: <built-in function array> = None, kwargs: Dict = None)'),\n",
       " ('__eq__', <function __main__.__create_fn__.<locals>.__eq__(self, other)>),\n",
       " ('__format__', <method '__format__' of 'object' objects>),\n",
       " ('__ge__', <slot wrapper '__ge__' of 'object' objects>),\n",
       " ('__getattribute__', <slot wrapper '__getattribute__' of 'object' objects>),\n",
       " ('__gt__', <slot wrapper '__gt__' of 'object' objects>),\n",
       " ('__hash__', <function __main__.__create_fn__.<locals>.__hash__(self)>),\n",
       " ('__init__',\n",
       "  <function __main__.__create_fn__.<locals>.__init__(self, X: numpy.ndarray = None, y: <built-in function array> = None, kwargs: Dict = None) -> None>),\n",
       " ('__init_subclass__', <function Data.__init_subclass__>),\n",
       " ('__le__', <slot wrapper '__le__' of 'object' objects>),\n",
       " ('__lt__', <slot wrapper '__lt__' of 'object' objects>),\n",
       " ('__module__', '__main__'),\n",
       " ('__ne__', <slot wrapper '__ne__' of 'object' objects>),\n",
       " ('__new__', <function object.__new__(*args, **kwargs)>),\n",
       " ('__reduce__', <method '__reduce__' of 'object' objects>),\n",
       " ('__reduce_ex__', <method '__reduce_ex__' of 'object' objects>),\n",
       " ('__repr__', <function __main__.__create_fn__.<locals>.__repr__(self)>),\n",
       " ('__setattr__', <slot wrapper '__setattr__' of 'object' objects>),\n",
       " ('__sizeof__', <method '__sizeof__' of 'object' objects>),\n",
       " ('__str__', <slot wrapper '__str__' of 'object' objects>),\n",
       " ('__subclasshook__', <function Data.__subclasshook__>),\n",
       " ('__weakref__', <attribute '__weakref__' of 'Data' objects>),\n",
       " ('kwargs', None),\n",
       " ('y', None)]"
      ]
     },
     "execution_count": 14,
     "metadata": {},
     "output_type": "execute_result"
    }
   ],
   "source": [
    "getmembers(Data)"
   ]
  },
  {
   "cell_type": "code",
   "execution_count": 15,
   "metadata": {
    "ExecuteTime": {
     "end_time": "2021-06-07T15:33:58.299099Z",
     "start_time": "2021-06-07T15:33:58.294799Z"
    },
    "hidden": true
   },
   "outputs": [
    {
     "name": "stdout",
     "output_type": "stream",
     "text": [
      "(X: numpy.ndarray = None, y: <built-in function array> = None, kwargs: Dict = None) -> None\n"
     ]
    }
   ],
   "source": [
    "print(signature(data1.__init__))"
   ]
  },
  {
   "cell_type": "code",
   "execution_count": 16,
   "metadata": {
    "ExecuteTime": {
     "end_time": "2021-06-07T15:33:58.307009Z",
     "start_time": "2021-06-07T15:33:58.302149Z"
    },
    "hidden": true
   },
   "outputs": [
    {
     "name": "stdout",
     "output_type": "stream",
     "text": [
      "(other)\n"
     ]
    }
   ],
   "source": [
    "print(signature(data1.__eq__))"
   ]
  },
  {
   "cell_type": "code",
   "execution_count": 17,
   "metadata": {
    "ExecuteTime": {
     "end_time": "2021-06-07T15:33:58.318101Z",
     "start_time": "2021-06-07T15:33:58.312722Z"
    },
    "hidden": true
   },
   "outputs": [
    {
     "name": "stdout",
     "output_type": "stream",
     "text": [
      "(inner_cv: int, outer_cv: int, eval_final_performance: bool = True, test_size: float = 0.2, calculate_metrics_per_fold: bool = True, calculate_metrics_across_folds: bool = False) -> None\n"
     ]
    }
   ],
   "source": [
    "print(signature(cv1.__init__))"
   ]
  },
  {
   "cell_type": "markdown",
   "metadata": {
    "heading_collapsed": true
   },
   "source": [
    "### aguments for @dataclass"
   ]
  },
  {
   "cell_type": "markdown",
   "metadata": {
    "hidden": true
   },
   "source": [
    "Clicking shift-<tab> shows the signature and the default for all argumens for @dataclass."
   ]
  },
  {
   "cell_type": "code",
   "execution_count": 18,
   "metadata": {
    "ExecuteTime": {
     "end_time": "2021-06-07T15:33:58.325142Z",
     "start_time": "2021-06-07T15:33:58.321516Z"
    },
    "hidden": true
   },
   "outputs": [],
   "source": [
    "#@dataclass"
   ]
  },
  {
   "cell_type": "code",
   "execution_count": 19,
   "metadata": {
    "ExecuteTime": {
     "end_time": "2021-06-07T15:33:58.337066Z",
     "start_time": "2021-06-07T15:33:58.328393Z"
    },
    "hidden": true
   },
   "outputs": [],
   "source": [
    "class Data():\n",
    "    X: np.ndarray = None  # The field declaration: X\n",
    "    y: np.array = None    # The field declaration: y\n",
    "    kwargs: Dict = None   # The field declaration: kwargs\n",
    "#  ... default autogenerated methods, plus\n",
    "    def __ge__(self, other):\n",
    "        return self.val >= other.val\n",
    "    def __gt__(self, other):\n",
    "        return self.val > other.val\n",
    "    def __le__(self, other):\n",
    "        return self.val <= other.val\n",
    "    def __lt__(self, other):\n",
    "        return self.val < other.val"
   ]
  },
  {
   "cell_type": "code",
   "execution_count": 20,
   "metadata": {
    "ExecuteTime": {
     "end_time": "2021-06-07T15:33:58.347059Z",
     "start_time": "2021-06-07T15:33:58.340369Z"
    },
    "hidden": true
   },
   "outputs": [],
   "source": [
    "@dataclass(order = True)\n",
    "class Data():\n",
    "    X: np.ndarray = None  # The field declaration: X\n",
    "    y: np.array = None    # The field declaration: y\n",
    "    kwargs: Dict = None   # The field declaration: kwargs"
   ]
  },
  {
   "cell_type": "code",
   "execution_count": 21,
   "metadata": {
    "ExecuteTime": {
     "end_time": "2021-06-07T15:33:58.363730Z",
     "start_time": "2021-06-07T15:33:58.349810Z"
    },
    "hidden": true
   },
   "outputs": [
    {
     "name": "stdout",
     "output_type": "stream",
     "text": [
      "Help on class Data in module __main__:\n",
      "\n",
      "class Data(builtins.object)\n",
      " |  Data(X: numpy.ndarray = None, y: <built-in function array> = None, kwargs: Dict = None) -> None\n",
      " |  \n",
      " |  Data(X: numpy.ndarray = None, y: <built-in function array> = None, kwargs: Dict = None)\n",
      " |  \n",
      " |  Methods defined here:\n",
      " |  \n",
      " |  __eq__(self, other)\n",
      " |  \n",
      " |  __ge__(self, other)\n",
      " |  \n",
      " |  __gt__(self, other)\n",
      " |  \n",
      " |  __init__(self, X: numpy.ndarray = None, y: <built-in function array> = None, kwargs: Dict = None) -> None\n",
      " |  \n",
      " |  __le__(self, other)\n",
      " |  \n",
      " |  __lt__(self, other)\n",
      " |  \n",
      " |  __repr__(self)\n",
      " |  \n",
      " |  ----------------------------------------------------------------------\n",
      " |  Data descriptors defined here:\n",
      " |  \n",
      " |  __dict__\n",
      " |      dictionary for instance variables (if defined)\n",
      " |  \n",
      " |  __weakref__\n",
      " |      list of weak references to the object (if defined)\n",
      " |  \n",
      " |  ----------------------------------------------------------------------\n",
      " |  Data and other attributes defined here:\n",
      " |  \n",
      " |  X = None\n",
      " |  \n",
      " |  __annotations__ = {'X': <class 'numpy.ndarray'>, 'kwargs': typing.Dict...\n",
      " |  \n",
      " |  __dataclass_fields__ = {'X': Field(name='X',type=<class 'numpy.ndarray...\n",
      " |  \n",
      " |  __dataclass_params__ = _DataclassParams(init=True,repr=True,eq=True,or...\n",
      " |  \n",
      " |  __hash__ = None\n",
      " |  \n",
      " |  kwargs = None\n",
      " |  \n",
      " |  y = None\n",
      "\n"
     ]
    }
   ],
   "source": [
    "help(Data)"
   ]
  },
  {
   "cell_type": "code",
   "execution_count": 22,
   "metadata": {
    "ExecuteTime": {
     "end_time": "2021-06-07T15:33:58.376251Z",
     "start_time": "2021-06-07T15:33:58.368351Z"
    },
    "hidden": true
   },
   "outputs": [
    {
     "name": "stdout",
     "output_type": "stream",
     "text": [
      "False\n",
      "True\n",
      "False\n",
      "True\n"
     ]
    }
   ],
   "source": [
    "data1 = Data()\n",
    "data2 = Data()    \n",
    "data3 = Data(1,2,3)\n",
    "print(data1 < data2)\n",
    "print(data1 <= data2)\n",
    "print(data1 > data2)\n",
    "print(data1 >= data2)\n"
   ]
  },
  {
   "cell_type": "markdown",
   "metadata": {
    "heading_collapsed": true
   },
   "source": [
    "### explicit @property and @setproperty boilerplate no longer needed"
   ]
  },
  {
   "cell_type": "markdown",
   "metadata": {
    "hidden": true
   },
   "source": [
    "The is so much easier to read and it is intutive"
   ]
  },
  {
   "cell_type": "code",
   "execution_count": 23,
   "metadata": {
    "ExecuteTime": {
     "end_time": "2021-06-07T15:33:58.385729Z",
     "start_time": "2021-06-07T15:33:58.379255Z"
    },
    "hidden": true
   },
   "outputs": [],
   "source": [
    "@dataclass\n",
    "class Data():\n",
    "    X: np.ndarray = None  # The field declaration: X\n",
    "    y: np.array = None    # The field declaration: y\n",
    "    kwargs: Dict = None   # The field declaration: kwargs\n",
    "        \n",
    "d = Data()\n",
    "d.kwargs"
   ]
  },
  {
   "cell_type": "code",
   "execution_count": 24,
   "metadata": {
    "ExecuteTime": {
     "end_time": "2021-06-07T15:33:58.396849Z",
     "start_time": "2021-06-07T15:33:58.389443Z"
    },
    "hidden": true
   },
   "outputs": [
    {
     "data": {
      "text/plain": [
       "{'one': 1}"
      ]
     },
     "execution_count": 24,
     "metadata": {},
     "output_type": "execute_result"
    }
   ],
   "source": [
    "d.kwargs = {'one':1}\n",
    "d.kwargs"
   ]
  },
  {
   "cell_type": "code",
   "execution_count": 25,
   "metadata": {
    "ExecuteTime": {
     "end_time": "2021-06-07T15:33:58.405123Z",
     "start_time": "2021-06-07T15:33:58.399489Z"
    },
    "hidden": true
   },
   "outputs": [
    {
     "data": {
      "text/plain": [
       "1"
      ]
     },
     "execution_count": 25,
     "metadata": {},
     "output_type": "execute_result"
    }
   ],
   "source": [
    "d.kwargs = 1\n",
    "d.kwargs"
   ]
  },
  {
   "cell_type": "markdown",
   "metadata": {
    "hidden": true
   },
   "source": [
    "Notice type hints are ignored"
   ]
  },
  {
   "cell_type": "markdown",
   "metadata": {
    "heading_collapsed": true
   },
   "source": [
    "### Using __slots__"
   ]
  },
  {
   "cell_type": "code",
   "execution_count": 26,
   "metadata": {
    "ExecuteTime": {
     "end_time": "2021-06-07T15:33:58.413889Z",
     "start_time": "2021-06-07T15:33:58.407778Z"
    },
    "hidden": true
   },
   "outputs": [],
   "source": [
    "@dataclass\n",
    "class LoggingState:\n",
    "    __slots__ =  ['debug', 'info', 'success', 'warning', 'error', 'critical']\n",
    "    debug: bool\n",
    "    info: bool\n",
    "    success: bool\n",
    "    warning: bool\n",
    "    error: bool\n",
    "    critical: bool"
   ]
  },
  {
   "cell_type": "code",
   "execution_count": 27,
   "metadata": {
    "ExecuteTime": {
     "end_time": "2021-06-07T15:33:58.422083Z",
     "start_time": "2021-06-07T15:33:58.416839Z"
    },
    "hidden": true
   },
   "outputs": [],
   "source": [
    "logg = LoggingState(debug=False, info=False, success=False, warning=True, error=True, critical=True )"
   ]
  },
  {
   "cell_type": "code",
   "execution_count": 28,
   "metadata": {
    "ExecuteTime": {
     "end_time": "2021-06-07T15:33:58.435460Z",
     "start_time": "2021-06-07T15:33:58.424810Z"
    },
    "hidden": true
   },
   "outputs": [
    {
     "name": "stdout",
     "output_type": "stream",
     "text": [
      "Help on class LoggingState in module __main__:\n",
      "\n",
      "class LoggingState(builtins.object)\n",
      " |  LoggingState(debug: bool, info: bool, success: bool, warning: bool, error: bool, critical: bool) -> None\n",
      " |  \n",
      " |  LoggingState(debug: bool, info: bool, success: bool, warning: bool, error: bool, critical: bool)\n",
      " |  \n",
      " |  Methods defined here:\n",
      " |  \n",
      " |  __eq__(self, other)\n",
      " |  \n",
      " |  __init__(self, debug: bool, info: bool, success: bool, warning: bool, error: bool, critical: bool) -> None\n",
      " |  \n",
      " |  __repr__(self)\n",
      " |  \n",
      " |  ----------------------------------------------------------------------\n",
      " |  Data descriptors defined here:\n",
      " |  \n",
      " |  critical\n",
      " |  \n",
      " |  debug\n",
      " |  \n",
      " |  error\n",
      " |  \n",
      " |  info\n",
      " |  \n",
      " |  success\n",
      " |  \n",
      " |  warning\n",
      " |  \n",
      " |  ----------------------------------------------------------------------\n",
      " |  Data and other attributes defined here:\n",
      " |  \n",
      " |  __annotations__ = {'critical': <class 'bool'>, 'debug': <class 'bool'>...\n",
      " |  \n",
      " |  __dataclass_fields__ = {'critical': Field(name='critical',type=<class ...\n",
      " |  \n",
      " |  __dataclass_params__ = _DataclassParams(init=True,repr=True,eq=True,or...\n",
      " |  \n",
      " |  __hash__ = None\n",
      "\n"
     ]
    }
   ],
   "source": [
    "help(LoggingState)"
   ]
  },
  {
   "cell_type": "code",
   "execution_count": 29,
   "metadata": {
    "ExecuteTime": {
     "end_time": "2021-06-07T15:33:58.451089Z",
     "start_time": "2021-06-07T15:33:58.438534Z"
    },
    "hidden": true
   },
   "outputs": [
    {
     "data": {
      "text/plain": [
       "[('__annotations__',\n",
       "  {'debug': bool,\n",
       "   'info': bool,\n",
       "   'success': bool,\n",
       "   'warning': bool,\n",
       "   'error': bool,\n",
       "   'critical': bool}),\n",
       " ('__class__', type),\n",
       " ('__dataclass_fields__',\n",
       "  {'debug': Field(name='debug',type=<class 'bool'>,default=<dataclasses._MISSING_TYPE object at 0x7f801cd08950>,default_factory=<dataclasses._MISSING_TYPE object at 0x7f801cd08950>,init=True,repr=True,hash=None,compare=True,metadata=mappingproxy({}),_field_type=_FIELD),\n",
       "   'info': Field(name='info',type=<class 'bool'>,default=<dataclasses._MISSING_TYPE object at 0x7f801cd08950>,default_factory=<dataclasses._MISSING_TYPE object at 0x7f801cd08950>,init=True,repr=True,hash=None,compare=True,metadata=mappingproxy({}),_field_type=_FIELD),\n",
       "   'success': Field(name='success',type=<class 'bool'>,default=<dataclasses._MISSING_TYPE object at 0x7f801cd08950>,default_factory=<dataclasses._MISSING_TYPE object at 0x7f801cd08950>,init=True,repr=True,hash=None,compare=True,metadata=mappingproxy({}),_field_type=_FIELD),\n",
       "   'warning': Field(name='warning',type=<class 'bool'>,default=<dataclasses._MISSING_TYPE object at 0x7f801cd08950>,default_factory=<dataclasses._MISSING_TYPE object at 0x7f801cd08950>,init=True,repr=True,hash=None,compare=True,metadata=mappingproxy({}),_field_type=_FIELD),\n",
       "   'error': Field(name='error',type=<class 'bool'>,default=<dataclasses._MISSING_TYPE object at 0x7f801cd08950>,default_factory=<dataclasses._MISSING_TYPE object at 0x7f801cd08950>,init=True,repr=True,hash=None,compare=True,metadata=mappingproxy({}),_field_type=_FIELD),\n",
       "   'critical': Field(name='critical',type=<class 'bool'>,default=<dataclasses._MISSING_TYPE object at 0x7f801cd08950>,default_factory=<dataclasses._MISSING_TYPE object at 0x7f801cd08950>,init=True,repr=True,hash=None,compare=True,metadata=mappingproxy({}),_field_type=_FIELD)}),\n",
       " ('__dataclass_params__',\n",
       "  _DataclassParams(init=True,repr=True,eq=True,order=False,unsafe_hash=False,frozen=False)),\n",
       " ('__delattr__', <slot wrapper '__delattr__' of 'object' objects>),\n",
       " ('__dir__', <method '__dir__' of 'object' objects>),\n",
       " ('__doc__',\n",
       "  'LoggingState(debug: bool, info: bool, success: bool, warning: bool, error: bool, critical: bool)'),\n",
       " ('__eq__', <function __main__.__create_fn__.<locals>.__eq__(self, other)>),\n",
       " ('__format__', <method '__format__' of 'object' objects>),\n",
       " ('__ge__', <slot wrapper '__ge__' of 'object' objects>),\n",
       " ('__getattribute__', <slot wrapper '__getattribute__' of 'object' objects>),\n",
       " ('__gt__', <slot wrapper '__gt__' of 'object' objects>),\n",
       " ('__hash__', None),\n",
       " ('__init__',\n",
       "  <function __main__.__create_fn__.<locals>.__init__(self, debug: bool, info: bool, success: bool, warning: bool, error: bool, critical: bool) -> None>),\n",
       " ('__init_subclass__', <function LoggingState.__init_subclass__>),\n",
       " ('__le__', <slot wrapper '__le__' of 'object' objects>),\n",
       " ('__lt__', <slot wrapper '__lt__' of 'object' objects>),\n",
       " ('__module__', '__main__'),\n",
       " ('__ne__', <slot wrapper '__ne__' of 'object' objects>),\n",
       " ('__new__', <function object.__new__(*args, **kwargs)>),\n",
       " ('__reduce__', <method '__reduce__' of 'object' objects>),\n",
       " ('__reduce_ex__', <method '__reduce_ex__' of 'object' objects>),\n",
       " ('__repr__', <function __main__.__create_fn__.<locals>.__repr__(self)>),\n",
       " ('__setattr__', <slot wrapper '__setattr__' of 'object' objects>),\n",
       " ('__sizeof__', <method '__sizeof__' of 'object' objects>),\n",
       " ('__slots__', ['debug', 'info', 'success', 'warning', 'error', 'critical']),\n",
       " ('__str__', <slot wrapper '__str__' of 'object' objects>),\n",
       " ('__subclasshook__', <function LoggingState.__subclasshook__>),\n",
       " ('critical', <member 'critical' of 'LoggingState' objects>),\n",
       " ('debug', <member 'debug' of 'LoggingState' objects>),\n",
       " ('error', <member 'error' of 'LoggingState' objects>),\n",
       " ('info', <member 'info' of 'LoggingState' objects>),\n",
       " ('success', <member 'success' of 'LoggingState' objects>),\n",
       " ('warning', <member 'warning' of 'LoggingState' objects>)]"
      ]
     },
     "execution_count": 29,
     "metadata": {},
     "output_type": "execute_result"
    }
   ],
   "source": [
    "getmembers(LoggingState)"
   ]
  },
  {
   "cell_type": "code",
   "execution_count": 30,
   "metadata": {
    "ExecuteTime": {
     "end_time": "2021-06-07T15:33:58.462695Z",
     "start_time": "2021-06-07T15:33:58.454005Z"
    },
    "hidden": true
   },
   "outputs": [],
   "source": [
    "@dataclass(init=True, repr=False, eq=False, order=False, unsafe_hash=False, frozen=False)\n",
    "class LoggingState:\n",
    "    __slots__ =  ['debug', 'info', 'success', 'warning', 'error', 'critical']\n",
    "    debug: bool\n",
    "    info: bool\n",
    "    success: bool\n",
    "    warning: bool\n",
    "    error: bool\n",
    "    critical: bool"
   ]
  },
  {
   "cell_type": "code",
   "execution_count": 31,
   "metadata": {
    "ExecuteTime": {
     "end_time": "2021-06-07T15:33:58.473446Z",
     "start_time": "2021-06-07T15:33:58.466358Z"
    },
    "hidden": true
   },
   "outputs": [
    {
     "name": "stdout",
     "output_type": "stream",
     "text": [
      "Help on class LoggingState in module __main__:\n",
      "\n",
      "class LoggingState(builtins.object)\n",
      " |  LoggingState(debug: bool, info: bool, success: bool, warning: bool, error: bool, critical: bool) -> None\n",
      " |  \n",
      " |  LoggingState(debug: bool, info: bool, success: bool, warning: bool, error: bool, critical: bool)\n",
      " |  \n",
      " |  Methods defined here:\n",
      " |  \n",
      " |  __init__(self, debug: bool, info: bool, success: bool, warning: bool, error: bool, critical: bool) -> None\n",
      " |  \n",
      " |  ----------------------------------------------------------------------\n",
      " |  Data descriptors defined here:\n",
      " |  \n",
      " |  critical\n",
      " |  \n",
      " |  debug\n",
      " |  \n",
      " |  error\n",
      " |  \n",
      " |  info\n",
      " |  \n",
      " |  success\n",
      " |  \n",
      " |  warning\n",
      " |  \n",
      " |  ----------------------------------------------------------------------\n",
      " |  Data and other attributes defined here:\n",
      " |  \n",
      " |  __annotations__ = {'critical': <class 'bool'>, 'debug': <class 'bool'>...\n",
      " |  \n",
      " |  __dataclass_fields__ = {'critical': Field(name='critical',type=<class ...\n",
      " |  \n",
      " |  __dataclass_params__ = _DataclassParams(init=True,repr=False,eq=False,...\n",
      "\n"
     ]
    }
   ],
   "source": [
    "help(LoggingState)"
   ]
  },
  {
   "cell_type": "code",
   "execution_count": null,
   "metadata": {
    "hidden": true
   },
   "outputs": [],
   "source": []
  },
  {
   "cell_type": "code",
   "execution_count": null,
   "metadata": {
    "hidden": true
   },
   "outputs": [],
   "source": []
  },
  {
   "cell_type": "markdown",
   "metadata": {
    "heading_collapsed": true
   },
   "source": [
    "### Adding a method"
   ]
  },
  {
   "cell_type": "code",
   "execution_count": 32,
   "metadata": {
    "ExecuteTime": {
     "end_time": "2021-06-07T15:33:58.490040Z",
     "start_time": "2021-06-07T15:33:58.478477Z"
    },
    "hidden": true
   },
   "outputs": [
    {
     "data": {
      "text/plain": [
       "1"
      ]
     },
     "execution_count": 32,
     "metadata": {},
     "output_type": "execute_result"
    }
   ],
   "source": [
    "@dataclass\n",
    "class Data():\n",
    "    X: np.ndarray = None  # The field declaration: X\n",
    "    y: np.array = None    # The field declaration: y\n",
    "    z: int = 0   # The field declaration: kwargs\n",
    "    \n",
    "    def power_args(self):\n",
    "        self.z = self.X**self.y\n",
    "        \n",
    "d = Data(1,2)\n",
    "d.power_args()\n",
    "d.z"
   ]
  },
  {
   "cell_type": "code",
   "execution_count": 33,
   "metadata": {
    "ExecuteTime": {
     "end_time": "2021-06-07T15:33:58.501496Z",
     "start_time": "2021-06-07T15:33:58.493279Z"
    },
    "hidden": true
   },
   "outputs": [
    {
     "data": {
      "text/plain": [
       "25"
      ]
     },
     "execution_count": 33,
     "metadata": {},
     "output_type": "execute_result"
    }
   ],
   "source": [
    "d.X = 5\n",
    "d.power_args()\n",
    "d.z"
   ]
  },
  {
   "cell_type": "markdown",
   "metadata": {},
   "source": [
    "### Immutable Data Classes"
   ]
  },
  {
   "cell_type": "code",
   "execution_count": 91,
   "metadata": {
    "ExecuteTime": {
     "end_time": "2021-06-07T17:49:28.315826Z",
     "start_time": "2021-06-07T17:49:28.309008Z"
    }
   },
   "outputs": [],
   "source": [
    "@dataclass(frozen=True)\n",
    "class Data():\n",
    "    X: np.ndarray = 0  # The field declaration: X\n",
    "    y: np.array = 0    # The field declaration: y\n",
    "    z: int = 0   # The field declaration: kwargs\n",
    "        \n",
    "d = Data()"
   ]
  },
  {
   "cell_type": "code",
   "execution_count": 92,
   "metadata": {
    "ExecuteTime": {
     "end_time": "2021-06-07T17:49:32.577295Z",
     "start_time": "2021-06-07T17:49:32.560852Z"
    }
   },
   "outputs": [
    {
     "ename": "FrozenInstanceError",
     "evalue": "cannot assign to field 'y'",
     "output_type": "error",
     "traceback": [
      "\u001b[0;31m---------------------------------------------------------------------------\u001b[0m",
      "\u001b[0;31mFrozenInstanceError\u001b[0m                       Traceback (most recent call last)",
      "\u001b[0;32m<ipython-input-92-b26d4cc685ee>\u001b[0m in \u001b[0;36m<module>\u001b[0;34m\u001b[0m\n\u001b[0;32m----> 1\u001b[0;31m \u001b[0md\u001b[0m\u001b[0;34m.\u001b[0m\u001b[0my\u001b[0m \u001b[0;34m=\u001b[0m \u001b[0;36m2\u001b[0m\u001b[0;34m\u001b[0m\u001b[0;34m\u001b[0m\u001b[0m\n\u001b[0m",
      "\u001b[0;32m<string>\u001b[0m in \u001b[0;36m__setattr__\u001b[0;34m(self, name, value)\u001b[0m\n",
      "\u001b[0;31mFrozenInstanceError\u001b[0m: cannot assign to field 'y'"
     ]
    }
   ],
   "source": [
    "d.y = 2"
   ]
  },
  {
   "cell_type": "markdown",
   "metadata": {},
   "source": [
    "### Post-Init Processing"
   ]
  },
  {
   "cell_type": "code",
   "execution_count": 49,
   "metadata": {
    "ExecuteTime": {
     "end_time": "2021-06-07T15:42:04.161900Z",
     "start_time": "2021-06-07T15:42:04.140550Z"
    }
   },
   "outputs": [
    {
     "ename": "ValueError",
     "evalue": "mutable default <class 'set'> for field kwargs is not allowed: use default_factory",
     "output_type": "error",
     "traceback": [
      "\u001b[0;31m---------------------------------------------------------------------------\u001b[0m",
      "\u001b[0;31mValueError\u001b[0m                                Traceback (most recent call last)",
      "\u001b[0;32m<ipython-input-49-273b95a6913d>\u001b[0m in \u001b[0;36m<module>\u001b[0;34m\u001b[0m\n\u001b[0;32m----> 1\u001b[0;31m \u001b[0;34m@\u001b[0m\u001b[0mdataclass\u001b[0m\u001b[0;34m\u001b[0m\u001b[0;34m\u001b[0m\u001b[0m\n\u001b[0m\u001b[1;32m      2\u001b[0m \u001b[0;32mclass\u001b[0m \u001b[0mData\u001b[0m\u001b[0;34m(\u001b[0m\u001b[0;34m)\u001b[0m\u001b[0;34m:\u001b[0m\u001b[0;34m\u001b[0m\u001b[0;34m\u001b[0m\u001b[0m\n\u001b[1;32m      3\u001b[0m     \u001b[0mX\u001b[0m\u001b[0;34m:\u001b[0m \u001b[0mnp\u001b[0m\u001b[0;34m.\u001b[0m\u001b[0mndarray\u001b[0m \u001b[0;34m=\u001b[0m \u001b[0;32mNone\u001b[0m  \u001b[0;31m# The field declaration: X\u001b[0m\u001b[0;34m\u001b[0m\u001b[0;34m\u001b[0m\u001b[0m\n\u001b[1;32m      4\u001b[0m     \u001b[0my\u001b[0m\u001b[0;34m:\u001b[0m \u001b[0mnp\u001b[0m\u001b[0;34m.\u001b[0m\u001b[0marray\u001b[0m \u001b[0;34m=\u001b[0m \u001b[0;32mNone\u001b[0m    \u001b[0;31m# The field declaration: y\u001b[0m\u001b[0;34m\u001b[0m\u001b[0;34m\u001b[0m\u001b[0m\n\u001b[1;32m      5\u001b[0m     \u001b[0mkwargs\u001b[0m\u001b[0;34m:\u001b[0m \u001b[0mDict\u001b[0m \u001b[0;34m=\u001b[0m \u001b[0;34m{\u001b[0m\u001b[0;32mNone\u001b[0m\u001b[0;34m}\u001b[0m   \u001b[0;31m# The field declaration: kwargs\u001b[0m\u001b[0;34m\u001b[0m\u001b[0;34m\u001b[0m\u001b[0m\n",
      "\u001b[0;32m/opt/conda/lib/python3.7/dataclasses.py\u001b[0m in \u001b[0;36mdataclass\u001b[0;34m(_cls, init, repr, eq, order, unsafe_hash, frozen)\u001b[0m\n\u001b[1;32m   1008\u001b[0m \u001b[0;34m\u001b[0m\u001b[0m\n\u001b[1;32m   1009\u001b[0m     \u001b[0;31m# We're called as @dataclass without parens.\u001b[0m\u001b[0;34m\u001b[0m\u001b[0;34m\u001b[0m\u001b[0;34m\u001b[0m\u001b[0m\n\u001b[0;32m-> 1010\u001b[0;31m     \u001b[0;32mreturn\u001b[0m \u001b[0mwrap\u001b[0m\u001b[0;34m(\u001b[0m\u001b[0m_cls\u001b[0m\u001b[0;34m)\u001b[0m\u001b[0;34m\u001b[0m\u001b[0;34m\u001b[0m\u001b[0m\n\u001b[0m\u001b[1;32m   1011\u001b[0m \u001b[0;34m\u001b[0m\u001b[0m\n\u001b[1;32m   1012\u001b[0m \u001b[0;34m\u001b[0m\u001b[0m\n",
      "\u001b[0;32m/opt/conda/lib/python3.7/dataclasses.py\u001b[0m in \u001b[0;36mwrap\u001b[0;34m(cls)\u001b[0m\n\u001b[1;32m   1000\u001b[0m \u001b[0;34m\u001b[0m\u001b[0m\n\u001b[1;32m   1001\u001b[0m     \u001b[0;32mdef\u001b[0m \u001b[0mwrap\u001b[0m\u001b[0;34m(\u001b[0m\u001b[0mcls\u001b[0m\u001b[0;34m)\u001b[0m\u001b[0;34m:\u001b[0m\u001b[0;34m\u001b[0m\u001b[0;34m\u001b[0m\u001b[0m\n\u001b[0;32m-> 1002\u001b[0;31m         \u001b[0;32mreturn\u001b[0m \u001b[0m_process_class\u001b[0m\u001b[0;34m(\u001b[0m\u001b[0mcls\u001b[0m\u001b[0;34m,\u001b[0m \u001b[0minit\u001b[0m\u001b[0;34m,\u001b[0m \u001b[0mrepr\u001b[0m\u001b[0;34m,\u001b[0m \u001b[0meq\u001b[0m\u001b[0;34m,\u001b[0m \u001b[0morder\u001b[0m\u001b[0;34m,\u001b[0m \u001b[0munsafe_hash\u001b[0m\u001b[0;34m,\u001b[0m \u001b[0mfrozen\u001b[0m\u001b[0;34m)\u001b[0m\u001b[0;34m\u001b[0m\u001b[0;34m\u001b[0m\u001b[0m\n\u001b[0m\u001b[1;32m   1003\u001b[0m \u001b[0;34m\u001b[0m\u001b[0m\n\u001b[1;32m   1004\u001b[0m     \u001b[0;31m# See if we're being called as @dataclass or @dataclass().\u001b[0m\u001b[0;34m\u001b[0m\u001b[0;34m\u001b[0m\u001b[0;34m\u001b[0m\u001b[0m\n",
      "\u001b[0;32m/opt/conda/lib/python3.7/dataclasses.py\u001b[0m in \u001b[0;36m_process_class\u001b[0;34m(cls, init, repr, eq, order, unsafe_hash, frozen)\u001b[0m\n\u001b[1;32m    848\u001b[0m     \u001b[0;31m# we can.\u001b[0m\u001b[0;34m\u001b[0m\u001b[0;34m\u001b[0m\u001b[0;34m\u001b[0m\u001b[0m\n\u001b[1;32m    849\u001b[0m     cls_fields = [_get_field(cls, name, type)\n\u001b[0;32m--> 850\u001b[0;31m                   for name, type in cls_annotations.items()]\n\u001b[0m\u001b[1;32m    851\u001b[0m     \u001b[0;32mfor\u001b[0m \u001b[0mf\u001b[0m \u001b[0;32min\u001b[0m \u001b[0mcls_fields\u001b[0m\u001b[0;34m:\u001b[0m\u001b[0;34m\u001b[0m\u001b[0;34m\u001b[0m\u001b[0m\n\u001b[1;32m    852\u001b[0m         \u001b[0mfields\u001b[0m\u001b[0;34m[\u001b[0m\u001b[0mf\u001b[0m\u001b[0;34m.\u001b[0m\u001b[0mname\u001b[0m\u001b[0;34m]\u001b[0m \u001b[0;34m=\u001b[0m \u001b[0mf\u001b[0m\u001b[0;34m\u001b[0m\u001b[0;34m\u001b[0m\u001b[0m\n",
      "\u001b[0;32m/opt/conda/lib/python3.7/dataclasses.py\u001b[0m in \u001b[0;36m<listcomp>\u001b[0;34m(.0)\u001b[0m\n\u001b[1;32m    848\u001b[0m     \u001b[0;31m# we can.\u001b[0m\u001b[0;34m\u001b[0m\u001b[0;34m\u001b[0m\u001b[0;34m\u001b[0m\u001b[0m\n\u001b[1;32m    849\u001b[0m     cls_fields = [_get_field(cls, name, type)\n\u001b[0;32m--> 850\u001b[0;31m                   for name, type in cls_annotations.items()]\n\u001b[0m\u001b[1;32m    851\u001b[0m     \u001b[0;32mfor\u001b[0m \u001b[0mf\u001b[0m \u001b[0;32min\u001b[0m \u001b[0mcls_fields\u001b[0m\u001b[0;34m:\u001b[0m\u001b[0;34m\u001b[0m\u001b[0;34m\u001b[0m\u001b[0m\n\u001b[1;32m    852\u001b[0m         \u001b[0mfields\u001b[0m\u001b[0;34m[\u001b[0m\u001b[0mf\u001b[0m\u001b[0;34m.\u001b[0m\u001b[0mname\u001b[0m\u001b[0;34m]\u001b[0m \u001b[0;34m=\u001b[0m \u001b[0mf\u001b[0m\u001b[0;34m\u001b[0m\u001b[0;34m\u001b[0m\u001b[0m\n",
      "\u001b[0;32m/opt/conda/lib/python3.7/dataclasses.py\u001b[0m in \u001b[0;36m_get_field\u001b[0;34m(cls, a_name, a_type)\u001b[0m\n\u001b[1;32m    731\u001b[0m     \u001b[0;31m# For real fields, disallow mutable defaults for known types.\u001b[0m\u001b[0;34m\u001b[0m\u001b[0;34m\u001b[0m\u001b[0;34m\u001b[0m\u001b[0m\n\u001b[1;32m    732\u001b[0m     \u001b[0;32mif\u001b[0m \u001b[0mf\u001b[0m\u001b[0;34m.\u001b[0m\u001b[0m_field_type\u001b[0m \u001b[0;32mis\u001b[0m \u001b[0m_FIELD\u001b[0m \u001b[0;32mand\u001b[0m \u001b[0misinstance\u001b[0m\u001b[0;34m(\u001b[0m\u001b[0mf\u001b[0m\u001b[0;34m.\u001b[0m\u001b[0mdefault\u001b[0m\u001b[0;34m,\u001b[0m \u001b[0;34m(\u001b[0m\u001b[0mlist\u001b[0m\u001b[0;34m,\u001b[0m \u001b[0mdict\u001b[0m\u001b[0;34m,\u001b[0m \u001b[0mset\u001b[0m\u001b[0;34m)\u001b[0m\u001b[0;34m)\u001b[0m\u001b[0;34m:\u001b[0m\u001b[0;34m\u001b[0m\u001b[0;34m\u001b[0m\u001b[0m\n\u001b[0;32m--> 733\u001b[0;31m         raise ValueError(f'mutable default {type(f.default)} for field '\n\u001b[0m\u001b[1;32m    734\u001b[0m                          f'{f.name} is not allowed: use default_factory')\n\u001b[1;32m    735\u001b[0m \u001b[0;34m\u001b[0m\u001b[0m\n",
      "\u001b[0;31mValueError\u001b[0m: mutable default <class 'set'> for field kwargs is not allowed: use default_factory"
     ]
    }
   ],
   "source": [
    "@dataclass\n",
    "class Data():\n",
    "    X: np.ndarray = None  # The field declaration: X\n",
    "    y: np.array = None    # The field declaration: y\n",
    "    kwargs: Dict = {}   # The field declaration: kwargs"
   ]
  },
  {
   "cell_type": "code",
   "execution_count": 48,
   "metadata": {
    "ExecuteTime": {
     "end_time": "2021-06-07T15:41:27.383705Z",
     "start_time": "2021-06-07T15:41:27.374232Z"
    }
   },
   "outputs": [
    {
     "data": {
      "text/plain": [
       "{}"
      ]
     },
     "execution_count": 48,
     "metadata": {},
     "output_type": "execute_result"
    }
   ],
   "source": [
    "@dataclass\n",
    "class Data():\n",
    "    X: np.ndarray = None  # The field declaration: X\n",
    "    y: np.array = None    # The field declaration: y\n",
    "    kwargs: Dict = None   # The field declaration: kwargs\n",
    "        \n",
    "    def __post_init__(self):\n",
    "        self.kwargs = {}\n",
    "\n",
    "d = Data()\n",
    "d.kwargs"
   ]
  },
  {
   "cell_type": "code",
   "execution_count": 82,
   "metadata": {
    "ExecuteTime": {
     "end_time": "2021-06-07T17:41:23.511242Z",
     "start_time": "2021-06-07T17:41:23.503333Z"
    }
   },
   "outputs": [],
   "source": [
    "@dataclass\n",
    "class CrossValidation:\n",
    "    inner_cv: int = 0\n",
    "    outer_cv: int = 0\n",
    "    eval_final_performance: bool = True\n",
    "    test_size: float = 0.2\n",
    "    calculate_metrics_per_fold: bool = True\n",
    "    calculate_metrics_across_folds: bool = False\n",
    "    outer_folds =  None\n",
    "    inner_folds = None\n",
    "    \n",
    "    def __post_init__(self):\n",
    "        self.outer_folds: Dict = {}\n",
    "        self.outer_folds: Dict = {}"
   ]
  },
  {
   "cell_type": "code",
   "execution_count": 83,
   "metadata": {
    "ExecuteTime": {
     "end_time": "2021-06-07T17:41:27.065689Z",
     "start_time": "2021-06-07T17:41:27.058292Z"
    }
   },
   "outputs": [
    {
     "data": {
      "text/plain": [
       "CrossValidation(inner_cv=1, outer_cv=2, eval_final_performance=True, test_size=0.2, calculate_metrics_per_fold=True, calculate_metrics_across_folds=False)"
      ]
     },
     "execution_count": 83,
     "metadata": {},
     "output_type": "execute_result"
    }
   ],
   "source": [
    "cv1 = CrossValidation(1,2)\n",
    "cv2 = CrossValidation(1,2)\n",
    "cv3 = CrossValidation(3,2,test_size=0.5)\n",
    "cv1\n"
   ]
  },
  {
   "cell_type": "code",
   "execution_count": 84,
   "metadata": {
    "ExecuteTime": {
     "end_time": "2021-06-07T17:41:51.032652Z",
     "start_time": "2021-06-07T17:41:51.022440Z"
    }
   },
   "outputs": [
    {
     "name": "stdout",
     "output_type": "stream",
     "text": [
      "Help on CrossValidation in module __main__ object:\n",
      "\n",
      "class CrossValidation(builtins.object)\n",
      " |  CrossValidation(inner_cv: int = 0, outer_cv: int = 0, eval_final_performance: bool = True, test_size: float = 0.2, calculate_metrics_per_fold: bool = True, calculate_metrics_across_folds: bool = False) -> None\n",
      " |  \n",
      " |  CrossValidation(inner_cv: int = 0, outer_cv: int = 0, eval_final_performance: bool = True, test_size: float = 0.2, calculate_metrics_per_fold: bool = True, calculate_metrics_across_folds: bool = False)\n",
      " |  \n",
      " |  Methods defined here:\n",
      " |  \n",
      " |  __eq__(self, other)\n",
      " |  \n",
      " |  __init__(self, inner_cv: int = 0, outer_cv: int = 0, eval_final_performance: bool = True, test_size: float = 0.2, calculate_metrics_per_fold: bool = True, calculate_metrics_across_folds: bool = False) -> None\n",
      " |  \n",
      " |  __post_init__(self)\n",
      " |  \n",
      " |  __repr__(self)\n",
      " |  \n",
      " |  ----------------------------------------------------------------------\n",
      " |  Data descriptors defined here:\n",
      " |  \n",
      " |  __dict__\n",
      " |      dictionary for instance variables (if defined)\n",
      " |  \n",
      " |  __weakref__\n",
      " |      list of weak references to the object (if defined)\n",
      " |  \n",
      " |  ----------------------------------------------------------------------\n",
      " |  Data and other attributes defined here:\n",
      " |  \n",
      " |  __annotations__ = {'calculate_metrics_across_folds': <class 'bool'>, '...\n",
      " |  \n",
      " |  __dataclass_fields__ = {'calculate_metrics_across_folds': Field(name='...\n",
      " |  \n",
      " |  __dataclass_params__ = _DataclassParams(init=True,repr=True,eq=True,or...\n",
      " |  \n",
      " |  __hash__ = None\n",
      " |  \n",
      " |  calculate_metrics_across_folds = False\n",
      " |  \n",
      " |  calculate_metrics_per_fold = True\n",
      " |  \n",
      " |  eval_final_performance = True\n",
      " |  \n",
      " |  inner_cv = 0\n",
      " |  \n",
      " |  inner_folds = None\n",
      " |  \n",
      " |  outer_cv = 0\n",
      " |  \n",
      " |  outer_folds = None\n",
      " |  \n",
      " |  test_size = 0.2\n",
      "\n"
     ]
    }
   ],
   "source": [
    "help(cv1)"
   ]
  },
  {
   "cell_type": "markdown",
   "metadata": {},
   "source": [
    "### Inheritance"
   ]
  },
  {
   "cell_type": "code",
   "execution_count": 95,
   "metadata": {
    "ExecuteTime": {
     "end_time": "2021-06-07T18:27:21.414893Z",
     "start_time": "2021-06-07T18:27:21.404315Z"
    }
   },
   "outputs": [
    {
     "data": {
      "text/plain": [
       "Datatail(X=None, y=None, kwargs={}, z=0)"
      ]
     },
     "execution_count": 95,
     "metadata": {},
     "output_type": "execute_result"
    }
   ],
   "source": [
    "@dataclass\n",
    "class Data():\n",
    "    X: np.ndarray = None  \n",
    "    y: np.array = None    \n",
    "    kwargs: Dict = None   \n",
    "        \n",
    "    def __post_init__(self):\n",
    "        self.kwargs = {}\n",
    "        \n",
    "@dataclass\n",
    "class Datatail(Data):\n",
    "    z: int = 0\n",
    "        \n",
    "d = Datatail()\n",
    "d\n",
    "     "
   ]
  },
  {
   "cell_type": "code",
   "execution_count": null,
   "metadata": {},
   "outputs": [],
   "source": []
  },
  {
   "cell_type": "code",
   "execution_count": null,
   "metadata": {},
   "outputs": [],
   "source": []
  },
  {
   "cell_type": "markdown",
   "metadata": {},
   "source": []
  },
  {
   "cell_type": "code",
   "execution_count": null,
   "metadata": {
    "ExecuteTime": {
     "end_time": "2021-06-04T20:32:33.622032Z",
     "start_time": "2021-06-04T20:32:33.614662Z"
    }
   },
   "outputs": [],
   "source": []
  },
  {
   "cell_type": "code",
   "execution_count": null,
   "metadata": {
    "ExecuteTime": {
     "end_time": "2021-06-04T20:32:40.651004Z",
     "start_time": "2021-06-04T20:32:40.643538Z"
    }
   },
   "outputs": [],
   "source": []
  },
  {
   "cell_type": "code",
   "execution_count": null,
   "metadata": {},
   "outputs": [],
   "source": []
  },
  {
   "cell_type": "code",
   "execution_count": null,
   "metadata": {},
   "outputs": [],
   "source": []
  },
  {
   "cell_type": "code",
   "execution_count": null,
   "metadata": {},
   "outputs": [],
   "source": []
  }
 ],
 "metadata": {
  "kernelspec": {
   "display_name": "Python 3",
   "language": "python",
   "name": "python3"
  },
  "language_info": {
   "codemirror_mode": {
    "name": "ipython",
    "version": 3
   },
   "file_extension": ".py",
   "mimetype": "text/x-python",
   "name": "python",
   "nbconvert_exporter": "python",
   "pygments_lexer": "ipython3",
   "version": "3.7.6"
  },
  "toc": {
   "base_numbering": 1,
   "nav_menu": {},
   "number_sections": true,
   "sideBar": true,
   "skip_h1_title": false,
   "title_cell": "Table of Contents",
   "title_sidebar": "Contents",
   "toc_cell": false,
   "toc_position": {},
   "toc_section_display": true,
   "toc_window_display": true
  }
 },
 "nbformat": 4,
 "nbformat_minor": 5
}
