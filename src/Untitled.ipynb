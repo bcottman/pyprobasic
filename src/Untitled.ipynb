{
 "cells": [
  {
   "cell_type": "code",
   "execution_count": 1,
   "id": "0548a123",
   "metadata": {
    "ExecuteTime": {
     "end_time": "2021-05-27T14:20:04.296104Z",
     "start_time": "2021-05-27T14:20:04.256030Z"
    }
   },
   "outputs": [
    {
     "name": "stderr",
     "output_type": "stream",
     "text": [
      "2021-05-27 14:20:04.289 | INFO     | __main__:<module>:3 - Straightforward logging. Replace your informative print statements\n",
      "2021-05-27 14:20:04.290 | INFO     | __main__:<module>:4 - Continue logging.\n",
      "2021-05-27 14:20:04.291 | INFO     | __main__:<module>:5 - and Yet Again Continue logging.\n"
     ]
    }
   ],
   "source": [
    "from loguru import logger\n",
    "import sys\n",
    "logger.info(\"Straightforward logging. Replace your informative print statements\")\n",
    "logger.info(\"Continue logging.\")\n",
    "logger.info(\"and Yet Again Continue logging.\")"
   ]
  },
  {
   "cell_type": "code",
   "execution_count": 2,
   "id": "f1e87679",
   "metadata": {
    "ExecuteTime": {
     "end_time": "2021-05-27T14:21:09.792378Z",
     "start_time": "2021-05-27T14:21:09.785945Z"
    }
   },
   "outputs": [
    {
     "name": "stderr",
     "output_type": "stream",
     "text": [
      "2021-05-27 14:21:09.787 | ERROR    | __main__:betterThanPrint:2 - cool: logging\n"
     ]
    }
   ],
   "source": [
    "def betterThanPrint(msg):\n",
    "    logger.error(\"cool: {}\".format(msg))\n",
    "betterThanPrint('logging')"
   ]
  },
  {
   "cell_type": "code",
   "execution_count": null,
   "id": "0dba1737",
   "metadata": {},
   "outputs": [],
   "source": []
  }
 ],
 "metadata": {
  "kernelspec": {
   "display_name": "Python 3",
   "language": "python",
   "name": "python3"
  },
  "language_info": {
   "codemirror_mode": {
    "name": "ipython",
    "version": 3
   },
   "file_extension": ".py",
   "mimetype": "text/x-python",
   "name": "python",
   "nbconvert_exporter": "python",
   "pygments_lexer": "ipython3",
   "version": "3.7.10"
  },
  "toc": {
   "base_numbering": 1,
   "nav_menu": {},
   "number_sections": true,
   "sideBar": true,
   "skip_h1_title": false,
   "title_cell": "Table of Contents",
   "title_sidebar": "Contents",
   "toc_cell": false,
   "toc_position": {},
   "toc_section_display": true,
   "toc_window_display": false
  }
 },
 "nbformat": 4,
 "nbformat_minor": 5
}
