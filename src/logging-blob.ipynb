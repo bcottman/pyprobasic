{
 "cells": [
  {
   "cell_type": "code",
   "execution_count": 1,
   "id": "db1b3f4a",
   "metadata": {
    "ExecuteTime": {
     "end_time": "2021-05-29T18:40:36.902320Z",
     "start_time": "2021-05-29T18:40:36.875408Z"
    }
   },
   "outputs": [
    {
     "name": "stderr",
     "output_type": "stream",
     "text": [
      "2021-05-29 18:40:36.895 | INFO     | __main__:<module>:3 - Straightforward logging. Replace your informative print statements\n",
      "2021-05-29 18:40:36.896 | INFO     | __main__:<module>:4 - Continue logging.\n",
      "2021-05-29 18:40:36.898 | INFO     | __main__:<module>:5 - and Yet Again Continue logging.\n"
     ]
    }
   ],
   "source": [
    "from loguru import logger\n",
    "import sys\n",
    "logger.info(\"Straightforward logging. Replace your informative print statements\")\n",
    "logger.info(\"Continue logging.\")\n",
    "logger.info(\"and Yet Again Continue logging.\")"
   ]
  },
  {
   "cell_type": "code",
   "execution_count": 2,
   "id": "665c293b",
   "metadata": {
    "ExecuteTime": {
     "end_time": "2021-05-29T18:40:36.911596Z",
     "start_time": "2021-05-29T18:40:36.905661Z"
    }
   },
   "outputs": [
    {
     "name": "stderr",
     "output_type": "stream",
     "text": [
      "2021-05-29 18:40:36.907 | ERROR    | __main__:betterThanPrint:2 - cool: logging\n"
     ]
    }
   ],
   "source": [
    "def betterThanPrint(msg):\n",
    "    logger.error(\"cool: {}\".format(msg))\n",
    "betterThanPrint('logging')"
   ]
  },
  {
   "cell_type": "code",
   "execution_count": 3,
   "id": "5fa83c41",
   "metadata": {
    "ExecuteTime": {
     "end_time": "2021-05-29T18:40:36.921809Z",
     "start_time": "2021-05-29T18:40:36.915592Z"
    }
   },
   "outputs": [
    {
     "name": "stderr",
     "output_type": "stream",
     "text": [
      "2021-05-29 18:40:36.917 | DEBUG    | __main__:<module>:2 - x:1\n"
     ]
    }
   ],
   "source": [
    "x =1\n",
    "logger.debug(\"x:{}\".format(x))"
   ]
  },
  {
   "cell_type": "code",
   "execution_count": 4,
   "id": "466cbd52",
   "metadata": {
    "ExecuteTime": {
     "end_time": "2021-05-29T18:40:36.929464Z",
     "start_time": "2021-05-29T18:40:36.925073Z"
    }
   },
   "outputs": [],
   "source": [
    "from functools import wraps"
   ]
  },
  {
   "cell_type": "markdown",
   "metadata": {
    "ExecuteTime": {
     "end_time": "2021-05-28T14:32:17.082957Z",
     "start_time": "2021-05-28T14:32:16.972859Z"
    }
   },
   "source": [
    "logger.debug(_message, *args, **kwargs)\n",
    "logger.info(_message, *args, **kwargs)\n",
    "logger.success(_message, *args, **kwargs)\n",
    "logger.warning(_message, *args, **kwargs)\n",
    "logger.error(_message, *args, **kwargs)\n",
    "logger.critical(_message, *args, **kwargs)"
   ]
  },
  {
   "cell_type": "code",
   "execution_count": 5,
   "metadata": {
    "ExecuteTime": {
     "end_time": "2021-05-29T18:40:36.939879Z",
     "start_time": "2021-05-29T18:40:36.932663Z"
    }
   },
   "outputs": [],
   "source": [
    "def log_call(fun):\n",
    "\n",
    "    \"\"\"\n",
    "        Decorator @log_call causes the wrapped funtion \n",
    "        to log at state given in **kw the \n",
    "        \"fucntion: {}, result:{}\".format(fun.__name__,result)\n",
    "\n",
    "    \"\"\"\n",
    "    @wraps(fun)\n",
    "    def wrapper(*args, **kwargs):\n",
    "        #Pre\n",
    "        result = fun(*args, **kwargs)\n",
    "        #post:\n",
    "        logger.info(\"function: {}, result:{}\".format(fun.__name__,result))\n",
    "        return result\n",
    "    return wrapper"
   ]
  },
  {
   "cell_type": "code",
   "execution_count": null,
   "id": "27076816",
   "metadata": {
    "ExecuteTime": {
     "end_time": "2021-05-29T15:05:14.180118Z",
     "start_time": "2021-05-29T15:05:14.169044Z"
    }
   },
   "outputs": [],
   "source": []
  },
  {
   "cell_type": "code",
   "execution_count": 6,
   "id": "ad03f7bb",
   "metadata": {
    "ExecuteTime": {
     "end_time": "2021-05-29T18:40:36.948173Z",
     "start_time": "2021-05-29T18:40:36.942525Z"
    }
   },
   "outputs": [],
   "source": [
    "@log_call\n",
    "def add_one(x):\n",
    "    x = x+1\n",
    "    return(x)\n",
    "y=0\n"
   ]
  },
  {
   "cell_type": "code",
   "execution_count": 7,
   "id": "77345351",
   "metadata": {
    "ExecuteTime": {
     "end_time": "2021-05-29T18:40:36.968453Z",
     "start_time": "2021-05-29T18:40:36.952881Z"
    }
   },
   "outputs": [
    {
     "name": "stderr",
     "output_type": "stream",
     "text": [
      "2021-05-29 18:40:36.954 | INFO     | __main__:wrapper:14 - function: add_one, result:1\n"
     ]
    },
    {
     "data": {
      "text/plain": [
       "1"
      ]
     },
     "execution_count": 7,
     "metadata": {},
     "output_type": "execute_result"
    }
   ],
   "source": [
    "#from loguru import logger\n",
    "\n",
    "y = add_one(y)\n",
    "y"
   ]
  },
  {
   "cell_type": "code",
   "execution_count": 8,
   "metadata": {
    "ExecuteTime": {
     "end_time": "2021-05-29T18:40:36.979324Z",
     "start_time": "2021-05-29T18:40:36.971556Z"
    }
   },
   "outputs": [
    {
     "name": "stderr",
     "output_type": "stream",
     "text": [
      "2021-05-29 18:40:36.972 | INFO     | __main__:wrapper:14 - function: add_one, result:2\n"
     ]
    },
    {
     "data": {
      "text/plain": [
       "2"
      ]
     },
     "execution_count": 8,
     "metadata": {},
     "output_type": "execute_result"
    }
   ],
   "source": [
    "\n",
    "y = add_one(y)\n",
    "y"
   ]
  },
  {
   "cell_type": "code",
   "execution_count": 9,
   "metadata": {
    "ExecuteTime": {
     "end_time": "2021-05-29T18:40:36.990310Z",
     "start_time": "2021-05-29T18:40:36.981835Z"
    }
   },
   "outputs": [
    {
     "name": "stderr",
     "output_type": "stream",
     "text": [
      "2021-05-29 18:40:36.983 | INFO     | __main__:wrapper:14 - function: add_one, result:3\n"
     ]
    },
    {
     "data": {
      "text/plain": [
       "3"
      ]
     },
     "execution_count": 9,
     "metadata": {},
     "output_type": "execute_result"
    }
   ],
   "source": [
    "\n",
    "y = add_one(y)\n",
    "y"
   ]
  },
  {
   "cell_type": "code",
   "execution_count": 10,
   "id": "1c06164a",
   "metadata": {
    "ExecuteTime": {
     "end_time": "2021-05-29T18:40:37.000360Z",
     "start_time": "2021-05-29T18:40:36.993207Z"
    }
   },
   "outputs": [],
   "source": [
    "#GLOBAL \n",
    "call_count= 0\n",
    "def add_one(fun):\n",
    "    \"\"\"\n",
    "            Decorator pre-function call and post-function call of function func.\n",
    "    \"\"\"\n",
    "    @wraps(fun)\n",
    "    def wrapper(*args, **kwargs):\n",
    "        global call_count\n",
    "        #Pre action\n",
    "        result = fun(*args, **kwargs)\n",
    "        logger.info('call_count:{}'.format(call_count))\n",
    "        call_count = call_count+1\n",
    "        logger.info('Increase call_count:{}'.format(call_count))\n",
    "        return result\n",
    "    return wrapper"
   ]
  },
  {
   "cell_type": "code",
   "execution_count": 11,
   "metadata": {
    "ExecuteTime": {
     "end_time": "2021-05-29T18:40:37.008228Z",
     "start_time": "2021-05-29T18:40:37.003497Z"
    }
   },
   "outputs": [],
   "source": [
    "@log_call\n",
    "@add_one\n",
    "def pow(x,y):\n",
    "    return(x**y)"
   ]
  },
  {
   "cell_type": "code",
   "execution_count": 12,
   "metadata": {
    "ExecuteTime": {
     "end_time": "2021-05-29T18:40:37.020759Z",
     "start_time": "2021-05-29T18:40:37.011641Z"
    }
   },
   "outputs": [
    {
     "name": "stderr",
     "output_type": "stream",
     "text": [
      "2021-05-29 18:40:37.014 | INFO     | __main__:wrapper:12 - call_count:0\n",
      "2021-05-29 18:40:37.015 | INFO     | __main__:wrapper:14 - Increase call_count:1\n",
      "2021-05-29 18:40:37.016 | INFO     | __main__:wrapper:14 - function: pow, result:1024\n"
     ]
    },
    {
     "name": "stdout",
     "output_type": "stream",
     "text": [
      " 0\n",
      "1024\n"
     ]
    }
   ],
   "source": [
    "print('',call_count)\n",
    "print(pow(2,10))"
   ]
  },
  {
   "cell_type": "code",
   "execution_count": 13,
   "metadata": {
    "ExecuteTime": {
     "end_time": "2021-05-29T18:40:37.035024Z",
     "start_time": "2021-05-29T18:40:37.023132Z"
    }
   },
   "outputs": [
    {
     "name": "stderr",
     "output_type": "stream",
     "text": [
      "2021-05-29 18:40:37.025 | INFO     | __main__:wrapper:12 - call_count:1\n",
      "2021-05-29 18:40:37.027 | INFO     | __main__:wrapper:14 - Increase call_count:2\n",
      "2021-05-29 18:40:37.028 | INFO     | __main__:wrapper:14 - function: pow, result:1024\n"
     ]
    },
    {
     "name": "stdout",
     "output_type": "stream",
     "text": [
      " 1\n",
      "1024\n"
     ]
    }
   ],
   "source": [
    "print('',call_count)\n",
    "print(pow(2,10))"
   ]
  },
  {
   "cell_type": "code",
   "execution_count": 14,
   "metadata": {
    "ExecuteTime": {
     "end_time": "2021-05-29T18:40:37.048561Z",
     "start_time": "2021-05-29T18:40:37.037838Z"
    }
   },
   "outputs": [],
   "source": [
    "from typing import Dict, List, Any\n",
    "def log_output(fun, result:Any, kw:Dict, check_state:List ) -> None:\n",
    "    for key in kw:\n",
    "        keyl = key.lower()\n",
    "        if  keyl in check_state:\n",
    "            if kw[key]:\n",
    "                eval('logger.'+keyl)(\"function: {}, result:{}\".format(fun.__name__,result))\n",
    "\n",
    "def log_call(*a, **kw):\n",
    "\n",
    "    \"\"\"\n",
    "        Decorator @log_call causes the wrapped funtion \n",
    "        to log at state given in **kw the \n",
    "        \"fucntion: {}, result:{}\".format(fun.__name__,result)\n",
    "\n",
    "    \"\"\"\n",
    "\n",
    "    def decorator(fun):\n",
    "        @wraps(fun)\n",
    "        def wrapper(*args, **kwargs):\n",
    "            #Pre\n",
    "            result = fun(*args, **kwargs)\n",
    "            #post:\n",
    "            check_state = ('debug', 'info', 'success', 'warning', 'error', 'critical')\n",
    "            log_output(fun, result, kw, check_state)\n",
    "            return result\n",
    "        return wrapper\n",
    "    return decorator"
   ]
  },
  {
   "cell_type": "code",
   "execution_count": 15,
   "metadata": {
    "ExecuteTime": {
     "end_time": "2021-05-29T18:40:37.057366Z",
     "start_time": "2021-05-29T18:40:37.051830Z"
    }
   },
   "outputs": [],
   "source": [
    "@log_call(ERROR=True)\n",
    "@add_one\n",
    "def pow(x,y):\n",
    "    return(x**y)"
   ]
  },
  {
   "cell_type": "code",
   "execution_count": 16,
   "metadata": {
    "ExecuteTime": {
     "end_time": "2021-05-29T18:40:37.069320Z",
     "start_time": "2021-05-29T18:40:37.060259Z"
    }
   },
   "outputs": [
    {
     "name": "stderr",
     "output_type": "stream",
     "text": [
      "2021-05-29 18:40:37.061 | INFO     | __main__:wrapper:12 - call_count:2\n",
      "2021-05-29 18:40:37.063 | INFO     | __main__:wrapper:14 - Increase call_count:3\n",
      "2021-05-29 18:40:37.064 | ERROR    | __main__:log_output:7 - function: pow, result:1024\n"
     ]
    },
    {
     "name": "stdout",
     "output_type": "stream",
     "text": [
      "1024\n",
      " 3\n"
     ]
    }
   ],
   "source": [
    "print(pow(2,10))\n",
    "print('',call_count)"
   ]
  },
  {
   "cell_type": "code",
   "execution_count": 17,
   "metadata": {
    "ExecuteTime": {
     "end_time": "2021-05-29T18:40:37.076670Z",
     "start_time": "2021-05-29T18:40:37.071950Z"
    }
   },
   "outputs": [],
   "source": [
    "@add_one\n",
    "@log_call(ERROR=True)\n",
    "def pow(x,y):\n",
    "    return(x**y)"
   ]
  },
  {
   "cell_type": "code",
   "execution_count": 18,
   "metadata": {
    "ExecuteTime": {
     "end_time": "2021-05-29T18:40:37.090363Z",
     "start_time": "2021-05-29T18:40:37.079698Z"
    }
   },
   "outputs": [
    {
     "name": "stderr",
     "output_type": "stream",
     "text": [
      "2021-05-29 18:40:37.081 | ERROR    | __main__:log_output:7 - function: pow, result:1267650600228229401496703205376\n",
      "2021-05-29 18:40:37.083 | INFO     | __main__:wrapper:12 - call_count:3\n",
      "2021-05-29 18:40:37.084 | INFO     | __main__:wrapper:14 - Increase call_count:4\n"
     ]
    },
    {
     "name": "stdout",
     "output_type": "stream",
     "text": [
      " 3\n",
      "1267650600228229401496703205376\n"
     ]
    }
   ],
   "source": [
    "print('',call_count)\n",
    "print(pow(2,100))\n"
   ]
  },
  {
   "cell_type": "code",
   "execution_count": null,
   "metadata": {},
   "outputs": [],
   "source": []
  }
 ],
 "metadata": {
  "kernelspec": {
   "display_name": "Python 3",
   "language": "python",
   "name": "python3"
  },
  "language_info": {
   "codemirror_mode": {
    "name": "ipython",
    "version": 3
   },
   "file_extension": ".py",
   "mimetype": "text/x-python",
   "name": "python",
   "nbconvert_exporter": "python",
   "pygments_lexer": "ipython3",
   "version": "3.7.6"
  },
  "toc": {
   "base_numbering": 1,
   "nav_menu": {},
   "number_sections": true,
   "sideBar": true,
   "skip_h1_title": false,
   "title_cell": "Table of Contents",
   "title_sidebar": "Contents",
   "toc_cell": false,
   "toc_position": {},
   "toc_section_display": true,
   "toc_window_display": false
  }
 },
 "nbformat": 4,
 "nbformat_minor": 5
}
