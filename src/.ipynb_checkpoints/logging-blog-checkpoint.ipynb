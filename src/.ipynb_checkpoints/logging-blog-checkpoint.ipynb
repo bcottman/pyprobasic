{
 "cells": [
  {
   "cell_type": "markdown",
   "metadata": {},
   "source": [
    "# pyprobasic"
   ]
  },
  {
   "cell_type": "markdown",
   "metadata": {
    "ExecuteTime": {
     "end_time": "2021-06-02T17:48:58.084140Z",
     "start_time": "2021-06-02T17:48:58.080434Z"
    },
    "heading_collapsed": true
   },
   "source": [
    "## logging"
   ]
  },
  {
   "cell_type": "markdown",
   "metadata": {},
   "source": [
    "## Logging with loguru"
   ]
  },
  {
   "cell_type": "code",
   "execution_count": 1,
   "id": "db1b3f4a",
   "metadata": {
    "ExecuteTime": {
     "end_time": "2021-06-08T14:51:09.433815Z",
     "start_time": "2021-06-08T14:51:09.393986Z"
    }
   },
   "outputs": [
    {
     "name": "stderr",
     "output_type": "stream",
     "text": [
      "2021-06-08 14:51:09.427 | INFO     | __main__:<module>:6 - Straightforward logging. Replace your informative print statements\n",
      "2021-06-08 14:51:09.428 | INFO     | __main__:<module>:7 - Continue logging.\n",
      "2021-06-08 14:51:09.429 | INFO     | __main__:<module>:8 - and Yet Again Continue logging.\n"
     ]
    }
   ],
   "source": [
    "from loguru import logger\n",
    "from dataclasses import dataclass\n",
    "from typing import Dict, List, Any\n",
    "import sys\n",
    "logger.info(\"Straightforward logging. Replace your informative print statements\")\n",
    "logger.info(\"Continue logging.\")\n",
    "logger.info(\"and Yet Again Continue logging.\")"
   ]
  },
  {
   "cell_type": "code",
   "execution_count": 2,
   "id": "665c293b",
   "metadata": {
    "ExecuteTime": {
     "end_time": "2021-06-08T14:51:14.873214Z",
     "start_time": "2021-06-08T14:51:14.867211Z"
    }
   },
   "outputs": [
    {
     "name": "stderr",
     "output_type": "stream",
     "text": [
      "2021-06-08 14:51:14.869 | ERROR    | __main__:betterThanPrint:2 - cool: logging\n"
     ]
    }
   ],
   "source": [
    "def betterThanPrint(msg):\n",
    "    logger.error(\"cool: {}\".format(msg))\n",
    "betterThanPrint('logging')"
   ]
  },
  {
   "cell_type": "code",
   "execution_count": 3,
   "id": "5fa83c41",
   "metadata": {
    "ExecuteTime": {
     "end_time": "2021-06-08T14:51:22.014439Z",
     "start_time": "2021-06-08T14:51:22.008620Z"
    }
   },
   "outputs": [
    {
     "name": "stderr",
     "output_type": "stream",
     "text": [
      "2021-06-08 14:51:22.010 | DEBUG    | __main__:<module>:2 - x:1\n"
     ]
    }
   ],
   "source": [
    "x =1\n",
    "logger.debug(\"x:{}\".format(x))"
   ]
  },
  {
   "cell_type": "markdown",
   "metadata": {
    "ExecuteTime": {
     "end_time": "2021-05-28T14:32:17.082957Z",
     "start_time": "2021-05-28T14:32:16.972859Z"
    }
   },
   "source": [
    "logger.debug(_message, *args, **kwargs)\n",
    "logger.info(_message, *args, **kwargs)\n",
    "logger.success(_message, *args, **kwargs)\n",
    "logger.warning(_message, *args, **kwargs)\n",
    "logger.error(_message, *args, **kwargs)\n",
    "logger.critical(_message, *args, **kwargs)"
   ]
  },
  {
   "cell_type": "markdown",
   "metadata": {},
   "source": [
    "## LoggingState"
   ]
  },
  {
   "cell_type": "code",
   "execution_count": 58,
   "id": "27076816",
   "metadata": {
    "ExecuteTime": {
     "end_time": "2021-06-02T14:58:13.068788Z",
     "start_time": "2021-06-02T14:58:13.061904Z"
    }
   },
   "outputs": [],
   "source": [
    "@dataclass\n",
    "class LoggingState:\n",
    "    states =  ['debug', 'info', 'success', 'warning', 'critical']\n",
    "    debug: bool  = False\n",
    "    info: bool = False\n",
    "    success: bool  = False\n",
    "    warning: bool  = False\n",
    "    error: bool = True\n",
    "    critical: bool  = False"
   ]
  },
  {
   "cell_type": "code",
   "execution_count": 86,
   "metadata": {
    "ExecuteTime": {
     "end_time": "2021-06-02T17:43:24.506708Z",
     "start_time": "2021-06-02T17:43:24.500275Z"
    }
   },
   "outputs": [],
   "source": [
    "LogInfo = LoggingState(info=True)\n",
    "LogInfoDebug = LoggingState(info=True,debug=True)\n",
    "LogDebugOn = LoggingState(debug=True)\n",
    "LogDebugOff = LoggingState(debug=False)\n",
    "LogWarning = LoggingState(warning=True)\n",
    "LogCritical = LoggingState(critical=True)"
   ]
  },
  {
   "cell_type": "code",
   "execution_count": 47,
   "metadata": {
    "ExecuteTime": {
     "end_time": "2021-06-02T14:36:30.969390Z",
     "start_time": "2021-06-02T14:36:30.962787Z"
    }
   },
   "outputs": [
    {
     "data": {
      "text/plain": [
       "True"
      ]
     },
     "execution_count": 47,
     "metadata": {},
     "output_type": "execute_result"
    }
   ],
   "source": [
    "f = LogInfo\n",
    "X = str(f)\n",
    "\n",
    "eval(X+'.info')"
   ]
  },
  {
   "cell_type": "code",
   "execution_count": 49,
   "metadata": {
    "ExecuteTime": {
     "end_time": "2021-06-02T14:42:26.593083Z",
     "start_time": "2021-06-02T14:42:26.586241Z"
    }
   },
   "outputs": [
    {
     "name": "stdout",
     "output_type": "stream",
     "text": [
      "debug\n",
      "info\n",
      "success\n",
      "warning\n",
      "error\n",
      "critical\n"
     ]
    }
   ],
   "source": [
    "for key in  f.states :\n",
    "    print(key)"
   ]
  },
  {
   "cell_type": "markdown",
   "metadata": {},
   "source": [
    "## log_call Decorator"
   ]
  },
  {
   "cell_type": "code",
   "execution_count": 76,
   "id": "ad03f7bb",
   "metadata": {
    "ExecuteTime": {
     "end_time": "2021-06-02T17:36:53.313496Z",
     "start_time": "2021-06-02T17:36:53.307239Z"
    }
   },
   "outputs": [],
   "source": [
    "def log_output(logState:LoggingState, fun, result:Any) -> None:\n",
    "    for key in  logState.states :\n",
    "        if  eval(str(logState)+'.'+key):\n",
    "            eval('logger.'+key)(\"function: {}, result:{}\".format(fun.__name__,result))\n"
   ]
  },
  {
   "cell_type": "code",
   "execution_count": 71,
   "id": "77345351",
   "metadata": {
    "ExecuteTime": {
     "end_time": "2021-06-02T17:35:37.303066Z",
     "start_time": "2021-06-02T17:35:37.295774Z"
    }
   },
   "outputs": [],
   "source": [
    "def log_call(logState):\n",
    "    \"\"\"\n",
    "        Decorator @log_call wraps the funtion \n",
    "        with log events.\n",
    "    \"\"\"\n",
    "    def decorator(fun):\n",
    "        @wraps(fun)\n",
    "        def wrapper(*args, **kwargs):\n",
    "            #Pre\n",
    "            result = fun(*args, **kwargs)\n",
    "            #post:\n",
    "            log_output(logState,fun, result)\n",
    "            return result\n",
    "        return wrapper\n",
    "    return decorator"
   ]
  },
  {
   "cell_type": "code",
   "execution_count": 88,
   "metadata": {
    "ExecuteTime": {
     "end_time": "2021-06-02T17:43:49.526925Z",
     "start_time": "2021-06-02T17:43:49.512140Z"
    }
   },
   "outputs": [
    {
     "name": "stderr",
     "output_type": "stream",
     "text": [
      "2021-06-02 17:43:49.515 | DEBUG    | __main__:log_output:4 - function: add_one, result:1\n",
      "2021-06-02 17:43:49.518 | DEBUG    | __main__:log_output:4 - function: add_one, result:2\n",
      "2021-06-02 17:43:49.520 | DEBUG    | __main__:log_output:4 - function: add_one, result:3\n"
     ]
    },
    {
     "data": {
      "text/plain": [
       "3"
      ]
     },
     "execution_count": 88,
     "metadata": {},
     "output_type": "execute_result"
    }
   ],
   "source": [
    "LogDebug = LogDebugOn\n",
    "@log_call(LogDebug)\n",
    "def add_one(x):\n",
    "    x = x+1\n",
    "    return(x)\n",
    "\n",
    "y=0\n",
    "y =add_one(y)\n",
    "y = add_one(y)\n",
    "add_one(y)"
   ]
  },
  {
   "cell_type": "markdown",
   "metadata": {},
   "source": [
    "## Increment, decrement"
   ]
  },
  {
   "cell_type": "code",
   "execution_count": 92,
   "metadata": {
    "ExecuteTime": {
     "end_time": "2021-06-02T17:56:53.656425Z",
     "start_time": "2021-06-02T17:56:53.651294Z"
    }
   },
   "outputs": [],
   "source": [
    "@dataclass\n",
    "class Counter:\n",
    "    count: int = 0"
   ]
  },
  {
   "cell_type": "code",
   "execution_count": 96,
   "metadata": {
    "ExecuteTime": {
     "end_time": "2021-06-02T18:06:26.556778Z",
     "start_time": "2021-06-02T18:06:26.550133Z"
    }
   },
   "outputs": [
    {
     "data": {
      "text/plain": [
       "99"
      ]
     },
     "execution_count": 96,
     "metadata": {},
     "output_type": "execute_result"
    }
   ],
   "source": [
    "count99 = Counter(count=99)\n",
    "count99.count"
   ]
  },
  {
   "cell_type": "code",
   "execution_count": 91,
   "id": "1c06164a",
   "metadata": {
    "ExecuteTime": {
     "end_time": "2021-06-02T17:55:18.722906Z",
     "start_time": "2021-06-02T17:55:18.715579Z"
    }
   },
   "outputs": [],
   "source": [
    "call_count= 0\n",
    "def increment(fun, increase):\n",
    "    \"\"\"\n",
    "            Decorator pre-function call and post-function call of function func.\n",
    "    \"\"\"\n",
    "    @wraps(fun)\n",
    "    def wrapper(*args, **kwargs):\n",
    "        global call_count\n",
    "        #Pre action\n",
    "        result = fun(*args, **kwargs)\n",
    "        logger.info('call_count:{}'.format(call_count))\n",
    "        if increase: call_count =+ 1\n",
    "        else: call_count =- 1\n",
    "        return result\n",
    "    return wrapper"
   ]
  },
  {
   "cell_type": "code",
   "execution_count": null,
   "metadata": {
    "ExecuteTime": {
     "end_time": "2021-06-02T13:37:59.524722Z",
     "start_time": "2021-06-02T13:37:59.320Z"
    }
   },
   "outputs": [],
   "source": [
    "@log_call\n",
    "@add_one\n",
    "def pow(x,y):\n",
    "    return(x**y)"
   ]
  },
  {
   "cell_type": "code",
   "execution_count": null,
   "metadata": {
    "ExecuteTime": {
     "end_time": "2021-06-02T13:37:59.526319Z",
     "start_time": "2021-06-02T13:37:59.321Z"
    }
   },
   "outputs": [],
   "source": [
    "print('',call_count)\n",
    "print(pow(2,10))"
   ]
  },
  {
   "cell_type": "code",
   "execution_count": null,
   "metadata": {
    "ExecuteTime": {
     "end_time": "2021-06-02T13:37:59.527615Z",
     "start_time": "2021-06-02T13:37:59.323Z"
    }
   },
   "outputs": [],
   "source": [
    "print('',call_count)\n",
    "print(pow(2,10))"
   ]
  },
  {
   "cell_type": "code",
   "execution_count": null,
   "metadata": {
    "ExecuteTime": {
     "end_time": "2021-06-02T13:37:59.528995Z",
     "start_time": "2021-06-02T13:37:59.326Z"
    }
   },
   "outputs": [],
   "source": [
    "from typing import Dict, List, Any\n",
    "def log_output(fun, result:Any, kw:Dict, check_state:List ) -> None:\n",
    "    for key in kw:\n",
    "        keyl = key.lower()\n",
    "        if  keyl in check_state:\n",
    "            if kw[key]:\n",
    "                eval('logger.'+keyl)(\"function: {}, result:{}\".format(fun.__name__,result))\n",
    "\n",
    "def log_call(*a, **kw):\n",
    "\n",
    "    \"\"\"\n",
    "        Decorator @log_call causes the wrapped funtion \n",
    "        to log at state given in **kw the \n",
    "        \"fucntion: {}, result:{}\".format(fun.__name__,result)\n",
    "\n",
    "    \"\"\"\n",
    "\n",
    "    def decorator(fun):\n",
    "        @wraps(fun)\n",
    "        def wrapper(*args, **kwargs):\n",
    "            #Pre\n",
    "            result = fun(*args, **kwargs)\n",
    "            #post:\n",
    "            check_state = ('debug', 'info', 'success', 'warning', 'error', 'critical')\n",
    "            log_output(fun, result, kw, check_state)\n",
    "            return result\n",
    "        return wrapper\n",
    "    return decorator"
   ]
  },
  {
   "cell_type": "code",
   "execution_count": null,
   "metadata": {
    "ExecuteTime": {
     "end_time": "2021-06-02T13:37:59.530567Z",
     "start_time": "2021-06-02T13:37:59.327Z"
    }
   },
   "outputs": [],
   "source": [
    "@log_call(ERROR=True)\n",
    "@add_one\n",
    "def pow(x,y):\n",
    "    return(x**y)"
   ]
  },
  {
   "cell_type": "code",
   "execution_count": null,
   "metadata": {
    "ExecuteTime": {
     "end_time": "2021-06-02T13:37:59.532316Z",
     "start_time": "2021-06-02T13:37:59.329Z"
    }
   },
   "outputs": [],
   "source": [
    "print(pow(2,10))\n",
    "print('',call_count)"
   ]
  },
  {
   "cell_type": "code",
   "execution_count": null,
   "metadata": {
    "ExecuteTime": {
     "end_time": "2021-06-02T13:37:59.533934Z",
     "start_time": "2021-06-02T13:37:59.331Z"
    }
   },
   "outputs": [],
   "source": [
    "@add_one\n",
    "@log_call(ERROR=True)\n",
    "def pow(x,y):\n",
    "    return(x**y)"
   ]
  },
  {
   "cell_type": "code",
   "execution_count": null,
   "metadata": {
    "ExecuteTime": {
     "end_time": "2021-06-02T13:37:59.535476Z",
     "start_time": "2021-06-02T13:37:59.333Z"
    }
   },
   "outputs": [],
   "source": [
    "print('',call_count)\n",
    "print(pow(2,100))\n"
   ]
  },
  {
   "cell_type": "code",
   "execution_count": null,
   "metadata": {},
   "outputs": [],
   "source": []
  }
 ],
 "metadata": {
  "kernelspec": {
   "display_name": "Python 3",
   "language": "python",
   "name": "python3"
  },
  "language_info": {
   "codemirror_mode": {
    "name": "ipython",
    "version": 3
   },
   "file_extension": ".py",
   "mimetype": "text/x-python",
   "name": "python",
   "nbconvert_exporter": "python",
   "pygments_lexer": "ipython3",
   "version": "3.7.6"
  },
  "toc": {
   "base_numbering": 1,
   "nav_menu": {},
   "number_sections": true,
   "sideBar": true,
   "skip_h1_title": false,
   "title_cell": "Table of Contents",
   "title_sidebar": "Contents",
   "toc_cell": false,
   "toc_position": {},
   "toc_section_display": true,
   "toc_window_display": true
  }
 },
 "nbformat": 4,
 "nbformat_minor": 5
}
