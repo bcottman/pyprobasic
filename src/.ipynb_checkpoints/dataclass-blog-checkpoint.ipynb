{
 "cells": [
  {
   "cell_type": "markdown",
   "metadata": {},
   "source": [
    "# pyprobasic"
   ]
  },
  {
   "cell_type": "markdown",
   "metadata": {
    "ExecuteTime": {
     "end_time": "2021-06-02T17:48:58.084140Z",
     "start_time": "2021-06-02T17:48:58.080434Z"
    }
   },
   "source": [
    "## @dataclass"
   ]
  },
  {
   "cell_type": "markdown",
   "metadata": {
    "heading_collapsed": true
   },
   "source": [
    "### import"
   ]
  },
  {
   "cell_type": "code",
   "execution_count": 1,
   "id": "db1b3f4a",
   "metadata": {
    "ExecuteTime": {
     "end_time": "2021-06-05T12:24:08.076655Z",
     "start_time": "2021-06-05T12:24:08.051508Z"
    },
    "hidden": true
   },
   "outputs": [],
   "source": [
    "from loguru import logger\n",
    "from functools import wraps\n",
    "from inspect import signature, getmembers\n",
    "from dataclasses import dataclass\n",
    "from typing import Dict, List, Any\n",
    "import sys\n"
   ]
  },
  {
   "cell_type": "markdown",
   "metadata": {
    "ExecuteTime": {
     "end_time": "2021-05-28T14:32:17.082957Z",
     "start_time": "2021-05-28T14:32:16.972859Z"
    },
    "hidden": true
   },
   "source": [
    "logger.debug(_message, *args, **kwargs)\n",
    "logger.info(_message, *args, **kwargs)\n",
    "logger.success(_message, *args, **kwargs)\n",
    "logger.warning(_message, *args, **kwargs)\n",
    "logger.error(_message, *args, **kwargs)\n",
    "logger.critical(_message, *args, **kwargs)"
   ]
  },
  {
   "cell_type": "markdown",
   "metadata": {
    "heading_collapsed": true
   },
   "source": [
    "### @dataclass"
   ]
  },
  {
   "cell_type": "code",
   "execution_count": 40,
   "metadata": {
    "ExecuteTime": {
     "end_time": "2021-06-05T16:55:10.788257Z",
     "start_time": "2021-06-05T16:55:10.780877Z"
    },
    "hidden": true
   },
   "outputs": [],
   "source": [
    "from dataclasses import dataclass\n",
    "from typing import Dict\n",
    "import numpy as np\n",
    "@dataclass\n",
    "class Data():\n",
    "    X: np.ndarray = None  # The field declaration: X\n",
    "    y: np.array = None    # The field declaration: y\n",
    "    kwargs: Dict = None   # The field declaration: kwargs"
   ]
  },
  {
   "cell_type": "code",
   "execution_count": 41,
   "metadata": {
    "ExecuteTime": {
     "end_time": "2021-06-05T16:55:21.324025Z",
     "start_time": "2021-06-05T16:55:21.317844Z"
    },
    "hidden": true
   },
   "outputs": [
    {
     "data": {
      "text/plain": [
       "True"
      ]
     },
     "execution_count": 41,
     "metadata": {},
     "output_type": "execute_result"
    }
   ],
   "source": [
    "data1 = Data()\n",
    "data2 = Data()\n",
    "data1 == data1"
   ]
  },
  {
   "cell_type": "code",
   "execution_count": 42,
   "metadata": {
    "ExecuteTime": {
     "end_time": "2021-06-05T16:55:25.594030Z",
     "start_time": "2021-06-05T16:55:25.585109Z"
    },
    "hidden": true
   },
   "outputs": [
    {
     "name": "stdout",
     "output_type": "stream",
     "text": [
      "Data(X=None, y=None, kwargs=None)\n"
     ]
    },
    {
     "data": {
      "text/plain": [
       "Data(X=None, y=None, kwargs=None)"
      ]
     },
     "execution_count": 42,
     "metadata": {},
     "output_type": "execute_result"
    }
   ],
   "source": [
    "print(data1)\n",
    "data1"
   ]
  },
  {
   "cell_type": "code",
   "execution_count": 23,
   "metadata": {
    "ExecuteTime": {
     "end_time": "2021-06-05T13:06:54.751450Z",
     "start_time": "2021-06-05T13:06:54.745242Z"
    },
    "hidden": true
   },
   "outputs": [],
   "source": [
    "@dataclass(unsafe_hash=True)\n",
    "class Data:\n",
    "    X: np.ndarray = None\n",
    "    y: np.array = None\n",
    "    kwargs: Dict = None\n",
    "        \n",
    "data3 = Data(1,2,3)"
   ]
  },
  {
   "cell_type": "code",
   "execution_count": 25,
   "metadata": {
    "ExecuteTime": {
     "end_time": "2021-06-05T13:08:45.070193Z",
     "start_time": "2021-06-05T13:08:45.064271Z"
    },
    "hidden": true
   },
   "outputs": [
    {
     "data": {
      "text/plain": [
       "{Data(X=1, y=2, kwargs=3): 2}"
      ]
     },
     "execution_count": 25,
     "metadata": {},
     "output_type": "execute_result"
    }
   ],
   "source": [
    "{data3:2}"
   ]
  },
  {
   "cell_type": "code",
   "execution_count": 28,
   "metadata": {
    "ExecuteTime": {
     "end_time": "2021-06-05T13:11:41.730904Z",
     "start_time": "2021-06-05T13:11:41.723870Z"
    },
    "hidden": true
   },
   "outputs": [],
   "source": [
    "class CrossValidation:\n",
    "    def __init__(self, inner_cv, outer_cv,\n",
    "                     eval_final_performance, test_size,\n",
    "                     calculate_metrics_per_fold,\n",
    "                     calculate_metrics_across_folds):\n",
    "            self.inner_cv = inner_cv\n",
    "            self.outer_cv = outer_cv\n",
    "            self.eval_final_performance = eval_final_performance\n",
    "            self.test_size = test_size\n",
    "            self.calculate_metrics_per_fold = calculate_metrics_per_fold\n",
    "            self.calculate_metrics_across_folds = calculate_metrics_across_folds\n",
    "            self.outer_folds = None\n",
    "            self.inner_folds = dict()"
   ]
  },
  {
   "cell_type": "code",
   "execution_count": 30,
   "metadata": {
    "ExecuteTime": {
     "end_time": "2021-06-05T13:20:00.586306Z",
     "start_time": "2021-06-05T13:20:00.580036Z"
    },
    "hidden": true
   },
   "outputs": [],
   "source": [
    "@dataclass\n",
    "class CrossValidation:\n",
    "    inner_cv: int\n",
    "    outer_cv: int\n",
    "    eval_final_performance: bool = True\n",
    "    test_size: float = 0.2\n",
    "    calculate_metrics_per_fold: bool = True\n",
    "    calculate_metrics_across_folds: bool = False\n",
    "    outer_folds = None\n",
    "    inner_folds = dict()"
   ]
  },
  {
   "cell_type": "code",
   "execution_count": 31,
   "metadata": {
    "ExecuteTime": {
     "end_time": "2021-06-05T13:26:27.897657Z",
     "start_time": "2021-06-05T13:26:27.884882Z"
    },
    "hidden": true
   },
   "outputs": [
    {
     "ename": "TypeError",
     "evalue": "__init__() missing 2 required positional arguments: 'inner_cv' and 'outer_cv'",
     "output_type": "error",
     "traceback": [
      "\u001b[0;31m---------------------------------------------------------------------------\u001b[0m",
      "\u001b[0;31mTypeError\u001b[0m                                 Traceback (most recent call last)",
      "\u001b[0;32m<ipython-input-31-d13dba9669ad>\u001b[0m in \u001b[0;36m<module>\u001b[0;34m\u001b[0m\n\u001b[0;32m----> 1\u001b[0;31m \u001b[0mcv1\u001b[0m \u001b[0;34m=\u001b[0m \u001b[0mCrossValidation\u001b[0m\u001b[0;34m(\u001b[0m\u001b[0;34m)\u001b[0m\u001b[0;34m\u001b[0m\u001b[0;34m\u001b[0m\u001b[0m\n\u001b[0m",
      "\u001b[0;31mTypeError\u001b[0m: __init__() missing 2 required positional arguments: 'inner_cv' and 'outer_cv'"
     ]
    }
   ],
   "source": [
    "cv1 = CrossValidation()"
   ]
  },
  {
   "cell_type": "code",
   "execution_count": 32,
   "metadata": {
    "ExecuteTime": {
     "end_time": "2021-06-05T13:38:50.463492Z",
     "start_time": "2021-06-05T13:38:50.454568Z"
    },
    "hidden": true
   },
   "outputs": [
    {
     "name": "stdout",
     "output_type": "stream",
     "text": [
      "CrossValidation(inner_cv=1, outer_cv=2, eval_final_performance=True, test_size=0.2, calculate_metrics_per_fold=True, calculate_metrics_across_folds=False)\n"
     ]
    },
    {
     "data": {
      "text/plain": [
       "CrossValidation(inner_cv=3, outer_cv=2, eval_final_performance=True, test_size=0.5, calculate_metrics_per_fold=True, calculate_metrics_across_folds=False)"
      ]
     },
     "execution_count": 32,
     "metadata": {},
     "output_type": "execute_result"
    }
   ],
   "source": [
    "cv1 = CrossValidation(1,2)\n",
    "cv2 = CrossValidation(1,2)\n",
    "cv3 = CrossValidation(3,2,test_size=0.5)\n",
    "print(cv1)\n",
    "cv3"
   ]
  },
  {
   "cell_type": "code",
   "execution_count": 33,
   "metadata": {
    "ExecuteTime": {
     "end_time": "2021-06-05T14:01:37.629160Z",
     "start_time": "2021-06-05T14:01:37.622771Z"
    },
    "hidden": true
   },
   "outputs": [
    {
     "data": {
      "text/plain": [
       "True"
      ]
     },
     "execution_count": 33,
     "metadata": {},
     "output_type": "execute_result"
    }
   ],
   "source": [
    "cv1 == cv2"
   ]
  },
  {
   "cell_type": "code",
   "execution_count": 34,
   "metadata": {
    "ExecuteTime": {
     "end_time": "2021-06-05T14:01:45.755629Z",
     "start_time": "2021-06-05T14:01:45.748891Z"
    },
    "hidden": true
   },
   "outputs": [
    {
     "data": {
      "text/plain": [
       "False"
      ]
     },
     "execution_count": 34,
     "metadata": {},
     "output_type": "execute_result"
    }
   ],
   "source": [
    "cv1 == cv3"
   ]
  },
  {
   "cell_type": "markdown",
   "metadata": {
    "heading_collapsed": true
   },
   "source": [
    "### Inspecting @dataclass Generation of def class boilerplate"
   ]
  },
  {
   "cell_type": "code",
   "execution_count": 35,
   "metadata": {
    "ExecuteTime": {
     "end_time": "2021-06-05T14:17:06.214263Z",
     "start_time": "2021-06-05T14:17:06.209024Z"
    },
    "hidden": true
   },
   "outputs": [
    {
     "name": "stdout",
     "output_type": "stream",
     "text": [
      "(X: numpy.ndarray = None, y: <built-in function array> = None, kwargs: Dict = None) -> None\n"
     ]
    }
   ],
   "source": [
    "print(signature(data1.__init__))"
   ]
  },
  {
   "cell_type": "code",
   "execution_count": 36,
   "metadata": {
    "ExecuteTime": {
     "end_time": "2021-06-05T15:05:18.848856Z",
     "start_time": "2021-06-05T15:05:18.843895Z"
    },
    "hidden": true
   },
   "outputs": [
    {
     "name": "stdout",
     "output_type": "stream",
     "text": [
      "(other)\n"
     ]
    }
   ],
   "source": [
    "print(signature(data1.__eq__))"
   ]
  },
  {
   "cell_type": "code",
   "execution_count": null,
   "metadata": {
    "hidden": true
   },
   "outputs": [],
   "source": [
    "help(Data)"
   ]
  },
  {
   "cell_type": "code",
   "execution_count": 20,
   "metadata": {
    "ExecuteTime": {
     "end_time": "2021-06-05T12:56:57.526405Z",
     "start_time": "2021-06-05T12:56:57.514417Z"
    },
    "hidden": true
   },
   "outputs": [
    {
     "data": {
      "text/plain": [
       "[('X', None),\n",
       " ('__annotations__',\n",
       "  {'X': numpy.ndarray, 'y': <function numpy.array>, 'kwargs': typing.Dict}),\n",
       " ('__class__', type),\n",
       " ('__dataclass_fields__',\n",
       "  {'X': Field(name='X',type=<class 'numpy.ndarray'>,default=None,default_factory=<dataclasses._MISSING_TYPE object at 0x7f44a4676890>,init=True,repr=True,hash=None,compare=True,metadata=mappingproxy({}),_field_type=_FIELD),\n",
       "   'y': Field(name='y',type=<built-in function array>,default=None,default_factory=<dataclasses._MISSING_TYPE object at 0x7f44a4676890>,init=True,repr=True,hash=None,compare=True,metadata=mappingproxy({}),_field_type=_FIELD),\n",
       "   'kwargs': Field(name='kwargs',type=typing.Dict,default=None,default_factory=<dataclasses._MISSING_TYPE object at 0x7f44a4676890>,init=True,repr=True,hash=None,compare=True,metadata=mappingproxy({}),_field_type=_FIELD)}),\n",
       " ('__dataclass_params__',\n",
       "  _DataclassParams(init=True,repr=True,eq=True,order=False,unsafe_hash=False,frozen=False)),\n",
       " ('__delattr__', <slot wrapper '__delattr__' of 'object' objects>),\n",
       " ('__dict__',\n",
       "  mappingproxy({'__module__': '__main__',\n",
       "                '__annotations__': {'X': numpy.ndarray,\n",
       "                 'y': <function numpy.array>,\n",
       "                 'kwargs': typing.Dict},\n",
       "                'X': None,\n",
       "                'y': None,\n",
       "                'kwargs': None,\n",
       "                '__dict__': <attribute '__dict__' of 'Data' objects>,\n",
       "                '__weakref__': <attribute '__weakref__' of 'Data' objects>,\n",
       "                '__doc__': 'Data(X: numpy.ndarray = None, y: <built-in function array> = None, kwargs: Dict = None)',\n",
       "                '__dataclass_params__': _DataclassParams(init=True,repr=True,eq=True,order=False,unsafe_hash=False,frozen=False),\n",
       "                '__dataclass_fields__': {'X': Field(name='X',type=<class 'numpy.ndarray'>,default=None,default_factory=<dataclasses._MISSING_TYPE object at 0x7f44a4676890>,init=True,repr=True,hash=None,compare=True,metadata=mappingproxy({}),_field_type=_FIELD),\n",
       "                 'y': Field(name='y',type=<built-in function array>,default=None,default_factory=<dataclasses._MISSING_TYPE object at 0x7f44a4676890>,init=True,repr=True,hash=None,compare=True,metadata=mappingproxy({}),_field_type=_FIELD),\n",
       "                 'kwargs': Field(name='kwargs',type=typing.Dict,default=None,default_factory=<dataclasses._MISSING_TYPE object at 0x7f44a4676890>,init=True,repr=True,hash=None,compare=True,metadata=mappingproxy({}),_field_type=_FIELD)},\n",
       "                '__init__': <function __main__.__create_fn__.<locals>.__init__(self, X: numpy.ndarray = None, y: <built-in function array> = None, kwargs: Dict = None) -> None>,\n",
       "                '__repr__': <function __main__.__create_fn__.<locals>.__repr__(self)>,\n",
       "                '__eq__': <function __main__.__create_fn__.<locals>.__eq__(self, other)>,\n",
       "                '__hash__': None})),\n",
       " ('__dir__', <method '__dir__' of 'object' objects>),\n",
       " ('__doc__',\n",
       "  'Data(X: numpy.ndarray = None, y: <built-in function array> = None, kwargs: Dict = None)'),\n",
       " ('__eq__', <function __main__.__create_fn__.<locals>.__eq__(self, other)>),\n",
       " ('__format__', <method '__format__' of 'object' objects>),\n",
       " ('__ge__', <slot wrapper '__ge__' of 'object' objects>),\n",
       " ('__getattribute__', <slot wrapper '__getattribute__' of 'object' objects>),\n",
       " ('__gt__', <slot wrapper '__gt__' of 'object' objects>),\n",
       " ('__hash__', None),\n",
       " ('__init__',\n",
       "  <function __main__.__create_fn__.<locals>.__init__(self, X: numpy.ndarray = None, y: <built-in function array> = None, kwargs: Dict = None) -> None>),\n",
       " ('__init_subclass__', <function Data.__init_subclass__>),\n",
       " ('__le__', <slot wrapper '__le__' of 'object' objects>),\n",
       " ('__lt__', <slot wrapper '__lt__' of 'object' objects>),\n",
       " ('__module__', '__main__'),\n",
       " ('__ne__', <slot wrapper '__ne__' of 'object' objects>),\n",
       " ('__new__', <function object.__new__(*args, **kwargs)>),\n",
       " ('__reduce__', <method '__reduce__' of 'object' objects>),\n",
       " ('__reduce_ex__', <method '__reduce_ex__' of 'object' objects>),\n",
       " ('__repr__', <function __main__.__create_fn__.<locals>.__repr__(self)>),\n",
       " ('__setattr__', <slot wrapper '__setattr__' of 'object' objects>),\n",
       " ('__sizeof__', <method '__sizeof__' of 'object' objects>),\n",
       " ('__str__', <slot wrapper '__str__' of 'object' objects>),\n",
       " ('__subclasshook__', <function Data.__subclasshook__>),\n",
       " ('__weakref__', <attribute '__weakref__' of 'Data' objects>),\n",
       " ('kwargs', None),\n",
       " ('y', None)]"
      ]
     },
     "execution_count": 20,
     "metadata": {},
     "output_type": "execute_result"
    }
   ],
   "source": [
    "getmembers(Data)"
   ]
  },
  {
   "cell_type": "markdown",
   "metadata": {
    "heading_collapsed": true
   },
   "source": [
    "### aguments for @dataclass"
   ]
  },
  {
   "cell_type": "markdown",
   "metadata": {
    "hidden": true
   },
   "source": [
    "Clicking shift-<tab> shows the signature and the default for all argumens for @dataclass."
   ]
  },
  {
   "cell_type": "code",
   "execution_count": null,
   "metadata": {
    "hidden": true
   },
   "outputs": [],
   "source": [
    "#@dataclass"
   ]
  },
  {
   "cell_type": "code",
   "execution_count": 57,
   "metadata": {
    "ExecuteTime": {
     "end_time": "2021-06-05T18:06:57.546688Z",
     "start_time": "2021-06-05T18:06:57.538968Z"
    },
    "hidden": true
   },
   "outputs": [],
   "source": [
    "class Data():\n",
    "    X: np.ndarray = None  # The field declaration: X\n",
    "    y: np.array = None    # The field declaration: y\n",
    "    kwargs: Dict = None   # The field declaration: kwargs\n",
    "#  ... default autogenerated methods, plus\n",
    "    def __ge__(self, other):\n",
    "        return self.val >= other.val\n",
    "    def __gt__(self, other):\n",
    "        return self.val > other.val\n",
    "    def __le__(self, other):\n",
    "        return self.val <= other.val\n",
    "    def __lt__(self, other):\n",
    "        return self.val < other.val"
   ]
  },
  {
   "cell_type": "code",
   "execution_count": 58,
   "metadata": {
    "ExecuteTime": {
     "end_time": "2021-06-05T18:07:01.963402Z",
     "start_time": "2021-06-05T18:07:01.957201Z"
    },
    "hidden": true
   },
   "outputs": [],
   "source": [
    "@dataclass(order = True)\n",
    "class Data():\n",
    "    X: np.ndarray = None  # The field declaration: X\n",
    "    y: np.array = None    # The field declaration: y\n",
    "    kwargs: Dict = None   # The field declaration: kwargs"
   ]
  },
  {
   "cell_type": "code",
   "execution_count": 59,
   "metadata": {
    "ExecuteTime": {
     "end_time": "2021-06-05T18:07:05.568350Z",
     "start_time": "2021-06-05T18:07:05.560836Z"
    },
    "hidden": true
   },
   "outputs": [
    {
     "name": "stdout",
     "output_type": "stream",
     "text": [
      "False\n",
      "True\n",
      "False\n",
      "True\n"
     ]
    }
   ],
   "source": [
    "print(data1 > data2)\n",
    "print(data1 >= data2)\n",
    "print(data1 < data2)\n",
    "print(data1 <= data2)"
   ]
  },
  {
   "cell_type": "code",
   "execution_count": null,
   "metadata": {
    "hidden": true
   },
   "outputs": [],
   "source": [
    "help(Data)"
   ]
  },
  {
   "cell_type": "code",
   "execution_count": null,
   "metadata": {
    "hidden": true
   },
   "outputs": [],
   "source": []
  },
  {
   "cell_type": "code",
   "execution_count": null,
   "metadata": {
    "hidden": true
   },
   "outputs": [],
   "source": []
  },
  {
   "cell_type": "code",
   "execution_count": null,
   "metadata": {
    "hidden": true
   },
   "outputs": [],
   "source": []
  },
  {
   "cell_type": "markdown",
   "metadata": {},
   "source": [
    "### explicit @property and @setproperty boilerplate no longer needed"
   ]
  },
  {
   "cell_type": "markdown",
   "metadata": {},
   "source": [
    "The is so much easier to read and it is intutive"
   ]
  },
  {
   "cell_type": "code",
   "execution_count": 3,
   "metadata": {
    "ExecuteTime": {
     "end_time": "2021-06-05T12:24:08.305661Z",
     "start_time": "2021-06-05T12:24:08.301663Z"
    }
   },
   "outputs": [],
   "source": [
    "d = Data()\n",
    "d.kwargs"
   ]
  },
  {
   "cell_type": "code",
   "execution_count": 4,
   "metadata": {
    "ExecuteTime": {
     "end_time": "2021-06-05T12:24:08.323302Z",
     "start_time": "2021-06-05T12:24:08.308368Z"
    }
   },
   "outputs": [
    {
     "data": {
      "text/plain": [
       "1"
      ]
     },
     "execution_count": 4,
     "metadata": {},
     "output_type": "execute_result"
    }
   ],
   "source": [
    "d.kwargs = 1\n",
    "d.kwargs"
   ]
  },
  {
   "cell_type": "markdown",
   "metadata": {},
   "source": [
    "Notice type hints are ignored"
   ]
  },
  {
   "cell_type": "markdown",
   "metadata": {},
   "source": [
    "### Using __slots__"
   ]
  },
  {
   "cell_type": "code",
   "execution_count": 10,
   "id": "27076816",
   "metadata": {
    "ExecuteTime": {
     "end_time": "2021-06-05T12:24:08.499987Z",
     "start_time": "2021-06-05T12:24:08.382043Z"
    }
   },
   "outputs": [
    {
     "ename": "ValueError",
     "evalue": "'debug' in __slots__ conflicts with class variable",
     "output_type": "error",
     "traceback": [
      "\u001b[0;31m---------------------------------------------------------------------------\u001b[0m",
      "\u001b[0;31mValueError\u001b[0m                                Traceback (most recent call last)",
      "\u001b[0;32m<ipython-input-10-1fe65e57e2fd>\u001b[0m in \u001b[0;36m<module>\u001b[0;34m\u001b[0m\n\u001b[0;32m----> 1\u001b[0;31m \u001b[0;34m@\u001b[0m\u001b[0mdataclass\u001b[0m\u001b[0;34m\u001b[0m\u001b[0;34m\u001b[0m\u001b[0m\n\u001b[0m\u001b[1;32m      2\u001b[0m \u001b[0;32mclass\u001b[0m \u001b[0mLoggingState\u001b[0m\u001b[0;34m:\u001b[0m\u001b[0;34m\u001b[0m\u001b[0;34m\u001b[0m\u001b[0m\n\u001b[1;32m      3\u001b[0m     \u001b[0m__slots__\u001b[0m \u001b[0;34m=\u001b[0m  \u001b[0;34m[\u001b[0m\u001b[0;34m'debug'\u001b[0m\u001b[0;34m,\u001b[0m \u001b[0;34m'info'\u001b[0m\u001b[0;34m,\u001b[0m \u001b[0;34m'success'\u001b[0m\u001b[0;34m,\u001b[0m \u001b[0;34m'warning'\u001b[0m\u001b[0;34m,\u001b[0m \u001b[0;34m'critical'\u001b[0m\u001b[0;34m]\u001b[0m\u001b[0;34m\u001b[0m\u001b[0;34m\u001b[0m\u001b[0m\n\u001b[1;32m      4\u001b[0m     \u001b[0mdebug\u001b[0m\u001b[0;34m:\u001b[0m \u001b[0mbool\u001b[0m  \u001b[0;34m=\u001b[0m \u001b[0;32mFalse\u001b[0m\u001b[0;34m\u001b[0m\u001b[0;34m\u001b[0m\u001b[0m\n\u001b[1;32m      5\u001b[0m     \u001b[0minfo\u001b[0m\u001b[0;34m:\u001b[0m \u001b[0mbool\u001b[0m \u001b[0;34m=\u001b[0m \u001b[0;32mFalse\u001b[0m\u001b[0;34m\u001b[0m\u001b[0;34m\u001b[0m\u001b[0m\n",
      "\u001b[0;31mValueError\u001b[0m: 'debug' in __slots__ conflicts with class variable"
     ]
    }
   ],
   "source": [
    "@dataclass\n",
    "class LoggingState:\n",
    "    __slots__ =  ['debug', 'info', 'success', 'warning', 'critical']\n",
    "    debug: bool  = False\n",
    "    info: bool = False\n",
    "    success: bool  = False\n",
    "    warning: bool  = False\n",
    "    error: bool = True\n",
    "    critical: bool  = False"
   ]
  },
  {
   "cell_type": "code",
   "execution_count": 11,
   "metadata": {
    "ExecuteTime": {
     "end_time": "2021-06-05T12:24:54.009240Z",
     "start_time": "2021-06-05T12:24:54.002872Z"
    }
   },
   "outputs": [],
   "source": [
    "@dataclass\n",
    "class LoggingState:\n",
    "    __slots__ =  ['debug', 'info', 'success', 'warning', 'error', 'critical']\n",
    "    debug: bool\n",
    "    info: bool\n",
    "    success: bool\n",
    "    warning: bool\n",
    "    error: bool\n",
    "    critical: bool"
   ]
  },
  {
   "cell_type": "code",
   "execution_count": 12,
   "metadata": {
    "ExecuteTime": {
     "end_time": "2021-06-05T12:24:54.021501Z",
     "start_time": "2021-06-05T12:24:54.011963Z"
    }
   },
   "outputs": [],
   "source": [
    "logg = LoggingState(debug=False, info=False, success=False, warning=True, error=True, critical=True )"
   ]
  },
  {
   "cell_type": "code",
   "execution_count": 13,
   "metadata": {
    "ExecuteTime": {
     "end_time": "2021-06-05T12:24:54.034927Z",
     "start_time": "2021-06-05T12:24:54.025197Z"
    }
   },
   "outputs": [
    {
     "name": "stdout",
     "output_type": "stream",
     "text": [
      "Help on class LoggingState in module __main__:\n",
      "\n",
      "class LoggingState(builtins.object)\n",
      " |  LoggingState(debug: bool, info: bool, success: bool, warning: bool, error: bool, critical: bool) -> None\n",
      " |  \n",
      " |  LoggingState(debug: bool, info: bool, success: bool, warning: bool, error: bool, critical: bool)\n",
      " |  \n",
      " |  Methods defined here:\n",
      " |  \n",
      " |  __eq__(self, other)\n",
      " |  \n",
      " |  __init__(self, debug: bool, info: bool, success: bool, warning: bool, error: bool, critical: bool) -> None\n",
      " |  \n",
      " |  __repr__(self)\n",
      " |  \n",
      " |  ----------------------------------------------------------------------\n",
      " |  Data descriptors defined here:\n",
      " |  \n",
      " |  critical\n",
      " |  \n",
      " |  debug\n",
      " |  \n",
      " |  error\n",
      " |  \n",
      " |  info\n",
      " |  \n",
      " |  success\n",
      " |  \n",
      " |  warning\n",
      " |  \n",
      " |  ----------------------------------------------------------------------\n",
      " |  Data and other attributes defined here:\n",
      " |  \n",
      " |  __annotations__ = {'critical': <class 'bool'>, 'debug': <class 'bool'>...\n",
      " |  \n",
      " |  __dataclass_fields__ = {'critical': Field(name='critical',type=<class ...\n",
      " |  \n",
      " |  __dataclass_params__ = _DataclassParams(init=True,repr=True,eq=True,or...\n",
      " |  \n",
      " |  __hash__ = None\n",
      "\n"
     ]
    }
   ],
   "source": [
    "help(LoggingState)"
   ]
  },
  {
   "cell_type": "code",
   "execution_count": 14,
   "metadata": {
    "ExecuteTime": {
     "end_time": "2021-06-05T12:24:54.049474Z",
     "start_time": "2021-06-05T12:24:54.038565Z"
    }
   },
   "outputs": [
    {
     "data": {
      "text/plain": [
       "[('__annotations__',\n",
       "  {'debug': bool,\n",
       "   'info': bool,\n",
       "   'success': bool,\n",
       "   'warning': bool,\n",
       "   'error': bool,\n",
       "   'critical': bool}),\n",
       " ('__class__', type),\n",
       " ('__dataclass_fields__',\n",
       "  {'debug': Field(name='debug',type=<class 'bool'>,default=<dataclasses._MISSING_TYPE object at 0x7f44a4676890>,default_factory=<dataclasses._MISSING_TYPE object at 0x7f44a4676890>,init=True,repr=True,hash=None,compare=True,metadata=mappingproxy({}),_field_type=_FIELD),\n",
       "   'info': Field(name='info',type=<class 'bool'>,default=<dataclasses._MISSING_TYPE object at 0x7f44a4676890>,default_factory=<dataclasses._MISSING_TYPE object at 0x7f44a4676890>,init=True,repr=True,hash=None,compare=True,metadata=mappingproxy({}),_field_type=_FIELD),\n",
       "   'success': Field(name='success',type=<class 'bool'>,default=<dataclasses._MISSING_TYPE object at 0x7f44a4676890>,default_factory=<dataclasses._MISSING_TYPE object at 0x7f44a4676890>,init=True,repr=True,hash=None,compare=True,metadata=mappingproxy({}),_field_type=_FIELD),\n",
       "   'warning': Field(name='warning',type=<class 'bool'>,default=<dataclasses._MISSING_TYPE object at 0x7f44a4676890>,default_factory=<dataclasses._MISSING_TYPE object at 0x7f44a4676890>,init=True,repr=True,hash=None,compare=True,metadata=mappingproxy({}),_field_type=_FIELD),\n",
       "   'error': Field(name='error',type=<class 'bool'>,default=<dataclasses._MISSING_TYPE object at 0x7f44a4676890>,default_factory=<dataclasses._MISSING_TYPE object at 0x7f44a4676890>,init=True,repr=True,hash=None,compare=True,metadata=mappingproxy({}),_field_type=_FIELD),\n",
       "   'critical': Field(name='critical',type=<class 'bool'>,default=<dataclasses._MISSING_TYPE object at 0x7f44a4676890>,default_factory=<dataclasses._MISSING_TYPE object at 0x7f44a4676890>,init=True,repr=True,hash=None,compare=True,metadata=mappingproxy({}),_field_type=_FIELD)}),\n",
       " ('__dataclass_params__',\n",
       "  _DataclassParams(init=True,repr=True,eq=True,order=False,unsafe_hash=False,frozen=False)),\n",
       " ('__delattr__', <slot wrapper '__delattr__' of 'object' objects>),\n",
       " ('__dir__', <method '__dir__' of 'object' objects>),\n",
       " ('__doc__',\n",
       "  'LoggingState(debug: bool, info: bool, success: bool, warning: bool, error: bool, critical: bool)'),\n",
       " ('__eq__', <function __main__.__create_fn__.<locals>.__eq__(self, other)>),\n",
       " ('__format__', <method '__format__' of 'object' objects>),\n",
       " ('__ge__', <slot wrapper '__ge__' of 'object' objects>),\n",
       " ('__getattribute__', <slot wrapper '__getattribute__' of 'object' objects>),\n",
       " ('__gt__', <slot wrapper '__gt__' of 'object' objects>),\n",
       " ('__hash__', None),\n",
       " ('__init__',\n",
       "  <function __main__.__create_fn__.<locals>.__init__(self, debug: bool, info: bool, success: bool, warning: bool, error: bool, critical: bool) -> None>),\n",
       " ('__init_subclass__', <function LoggingState.__init_subclass__>),\n",
       " ('__le__', <slot wrapper '__le__' of 'object' objects>),\n",
       " ('__lt__', <slot wrapper '__lt__' of 'object' objects>),\n",
       " ('__module__', '__main__'),\n",
       " ('__ne__', <slot wrapper '__ne__' of 'object' objects>),\n",
       " ('__new__', <function object.__new__(*args, **kwargs)>),\n",
       " ('__reduce__', <method '__reduce__' of 'object' objects>),\n",
       " ('__reduce_ex__', <method '__reduce_ex__' of 'object' objects>),\n",
       " ('__repr__', <function __main__.__create_fn__.<locals>.__repr__(self)>),\n",
       " ('__setattr__', <slot wrapper '__setattr__' of 'object' objects>),\n",
       " ('__sizeof__', <method '__sizeof__' of 'object' objects>),\n",
       " ('__slots__', ['debug', 'info', 'success', 'warning', 'error', 'critical']),\n",
       " ('__str__', <slot wrapper '__str__' of 'object' objects>),\n",
       " ('__subclasshook__', <function LoggingState.__subclasshook__>),\n",
       " ('critical', <member 'critical' of 'LoggingState' objects>),\n",
       " ('debug', <member 'debug' of 'LoggingState' objects>),\n",
       " ('error', <member 'error' of 'LoggingState' objects>),\n",
       " ('info', <member 'info' of 'LoggingState' objects>),\n",
       " ('success', <member 'success' of 'LoggingState' objects>),\n",
       " ('warning', <member 'warning' of 'LoggingState' objects>)]"
      ]
     },
     "execution_count": 14,
     "metadata": {},
     "output_type": "execute_result"
    }
   ],
   "source": [
    "getmembers(LoggingState)"
   ]
  },
  {
   "cell_type": "code",
   "execution_count": 15,
   "metadata": {
    "ExecuteTime": {
     "end_time": "2021-06-05T12:24:54.059258Z",
     "start_time": "2021-06-05T12:24:54.052054Z"
    }
   },
   "outputs": [],
   "source": [
    "@dataclass(init=True, repr=False, eq=False, order=False, unsafe_hash=False, frozen=False)\n",
    "class LoggingState:\n",
    "    __slots__ =  ['debug', 'info', 'success', 'warning', 'error', 'critical']\n",
    "    debug: bool\n",
    "    info: bool\n",
    "    success: bool\n",
    "    warning: bool\n",
    "    error: bool\n",
    "    critical: bool"
   ]
  },
  {
   "cell_type": "code",
   "execution_count": 16,
   "metadata": {
    "ExecuteTime": {
     "end_time": "2021-06-05T12:24:54.072244Z",
     "start_time": "2021-06-05T12:24:54.061739Z"
    }
   },
   "outputs": [
    {
     "name": "stdout",
     "output_type": "stream",
     "text": [
      "Help on class LoggingState in module __main__:\n",
      "\n",
      "class LoggingState(builtins.object)\n",
      " |  LoggingState(debug: bool, info: bool, success: bool, warning: bool, error: bool, critical: bool) -> None\n",
      " |  \n",
      " |  LoggingState(debug: bool, info: bool, success: bool, warning: bool, error: bool, critical: bool)\n",
      " |  \n",
      " |  Methods defined here:\n",
      " |  \n",
      " |  __init__(self, debug: bool, info: bool, success: bool, warning: bool, error: bool, critical: bool) -> None\n",
      " |  \n",
      " |  ----------------------------------------------------------------------\n",
      " |  Data descriptors defined here:\n",
      " |  \n",
      " |  critical\n",
      " |  \n",
      " |  debug\n",
      " |  \n",
      " |  error\n",
      " |  \n",
      " |  info\n",
      " |  \n",
      " |  success\n",
      " |  \n",
      " |  warning\n",
      " |  \n",
      " |  ----------------------------------------------------------------------\n",
      " |  Data and other attributes defined here:\n",
      " |  \n",
      " |  __annotations__ = {'critical': <class 'bool'>, 'debug': <class 'bool'>...\n",
      " |  \n",
      " |  __dataclass_fields__ = {'critical': Field(name='critical',type=<class ...\n",
      " |  \n",
      " |  __dataclass_params__ = _DataclassParams(init=True,repr=False,eq=False,...\n",
      "\n"
     ]
    }
   ],
   "source": [
    "help(LoggingState)"
   ]
  },
  {
   "cell_type": "code",
   "execution_count": null,
   "metadata": {},
   "outputs": [],
   "source": []
  },
  {
   "cell_type": "code",
   "execution_count": null,
   "metadata": {},
   "outputs": [],
   "source": []
  },
  {
   "cell_type": "markdown",
   "metadata": {},
   "source": [
    "### Adding a method"
   ]
  },
  {
   "cell_type": "code",
   "execution_count": null,
   "metadata": {},
   "outputs": [],
   "source": []
  },
  {
   "cell_type": "code",
   "execution_count": null,
   "metadata": {},
   "outputs": [],
   "source": []
  },
  {
   "cell_type": "markdown",
   "metadata": {},
   "source": [
    "### Immutable Data Classes"
   ]
  },
  {
   "cell_type": "code",
   "execution_count": null,
   "metadata": {},
   "outputs": [],
   "source": []
  },
  {
   "cell_type": "code",
   "execution_count": null,
   "metadata": {},
   "outputs": [],
   "source": []
  },
  {
   "cell_type": "markdown",
   "metadata": {},
   "source": [
    "### Post-Init Processing"
   ]
  },
  {
   "cell_type": "code",
   "execution_count": null,
   "metadata": {},
   "outputs": [],
   "source": []
  },
  {
   "cell_type": "code",
   "execution_count": null,
   "metadata": {},
   "outputs": [],
   "source": []
  },
  {
   "cell_type": "markdown",
   "metadata": {},
   "source": [
    "### Inheritance"
   ]
  },
  {
   "cell_type": "code",
   "execution_count": null,
   "metadata": {},
   "outputs": [],
   "source": []
  },
  {
   "cell_type": "code",
   "execution_count": null,
   "metadata": {},
   "outputs": [],
   "source": []
  },
  {
   "cell_type": "code",
   "execution_count": null,
   "metadata": {},
   "outputs": [],
   "source": []
  },
  {
   "cell_type": "markdown",
   "metadata": {},
   "source": []
  },
  {
   "cell_type": "code",
   "execution_count": null,
   "metadata": {
    "ExecuteTime": {
     "end_time": "2021-06-04T20:32:33.622032Z",
     "start_time": "2021-06-04T20:32:33.614662Z"
    }
   },
   "outputs": [],
   "source": []
  },
  {
   "cell_type": "code",
   "execution_count": null,
   "metadata": {
    "ExecuteTime": {
     "end_time": "2021-06-04T20:32:40.651004Z",
     "start_time": "2021-06-04T20:32:40.643538Z"
    }
   },
   "outputs": [],
   "source": []
  },
  {
   "cell_type": "code",
   "execution_count": null,
   "metadata": {},
   "outputs": [],
   "source": []
  },
  {
   "cell_type": "code",
   "execution_count": null,
   "metadata": {},
   "outputs": [],
   "source": []
  },
  {
   "cell_type": "code",
   "execution_count": null,
   "metadata": {},
   "outputs": [],
   "source": []
  }
 ],
 "metadata": {
  "kernelspec": {
   "display_name": "Python 3",
   "language": "python",
   "name": "python3"
  },
  "language_info": {
   "codemirror_mode": {
    "name": "ipython",
    "version": 3
   },
   "file_extension": ".py",
   "mimetype": "text/x-python",
   "name": "python",
   "nbconvert_exporter": "python",
   "pygments_lexer": "ipython3",
   "version": "3.7.6"
  },
  "toc": {
   "base_numbering": 1,
   "nav_menu": {},
   "number_sections": true,
   "sideBar": true,
   "skip_h1_title": false,
   "title_cell": "Table of Contents",
   "title_sidebar": "Contents",
   "toc_cell": false,
   "toc_position": {},
   "toc_section_display": true,
   "toc_window_display": true
  }
 },
 "nbformat": 4,
 "nbformat_minor": 5
}
