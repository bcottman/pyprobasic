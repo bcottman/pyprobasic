{
 "cells": [
  {
   "cell_type": "code",
   "execution_count": 1,
   "id": "db1b3f4a",
   "metadata": {
    "ExecuteTime": {
     "end_time": "2021-05-28T14:32:16.943773Z",
     "start_time": "2021-05-28T14:32:16.907752Z"
    }
   },
   "outputs": [
    {
     "name": "stderr",
     "output_type": "stream",
     "text": [
      "2021-05-28 14:32:16.936 | INFO     | __main__:<module>:3 - Straightforward logging. Replace your informative print statements\n",
      "2021-05-28 14:32:16.937 | INFO     | __main__:<module>:4 - Continue logging.\n",
      "2021-05-28 14:32:16.939 | INFO     | __main__:<module>:5 - and Yet Again Continue logging.\n"
     ]
    }
   ],
   "source": [
    "from loguru import logger\n",
    "import sys\n",
    "logger.info(\"Straightforward logging. Replace your informative print statements\")\n",
    "logger.info(\"Continue logging.\")\n",
    "logger.info(\"and Yet Again Continue logging.\")"
   ]
  },
  {
   "cell_type": "code",
   "execution_count": 2,
   "id": "665c293b",
   "metadata": {
    "ExecuteTime": {
     "end_time": "2021-05-28T14:32:16.953865Z",
     "start_time": "2021-05-28T14:32:16.947151Z"
    }
   },
   "outputs": [
    {
     "name": "stderr",
     "output_type": "stream",
     "text": [
      "2021-05-28 14:32:16.949 | ERROR    | __main__:betterThanPrint:2 - cool: logging\n"
     ]
    }
   ],
   "source": [
    "def betterThanPrint(msg):\n",
    "    logger.error(\"cool: {}\".format(msg))\n",
    "betterThanPrint('logging')"
   ]
  },
  {
   "cell_type": "code",
   "execution_count": 3,
   "id": "5fa83c41",
   "metadata": {
    "ExecuteTime": {
     "end_time": "2021-05-28T14:32:16.963003Z",
     "start_time": "2021-05-28T14:32:16.957268Z"
    }
   },
   "outputs": [
    {
     "name": "stderr",
     "output_type": "stream",
     "text": [
      "2021-05-28 14:32:16.958 | DEBUG    | __main__:<module>:2 - x:1\n"
     ]
    }
   ],
   "source": [
    "x =1\n",
    "logger.debug(\"x:{}\".format(x))"
   ]
  },
  {
   "cell_type": "code",
   "execution_count": 4,
   "id": "466cbd52",
   "metadata": {
    "ExecuteTime": {
     "end_time": "2021-05-28T14:32:16.969919Z",
     "start_time": "2021-05-28T14:32:16.966144Z"
    }
   },
   "outputs": [],
   "source": [
    "from functools import wraps"
   ]
  },
  {
   "cell_type": "markdown",
   "metadata": {
    "ExecuteTime": {
     "end_time": "2021-05-28T14:32:17.082957Z",
     "start_time": "2021-05-28T14:32:16.972859Z"
    }
   },
   "source": [
    "logger.debug(_message, *args, **kwargs)\n",
    "logger.info(_message, *args, **kwargs)\n",
    "logger.success(_message, *args, **kwargs)\n",
    "logger.warning(_message, *args, **kwargs)\n",
    "logger.error(_message, *args, **kwargs)\n",
    "logger.critical(_message, *args, **kwargs)"
   ]
  },
  {
   "cell_type": "code",
   "execution_count": 42,
   "id": "27076816",
   "metadata": {
    "ExecuteTime": {
     "end_time": "2021-05-28T19:45:19.907080Z",
     "start_time": "2021-05-28T19:45:19.894827Z"
    }
   },
   "outputs": [],
   "source": [
    "from typing import Dict, List, Any\n",
    "def log_output(fun, result:Any, kw:Dict, check_state:List ) -> None:\n",
    "    for key in kw:\n",
    "        keyl = key.lower()\n",
    "        if  keyl in check_state:\n",
    "            if kw[key]:\n",
    "                eval('logger.'+keyl)(\"function: {}, result:{}\".format(fun.__name__,result))\n",
    "\n",
    "def log_call(*a, **kw):\n",
    "\n",
    "    \"\"\"\n",
    "        Decorator @log_call causes the wrapped funtion \n",
    "        to log at state given in **kw the \n",
    "        \"fucntion: {}, result:{}\".format(fun.__name__,result)\n",
    "\n",
    "    \"\"\"\n",
    "\n",
    "    def decorator(fun):\n",
    "        @wraps(fun)\n",
    "        def wrapper(*args, **kwargs):\n",
    "            #Pre\n",
    "            result = fun(*args, **kwargs)\n",
    "            #post:\n",
    "            check_state = ('debug', 'info', 'success', 'warning', 'error', 'critical')\n",
    "            log_output(fun, result, kw, check_state)\n",
    "            return result\n",
    "        return wrapper\n",
    "    return decorator"
   ]
  },
  {
   "cell_type": "code",
   "execution_count": 60,
   "id": "ad03f7bb",
   "metadata": {
    "ExecuteTime": {
     "end_time": "2021-05-28T19:48:20.659295Z",
     "start_time": "2021-05-28T19:48:20.654760Z"
    }
   },
   "outputs": [],
   "source": [
    "@log_call(INFO=True)\n",
    "def add_one(x):\n",
    "    return(x+1)\n"
   ]
  },
  {
   "cell_type": "code",
   "execution_count": 68,
   "id": "77345351",
   "metadata": {
    "ExecuteTime": {
     "end_time": "2021-05-28T19:49:55.120407Z",
     "start_time": "2021-05-28T19:49:55.112549Z"
    }
   },
   "outputs": [
    {
     "name": "stderr",
     "output_type": "stream",
     "text": [
      "2021-05-28 19:49:55.114 | INFO     | __main__:log_output:7 - function: add_one, result:1\n"
     ]
    },
    {
     "data": {
      "text/plain": [
       "1"
      ]
     },
     "execution_count": 68,
     "metadata": {},
     "output_type": "execute_result"
    }
   ],
   "source": [
    "#from loguru import logger\n",
    "y = 0\n",
    "y = add_one(y)\n",
    "y"
   ]
  },
  {
   "cell_type": "code",
   "execution_count": 69,
   "metadata": {
    "ExecuteTime": {
     "end_time": "2021-05-28T19:49:56.250374Z",
     "start_time": "2021-05-28T19:49:56.241170Z"
    }
   },
   "outputs": [
    {
     "name": "stderr",
     "output_type": "stream",
     "text": [
      "2021-05-28 19:49:56.243 | DEBUG    | __main__:log_output:7 - function: fff, result:None\n",
      "2021-05-28 19:49:56.244 | INFO     | __main__:log_output:7 - function: fff, result:None\n",
      "2021-05-28 19:49:56.245 | CRITICAL | __main__:log_output:7 - function: fff, result:None\n"
     ]
    }
   ],
   "source": [
    "f = eval('fff')\n",
    "f(1,2,z=True)"
   ]
  },
  {
   "cell_type": "code",
   "execution_count": 70,
   "id": "d4480930",
   "metadata": {
    "ExecuteTime": {
     "end_time": "2021-05-28T19:49:57.376664Z",
     "start_time": "2021-05-28T19:49:57.370015Z"
    }
   },
   "outputs": [
    {
     "data": {
      "text/plain": [
       "{'c': 1}"
      ]
     },
     "execution_count": 70,
     "metadata": {},
     "output_type": "execute_result"
    }
   ],
   "source": [
    "def x(*a,**k):\n",
    "    return(k)\n"
   ]
  },
  {
   "cell_type": "code",
   "execution_count": null,
   "id": "3eaac4f5",
   "metadata": {
    "ExecuteTime": {
     "end_time": "2021-05-28T14:32:55.418585Z",
     "start_time": "2021-05-28T14:32:55.379Z"
    }
   },
   "outputs": [],
   "source": [
    "def NoArg(array=False, _Check_No_NAs=True):\n",
    "    \"\"\"\n",
    "        Hide most of the paso machinery, so that developer focuses on their function or method.\n",
    "\n",
    "        Parameters:\n",
    "            array: (boolean) False\n",
    "                Pass a Pandas dataframe (False) or numpy array=True.  Mainly for compatibility\n",
    "                with scikit which requires arrays.\n",
    "\n",
    "        Parm/wrap Class Instance attibutes: these are attibutes of object_.fun (sef.x) set in this wrapper, if present in Parameter file\n",
    "\n",
    "    \"\"\"\n",
    "\n",
    "    def decorator(fun):\n",
    "        @wraps(fun)\n",
    "        def wrapper(*args, **kwargs):\n",
    "            _fun_name = fun.__name__\n",
    "\n",
    "#            result = fun(*args, **kwargs)\n",
    "            # post\n",
    "#            logger.info('{} decotator invoked'.format(k))\n",
    "#            logger.info('{} func invoked'.format(kwargs))\n",
    "\n",
    "            return result\n",
    "\n",
    "        return wrapper\n",
    "\n",
    "    return decorator\n"
   ]
  },
  {
   "cell_type": "code",
   "execution_count": null,
   "id": "bb8a1cef",
   "metadata": {
    "ExecuteTime": {
     "end_time": "2021-05-28T14:32:55.420143Z",
     "start_time": "2021-05-28T14:32:55.380Z"
    }
   },
   "outputs": [],
   "source": [
    "@NoArg()\n",
    "fff()"
   ]
  },
  {
   "cell_type": "code",
   "execution_count": null,
   "id": "93b5ec10",
   "metadata": {
    "ExecuteTime": {
     "end_time": "2021-05-28T14:32:55.421653Z",
     "start_time": "2021-05-28T14:32:55.382Z"
    }
   },
   "outputs": [],
   "source": [
    "d = {'BUG':True, 'INFO':True}\n",
    "\n",
    "d(1)\n"
   ]
  },
  {
   "cell_type": "code",
   "execution_count": 39,
   "id": "1c06164a",
   "metadata": {
    "ExecuteTime": {
     "end_time": "2021-05-28T19:17:01.512468Z",
     "start_time": "2021-05-28T19:17:01.499189Z"
    }
   },
   "outputs": [
    {
     "ename": "TypeError",
     "evalue": "'int' object is not callable",
     "output_type": "error",
     "traceback": [
      "\u001b[0;31m---------------------------------------------------------------------------\u001b[0m",
      "\u001b[0;31mTypeError\u001b[0m                                 Traceback (most recent call last)",
      "\u001b[0;32m<ipython-input-39-7c9b148c8d3e>\u001b[0m in \u001b[0;36m<module>\u001b[0;34m\u001b[0m\n\u001b[1;32m     11\u001b[0m \u001b[0;34m\u001b[0m\u001b[0m\n\u001b[1;32m     12\u001b[0m \u001b[0mx\u001b[0m \u001b[0;34m=\u001b[0m \u001b[0;36m0\u001b[0m\u001b[0;34m\u001b[0m\u001b[0;34m\u001b[0m\u001b[0m\n\u001b[0;32m---> 13\u001b[0;31m \u001b[0madd_twp\u001b[0m\u001b[0;34m(\u001b[0m\u001b[0mx\u001b[0m\u001b[0;34m)\u001b[0m\u001b[0;34m\u001b[0m\u001b[0;34m\u001b[0m\u001b[0m\n\u001b[0m",
      "\u001b[0;31mTypeError\u001b[0m: 'int' object is not callable"
     ]
    }
   ],
   "source": [
    "def add_one(x):\n",
    "    x =+1\n",
    "    return x\n",
    "\n",
    "@add_one\n",
    "def add_twp(x):\n",
    "    print(x)\n",
    "    x =+2\n",
    "    return x\n",
    "\n",
    "\n",
    "x = 0\n",
    "add_twp(x)"
   ]
  },
  {
   "cell_type": "code",
   "execution_count": null,
   "metadata": {},
   "outputs": [],
   "source": []
  }
 ],
 "metadata": {
  "kernelspec": {
   "display_name": "Python 3",
   "language": "python",
   "name": "python3"
  },
  "language_info": {
   "codemirror_mode": {
    "name": "ipython",
    "version": 3
   },
   "file_extension": ".py",
   "mimetype": "text/x-python",
   "name": "python",
   "nbconvert_exporter": "python",
   "pygments_lexer": "ipython3",
   "version": "3.7.6"
  },
  "toc": {
   "base_numbering": 1,
   "nav_menu": {},
   "number_sections": true,
   "sideBar": true,
   "skip_h1_title": false,
   "title_cell": "Table of Contents",
   "title_sidebar": "Contents",
   "toc_cell": false,
   "toc_position": {},
   "toc_section_display": true,
   "toc_window_display": false
  }
 },
 "nbformat": 4,
 "nbformat_minor": 5
}
