{
 "cells": [
  {
   "cell_type": "markdown",
   "metadata": {},
   "source": [
    "# @dataclass"
   ]
  },
  {
   "cell_type": "code",
   "execution_count": 1,
   "id": "db1b3f4a",
   "metadata": {
    "ExecuteTime": {
     "end_time": "2021-06-05T12:14:13.886102Z",
     "start_time": "2021-06-05T12:14:13.852903Z"
    }
   },
   "outputs": [],
   "source": [
    "from loguru import logger\n",
    "import sys\n",
    "from functools import wraps"
   ]
  },
  {
   "cell_type": "markdown",
   "metadata": {
    "ExecuteTime": {
     "end_time": "2021-05-28T14:32:17.082957Z",
     "start_time": "2021-05-28T14:32:16.972859Z"
    }
   },
   "source": [
    "logger.debug(_message, *args, **kwargs)\n",
    "logger.info(_message, *args, **kwargs)\n",
    "logger.success(_message, *args, **kwargs)\n",
    "logger.warning(_message, *args, **kwargs)\n",
    "logger.error(_message, *args, **kwargs)\n",
    "logger.critical(_message, *args, **kwargs)"
   ]
  },
  {
   "cell_type": "markdown",
   "metadata": {},
   "source": [
    "## NO Argument simple decorator template"
   ]
  },
  {
   "cell_type": "code",
   "execution_count": 2,
   "metadata": {
    "ExecuteTime": {
     "end_time": "2021-06-05T12:14:13.896947Z",
     "start_time": "2021-06-05T12:14:13.889919Z"
    }
   },
   "outputs": [],
   "source": [
    "def log_call(fun):\n",
    "    \"\"\"\n",
    "        Decorator @log_call wraps the funtion \n",
    "        with log events.\n",
    "    \"\"\"\n",
    "    def wrapper(*args, **kwargs):\n",
    "        #Pre\n",
    "        logger.info(\"before function: {}\".format(fun.__name__))\n",
    "        result = fun(*args, **kwargs)\n",
    "        #post:\n",
    "        logger.info(\"after function: {}, result:{}\".format(fun.__name__,result))\n",
    "        return result\n",
    "    return wrapper"
   ]
  },
  {
   "cell_type": "code",
   "execution_count": 3,
   "metadata": {
    "ExecuteTime": {
     "end_time": "2021-06-05T12:14:13.905770Z",
     "start_time": "2021-06-05T12:14:13.900408Z"
    }
   },
   "outputs": [],
   "source": [
    "@log_call,v\n",
    "def add_one(x):\n",
    "    x = x+1\n",
    "    return(x)\n",
    "y=0"
   ]
  },
  {
   "cell_type": "code",
   "execution_count": 4,
   "metadata": {
    "ExecuteTime": {
     "end_time": "2021-06-05T12:14:13.926140Z",
     "start_time": "2021-06-05T12:14:13.908823Z"
    }
   },
   "outputs": [
    {
     "name": "stderr",
     "output_type": "stream",
     "text": [
      "2021-06-05 12:14:13.910 | INFO     | __main__:wrapper:8 - before function: add_one\n",
      "2021-06-05 12:14:13.911 | INFO     | __main__:wrapper:11 - after function: add_one, result:1\n"
     ]
    },
    {
     "data": {
      "text/plain": [
       "1"
      ]
     },
     "execution_count": 4,
     "metadata": {},
     "output_type": "execute_result"
    }
   ],
   "source": [
    "y = add_one(y)\n",
    "y"
   ]
  },
  {
   "cell_type": "code",
   "execution_count": 5,
   "metadata": {
    "ExecuteTime": {
     "end_time": "2021-06-05T12:14:13.937894Z",
     "start_time": "2021-06-05T12:14:13.928815Z"
    }
   },
   "outputs": [
    {
     "name": "stderr",
     "output_type": "stream",
     "text": [
      "2021-06-05 12:14:13.930 | INFO     | __main__:wrapper:8 - before function: add_one\n",
      "2021-06-05 12:14:13.931 | INFO     | __main__:wrapper:11 - after function: add_one, result:2\n"
     ]
    },
    {
     "data": {
      "text/plain": [
       "2"
      ]
     },
     "execution_count": 5,
     "metadata": {},
     "output_type": "execute_result"
    }
   ],
   "source": [
    "y = add_one(y)\n",
    "y"
   ]
  },
  {
   "cell_type": "markdown",
   "metadata": {
    "heading_collapsed": true
   },
   "source": [
    "## decorator template with arguments needs @wrap"
   ]
  },
  {
   "cell_type": "markdown",
   "metadata": {
    "hidden": true
   },
   "source": [
    "### show how  @wrap keeps func metadata"
   ]
  },
  {
   "cell_type": "markdown",
   "metadata": {
    "hidden": true
   },
   "source": [
    "@wraps keeps metadata of func"
   ]
  },
  {
   "cell_type": "code",
   "execution_count": null,
   "metadata": {
    "ExecuteTime": {
     "end_time": "2021-06-05T12:14:14.054948Z",
     "start_time": "2021-06-05T12:14:13.848Z"
    },
    "hidden": true
   },
   "outputs": [],
   "source": [
    "def bad_dir(*a, **kw):\n",
    "    \"\"\"\n",
    "        Decorator @bad_dir wraps a call of dir\n",
    "        on the funtion inefficently.\n",
    "    \"\"\"\n",
    "    def decorator(func):\n",
    "        @wraps(func)\n",
    "        def wrapper(*args, **kwargs):\n",
    "            #Pre:\n",
    "            result = dir(func)\n",
    "            #post:\n",
    "            logger.info(\"function: {}, a:{}, kw()\".format('bad_dir',a, kw))\n",
    "            logger.info(\"function: {}, args:{}, kwargs()\".format(func.__name__,args, kwargs))\n",
    "            return result\n",
    "        return wrapper\n",
    "    return decorator\n",
    "        "
   ]
  },
  {
   "cell_type": "code",
   "execution_count": null,
   "metadata": {
    "ExecuteTime": {
     "end_time": "2021-06-05T12:14:14.056841Z",
     "start_time": "2021-06-05T12:14:13.850Z"
    },
    "hidden": true
   },
   "outputs": [],
   "source": [
    "@bad_dir(1, ERROR=True)\n",
    "def add_one(x):\n",
    "    x = x+1\n",
    "    return(x)\n",
    "y=0"
   ]
  },
  {
   "cell_type": "code",
   "execution_count": null,
   "metadata": {
    "ExecuteTime": {
     "end_time": "2021-06-05T12:14:14.058203Z",
     "start_time": "2021-06-05T12:14:13.852Z"
    },
    "hidden": true
   },
   "outputs": [],
   "source": [
    "add_one(y)"
   ]
  },
  {
   "cell_type": "markdown",
   "metadata": {
    "heading_collapsed": true,
    "hidden": true
   },
   "source": [
    "### decorator template with arguments "
   ]
  },
  {
   "cell_type": "code",
   "execution_count": null,
   "metadata": {
    "ExecuteTime": {
     "end_time": "2021-06-05T12:14:14.059968Z",
     "start_time": "2021-06-05T12:14:13.854Z"
    },
    "hidden": true
   },
   "outputs": [],
   "source": [
    "def log_call(*a, **kw):\n",
    "    \"\"\"\n",
    "        Decorator @log_call wraps the funtion \n",
    "        with log events.\n",
    "    \"\"\"\n",
    "    def decorator(func):\n",
    "        @wraps(func)\n",
    "        def wrapper(*args, **kwargs):\n",
    "            #Pre:\n",
    "            result = func(*args, **kwargs)\n",
    "            #post:\n",
    "            logger.info(\"function: {}, result:{}\".format(func.__name__,result))\n",
    "            return result\n",
    "        return wrapper\n",
    "    return decorator\n",
    "        \n",
    "\n",
    "@log_call(ERROR=True)\n",
    "def add_one(x):\n",
    "    x = x+1\n",
    "    return(x)\n",
    "y=0"
   ]
  },
  {
   "cell_type": "code",
   "execution_count": null,
   "metadata": {
    "ExecuteTime": {
     "end_time": "2021-06-05T12:14:14.061393Z",
     "start_time": "2021-06-05T12:14:13.856Z"
    },
    "hidden": true
   },
   "outputs": [],
   "source": [
    "y = add_one(y)\n",
    "y"
   ]
  },
  {
   "cell_type": "markdown",
   "metadata": {
    "heading_collapsed": true
   },
   "source": [
    "## Use decorator argument"
   ]
  },
  {
   "cell_type": "code",
   "execution_count": null,
   "id": "77345351",
   "metadata": {
    "ExecuteTime": {
     "end_time": "2021-06-05T12:14:14.063702Z",
     "start_time": "2021-06-05T12:14:13.859Z"
    },
    "hidden": true
   },
   "outputs": [],
   "source": [
    "from typing import Dict, List, Any\n",
    "def log_output(fun, result:Any, kw:Dict, check_state:List ) -> None:\n",
    "    for key in kw:\n",
    "        keyl = key.lower()\n",
    "        if  keyl in check_state:\n",
    "            if kw[key]:\n",
    "                eval('logger.'+keyl)(\"function: {}, result:{}\".format(fun.__name__,result))\n"
   ]
  },
  {
   "cell_type": "code",
   "execution_count": null,
   "metadata": {
    "ExecuteTime": {
     "end_time": "2021-06-05T12:14:14.065198Z",
     "start_time": "2021-06-05T12:14:13.861Z"
    },
    "hidden": true
   },
   "outputs": [],
   "source": [
    "def log_call(*a, **kw):\n",
    "    \"\"\"\n",
    "        Decorator @log_call wraps the funtion \n",
    "        with log events.\n",
    "    \"\"\"\n",
    "    def decorator(fun):\n",
    "        @wraps(fun)\n",
    "        def wrapper(*args, **kwargs):\n",
    "            #Pre\n",
    "            result = fun(*args, **kwargs)\n",
    "            #post:\n",
    "            check_state = ('debug', 'info', 'success', 'warning', 'error', 'critical')\n",
    "            log_output(fun, result, kw, check_state)\n",
    "            return result\n",
    "        return wrapper\n",
    "    return decorator"
   ]
  },
  {
   "cell_type": "code",
   "execution_count": null,
   "metadata": {
    "ExecuteTime": {
     "end_time": "2021-06-05T12:14:14.066816Z",
     "start_time": "2021-06-05T12:14:13.863Z"
    },
    "hidden": true
   },
   "outputs": [],
   "source": [
    "@log_call(ERROR=True)\n",
    "def add_one(x):\n",
    "    x = x+1\n",
    "    return(x)\n",
    "y=0"
   ]
  },
  {
   "cell_type": "code",
   "execution_count": null,
   "metadata": {
    "ExecuteTime": {
     "end_time": "2021-06-05T12:14:14.068090Z",
     "start_time": "2021-06-05T12:14:13.865Z"
    },
    "hidden": true,
    "scrolled": true
   },
   "outputs": [],
   "source": [
    "y = add_one(y)\n",
    "y"
   ]
  },
  {
   "cell_type": "markdown",
   "metadata": {
    "heading_collapsed": true
   },
   "source": [
    "## using two decorators"
   ]
  },
  {
   "cell_type": "code",
   "execution_count": null,
   "id": "1c06164a",
   "metadata": {
    "ExecuteTime": {
     "end_time": "2021-06-05T12:14:14.069836Z",
     "start_time": "2021-06-05T12:14:13.867Z"
    },
    "hidden": true
   },
   "outputs": [],
   "source": [
    "#GLOBAL \n",
    "call_count= 0\n",
    "def add_one(fun):\n",
    "    \"\"\"\n",
    "            Decorator pre-function call and post-function call of function func.\n",
    "    \"\"\"\n",
    "    def wrapper(*args, **kwargs):\n",
    "        global call_count\n",
    "        #Pre action\n",
    "        result = fun(*args, **kwargs)\n",
    "        logger.info('call_count:{}'.format(call_count))\n",
    "        call_count = call_count+1\n",
    "        logger.info('Increase call_count:{}'.format(call_count))\n",
    "        return result\n",
    "    return wrapper"
   ]
  },
  {
   "cell_type": "code",
   "execution_count": null,
   "metadata": {
    "ExecuteTime": {
     "end_time": "2021-06-05T12:14:14.071277Z",
     "start_time": "2021-06-05T12:14:13.869Z"
    },
    "hidden": true
   },
   "outputs": [],
   "source": [
    "@log_call(CRITICAL=True)\n",
    "@add_one\n",
    "def pow(x,y):\n",
    "    return(x**y)"
   ]
  },
  {
   "cell_type": "code",
   "execution_count": null,
   "metadata": {
    "ExecuteTime": {
     "end_time": "2021-06-05T12:14:14.072790Z",
     "start_time": "2021-06-05T12:14:13.871Z"
    },
    "hidden": true
   },
   "outputs": [],
   "source": [
    "print('',call_count)\n",
    "print(pow(2,10))"
   ]
  },
  {
   "cell_type": "markdown",
   "metadata": {
    "ExecuteTime": {
     "end_time": "2021-05-29T23:13:38.886515Z",
     "start_time": "2021-05-29T23:13:38.882657Z"
    },
    "hidden": true
   },
   "source": []
  },
  {
   "cell_type": "code",
   "execution_count": null,
   "metadata": {
    "ExecuteTime": {
     "end_time": "2021-06-05T12:14:14.074356Z",
     "start_time": "2021-06-05T12:14:13.874Z"
    },
    "hidden": true
   },
   "outputs": [],
   "source": [
    "print(pow(2,10))\n",
    "print('',call_count)"
   ]
  },
  {
   "cell_type": "markdown",
   "metadata": {
    "ExecuteTime": {
     "end_time": "2021-05-29T18:40:37.048561Z",
     "start_time": "2021-05-29T18:40:37.037838Z"
    },
    "heading_collapsed": true
   },
   "source": [
    "## using four decorators"
   ]
  },
  {
   "cell_type": "code",
   "execution_count": null,
   "metadata": {
    "ExecuteTime": {
     "end_time": "2021-06-05T12:14:14.076086Z",
     "start_time": "2021-06-05T12:14:13.876Z"
    },
    "hidden": true
   },
   "outputs": [],
   "source": [
    "!pip install numba\n",
    "from numba import jit"
   ]
  },
  {
   "cell_type": "code",
   "execution_count": null,
   "metadata": {
    "ExecuteTime": {
     "end_time": "2021-06-05T12:14:14.077388Z",
     "start_time": "2021-06-05T12:14:13.879Z"
    },
    "hidden": true
   },
   "outputs": [],
   "source": [
    "@log_call(ERROR=True)\n",
    "@add_one\n",
    "def cum_one(x:int,y:int) -> int:\n",
    "    total = 1 \n",
    "    for i in range(2,y,1):\n",
    "        total += 1\n",
    "    return(total)"
   ]
  },
  {
   "cell_type": "code",
   "execution_count": null,
   "metadata": {
    "ExecuteTime": {
     "end_time": "2021-06-05T12:14:14.078999Z",
     "start_time": "2021-06-05T12:14:13.881Z"
    },
    "hidden": true
   },
   "outputs": [],
   "source": [
    "cum_one(2,100_000_000)\n"
   ]
  },
  {
   "cell_type": "code",
   "execution_count": null,
   "metadata": {
    "ExecuteTime": {
     "end_time": "2021-06-05T12:14:14.080358Z",
     "start_time": "2021-06-05T12:14:13.883Z"
    },
    "hidden": true
   },
   "outputs": [],
   "source": [
    "@add_one\n",
    "@log_call(ERROR=True)\n",
    "@jit\n",
    "def cum_one(x:int,y:int) -> int:\n",
    "    total = 1 \n",
    "    for i in range(2,y,1):\n",
    "        total += 1\n",
    "    return(total)"
   ]
  },
  {
   "cell_type": "code",
   "execution_count": null,
   "metadata": {
    "ExecuteTime": {
     "end_time": "2021-06-05T12:14:14.082069Z",
     "start_time": "2021-06-05T12:14:13.885Z"
    },
    "hidden": true
   },
   "outputs": [],
   "source": [
    "cum_one(2,100_000_000)"
   ]
  },
  {
   "cell_type": "code",
   "execution_count": null,
   "metadata": {
    "ExecuteTime": {
     "end_time": "2021-06-05T12:14:14.083242Z",
     "start_time": "2021-06-05T12:14:13.887Z"
    },
    "hidden": true
   },
   "outputs": [],
   "source": [
    "cum_one(2,100_000_000)"
   ]
  },
  {
   "cell_type": "markdown",
   "metadata": {},
   "source": [
    "## CHANGE ORDER OF DECORATORS"
   ]
  },
  {
   "cell_type": "code",
   "execution_count": null,
   "metadata": {
    "ExecuteTime": {
     "end_time": "2021-06-05T12:14:14.084729Z",
     "start_time": "2021-06-05T12:14:13.889Z"
    }
   },
   "outputs": [],
   "source": [
    "@log_call(ERROR=True)\n",
    "@add_one\n",
    "@jit\n",
    "def cum_one(x:int,y:int) -> int:\n",
    "    total = 1 \n",
    "    for i in range(2,y,1):\n",
    "        total += 1\n",
    "    return(total)\n",
    "\n",
    "cum_one(2,100_000_000)"
   ]
  },
  {
   "cell_type": "code",
   "execution_count": null,
   "metadata": {
    "ExecuteTime": {
     "end_time": "2021-06-05T12:14:14.086279Z",
     "start_time": "2021-06-05T12:14:13.891Z"
    }
   },
   "outputs": [],
   "source": [
    "@jit\n",
    "@add_one\n",
    "@log_call(ERROR=True)\n",
    "def cum_one(x:int,y:int) -> int:\n",
    "    total = 1 \n",
    "    for i in range(2,y,1):\n",
    "        total += 1\n",
    "    return(total)"
   ]
  },
  {
   "cell_type": "code",
   "execution_count": null,
   "metadata": {
    "ExecuteTime": {
     "end_time": "2021-06-05T12:14:14.087849Z",
     "start_time": "2021-06-05T12:14:13.894Z"
    }
   },
   "outputs": [],
   "source": [
    "cum_one(2,100_000_000)"
   ]
  },
  {
   "cell_type": "code",
   "execution_count": null,
   "metadata": {},
   "outputs": [],
   "source": []
  }
 ],
 "metadata": {
  "kernelspec": {
   "display_name": "Python 3",
   "language": "python",
   "name": "python3"
  },
  "language_info": {
   "codemirror_mode": {
    "name": "ipython",
    "version": 3
   },
   "file_extension": ".py",
   "mimetype": "text/x-python",
   "name": "python",
   "nbconvert_exporter": "python",
   "pygments_lexer": "ipython3",
   "version": "3.7.6"
  },
  "toc": {
   "base_numbering": 1,
   "nav_menu": {},
   "number_sections": true,
   "sideBar": true,
   "skip_h1_title": false,
   "title_cell": "Table of Contents",
   "title_sidebar": "Contents",
   "toc_cell": false,
   "toc_position": {},
   "toc_section_display": true,
   "toc_window_display": true
  }
 },
 "nbformat": 4,
 "nbformat_minor": 5
}
