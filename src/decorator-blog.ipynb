{
 "cells": [
  {
   "cell_type": "code",
   "execution_count": 1,
   "id": "db1b3f4a",
   "metadata": {
    "ExecuteTime": {
     "end_time": "2021-06-01T13:42:41.993574Z",
     "start_time": "2021-06-01T13:42:41.971174Z"
    }
   },
   "outputs": [],
   "source": [
    "from loguru import logger\n",
    "import sys\n",
    "from functools import wraps"
   ]
  },
  {
   "cell_type": "markdown",
   "metadata": {
    "ExecuteTime": {
     "end_time": "2021-05-28T14:32:17.082957Z",
     "start_time": "2021-05-28T14:32:16.972859Z"
    }
   },
   "source": [
    "logger.debug(_message, *args, **kwargs)\n",
    "logger.info(_message, *args, **kwargs)\n",
    "logger.success(_message, *args, **kwargs)\n",
    "logger.warning(_message, *args, **kwargs)\n",
    "logger.error(_message, *args, **kwargs)\n",
    "logger.critical(_message, *args, **kwargs)"
   ]
  },
  {
   "cell_type": "markdown",
   "metadata": {},
   "source": [
    "## NO Argument simple decorator template"
   ]
  },
  {
   "cell_type": "code",
   "execution_count": 2,
   "metadata": {
    "ExecuteTime": {
     "end_time": "2021-06-01T13:42:42.003777Z",
     "start_time": "2021-06-01T13:42:41.997584Z"
    }
   },
   "outputs": [],
   "source": [
    "def log_call(fun):\n",
    "    \"\"\"\n",
    "        Decorator @log_call wraps the funtion \n",
    "        with log events.\n",
    "    \"\"\"\n",
    "    def wrapper(*args, **kwargs):\n",
    "        #Pre\n",
    "        logger.info(\"before function: {}\".format(fun.__name__))\n",
    "        result = fun(*args, **kwargs)\n",
    "        #post:\n",
    "        logger.info(\"after function: {}, result:{}\".format(fun.__name__,result))\n",
    "        return result\n",
    "    return wrapper"
   ]
  },
  {
   "cell_type": "code",
   "execution_count": 3,
   "metadata": {
    "ExecuteTime": {
     "end_time": "2021-06-01T13:42:42.012021Z",
     "start_time": "2021-06-01T13:42:42.007486Z"
    }
   },
   "outputs": [],
   "source": [
    "@log_call\n",
    "def add_one(x):\n",
    "    x = x+1\n",
    "    return(x)\n",
    "y=0"
   ]
  },
  {
   "cell_type": "code",
   "execution_count": 4,
   "metadata": {
    "ExecuteTime": {
     "end_time": "2021-06-01T13:42:42.032362Z",
     "start_time": "2021-06-01T13:42:42.014331Z"
    }
   },
   "outputs": [
    {
     "name": "stderr",
     "output_type": "stream",
     "text": [
      "2021-06-01 13:42:42.015 | INFO     | __main__:wrapper:8 - before function: add_one\n",
      "2021-06-01 13:42:42.017 | INFO     | __main__:wrapper:11 - after function: add_one, result:1\n"
     ]
    },
    {
     "data": {
      "text/plain": [
       "1"
      ]
     },
     "execution_count": 4,
     "metadata": {},
     "output_type": "execute_result"
    }
   ],
   "source": [
    "y = add_one(y)\n",
    "y"
   ]
  },
  {
   "cell_type": "code",
   "execution_count": 5,
   "metadata": {
    "ExecuteTime": {
     "end_time": "2021-06-01T13:42:42.043517Z",
     "start_time": "2021-06-01T13:42:42.034719Z"
    }
   },
   "outputs": [
    {
     "name": "stderr",
     "output_type": "stream",
     "text": [
      "2021-06-01 13:42:42.035 | INFO     | __main__:wrapper:8 - before function: add_one\n",
      "2021-06-01 13:42:42.037 | INFO     | __main__:wrapper:11 - after function: add_one, result:2\n"
     ]
    },
    {
     "data": {
      "text/plain": [
       "2"
      ]
     },
     "execution_count": 5,
     "metadata": {},
     "output_type": "execute_result"
    }
   ],
   "source": [
    "y = add_one(y)\n",
    "y"
   ]
  },
  {
   "cell_type": "markdown",
   "metadata": {},
   "source": [
    "## decorator with arguments template "
   ]
  },
  {
   "cell_type": "code",
   "execution_count": 6,
   "id": "27076816",
   "metadata": {
    "ExecuteTime": {
     "end_time": "2021-06-01T13:42:42.151592Z",
     "start_time": "2021-06-01T13:42:42.046017Z"
    }
   },
   "outputs": [
    {
     "ename": "TypeError",
     "evalue": "'int' object is not callable",
     "output_type": "error",
     "traceback": [
      "\u001b[0;31m---------------------------------------------------------------------------\u001b[0m",
      "\u001b[0;31mTypeError\u001b[0m                                 Traceback (most recent call last)",
      "\u001b[0;32m<ipython-input-6-1ac0ceb026cb>\u001b[0m in \u001b[0;36m<module>\u001b[0;34m\u001b[0m\n\u001b[1;32m     12\u001b[0m     \u001b[0;32mreturn\u001b[0m \u001b[0mwrapper\u001b[0m\u001b[0;34m\u001b[0m\u001b[0;34m\u001b[0m\u001b[0m\n\u001b[1;32m     13\u001b[0m \u001b[0;34m\u001b[0m\u001b[0m\n\u001b[0;32m---> 14\u001b[0;31m \u001b[0;34m@\u001b[0m\u001b[0mlog_call\u001b[0m\u001b[0;34m(\u001b[0m\u001b[0;36m1\u001b[0m\u001b[0;34m,\u001b[0m \u001b[0mERROR\u001b[0m\u001b[0;34m=\u001b[0m\u001b[0;32mTrue\u001b[0m\u001b[0;34m)\u001b[0m\u001b[0;34m\u001b[0m\u001b[0;34m\u001b[0m\u001b[0m\n\u001b[0m\u001b[1;32m     15\u001b[0m \u001b[0;32mdef\u001b[0m \u001b[0madd_one\u001b[0m\u001b[0;34m(\u001b[0m\u001b[0mx\u001b[0m\u001b[0;34m)\u001b[0m\u001b[0;34m:\u001b[0m\u001b[0;34m\u001b[0m\u001b[0;34m\u001b[0m\u001b[0m\n\u001b[1;32m     16\u001b[0m     \u001b[0mx\u001b[0m \u001b[0;34m=\u001b[0m \u001b[0mx\u001b[0m\u001b[0;34m+\u001b[0m\u001b[0;36m1\u001b[0m\u001b[0;34m\u001b[0m\u001b[0;34m\u001b[0m\u001b[0m\n",
      "\u001b[0;32m<ipython-input-6-1ac0ceb026cb>\u001b[0m in \u001b[0;36mwrapper\u001b[0;34m(*args, **kwargs)\u001b[0m\n\u001b[1;32m      6\u001b[0m     \u001b[0;32mdef\u001b[0m \u001b[0mwrapper\u001b[0m\u001b[0;34m(\u001b[0m\u001b[0;34m*\u001b[0m\u001b[0margs\u001b[0m\u001b[0;34m,\u001b[0m \u001b[0;34m**\u001b[0m\u001b[0mkwargs\u001b[0m\u001b[0;34m)\u001b[0m\u001b[0;34m:\u001b[0m\u001b[0;34m\u001b[0m\u001b[0;34m\u001b[0m\u001b[0m\n\u001b[1;32m      7\u001b[0m         \u001b[0;31m#Pre\u001b[0m\u001b[0;34m\u001b[0m\u001b[0;34m\u001b[0m\u001b[0;34m\u001b[0m\u001b[0m\n\u001b[0;32m----> 8\u001b[0;31m         \u001b[0mresult\u001b[0m \u001b[0;34m=\u001b[0m \u001b[0mfunc\u001b[0m\u001b[0;34m(\u001b[0m\u001b[0;34m*\u001b[0m\u001b[0margs\u001b[0m\u001b[0;34m,\u001b[0m \u001b[0;34m**\u001b[0m\u001b[0mkwargs\u001b[0m\u001b[0;34m)\u001b[0m\u001b[0;34m\u001b[0m\u001b[0;34m\u001b[0m\u001b[0m\n\u001b[0m\u001b[1;32m      9\u001b[0m         \u001b[0;31m#post:\u001b[0m\u001b[0;34m\u001b[0m\u001b[0;34m\u001b[0m\u001b[0;34m\u001b[0m\u001b[0m\n\u001b[1;32m     10\u001b[0m         \u001b[0mlogger\u001b[0m\u001b[0;34m.\u001b[0m\u001b[0minfo\u001b[0m\u001b[0;34m(\u001b[0m\u001b[0;34m\"function: {}, result:{}\"\u001b[0m\u001b[0;34m.\u001b[0m\u001b[0mformat\u001b[0m\u001b[0;34m(\u001b[0m\u001b[0mfunc\u001b[0m\u001b[0;34m.\u001b[0m\u001b[0m__name__\u001b[0m\u001b[0;34m,\u001b[0m\u001b[0mresult\u001b[0m\u001b[0;34m)\u001b[0m\u001b[0;34m)\u001b[0m\u001b[0;34m\u001b[0m\u001b[0;34m\u001b[0m\u001b[0m\n",
      "\u001b[0;31mTypeError\u001b[0m: 'int' object is not callable"
     ]
    }
   ],
   "source": [
    "def log_call(func,*a, **kw):\n",
    "    \"\"\"\n",
    "        Decorator @log_call with arguments wraps the funtion \n",
    "        with log events.\n",
    "    \"\"\"\n",
    "    def wrapper(*args, **kwargs):\n",
    "        #Pre\n",
    "        result = func(*args, **kwargs)\n",
    "        #post:\n",
    "        logger.info(\"function: {}, result:{}\".format(func.__name__,result))\n",
    "        return result\n",
    "    return wrapper\n",
    "\n",
    "@log_call(1, ERROR=True)\n",
    "def add_one(x):\n",
    "    x = x+1\n",
    "    return(x)\n",
    "y=0"
   ]
  },
  {
   "cell_type": "markdown",
   "metadata": {},
   "source": [
    "## decorator template with arguments needs @wrap"
   ]
  },
  {
   "cell_type": "markdown",
   "metadata": {},
   "source": [
    "### show how  @wrap keeps func metadata"
   ]
  },
  {
   "cell_type": "markdown",
   "metadata": {},
   "source": [
    "@wraps keeps metadata of func"
   ]
  },
  {
   "cell_type": "code",
   "execution_count": 7,
   "metadata": {
    "ExecuteTime": {
     "end_time": "2021-06-01T13:42:58.800443Z",
     "start_time": "2021-06-01T13:42:58.793049Z"
    }
   },
   "outputs": [],
   "source": [
    "def bad_dir(*a, **kw):\n",
    "    \"\"\"\n",
    "        Decorator @bad_dir wraps a call of dir\n",
    "        on the funtion inefficently.\n",
    "    \"\"\"\n",
    "    def decorator(func):\n",
    "        @wraps(func)\n",
    "        def wrapper(*args, **kwargs):\n",
    "            #Pre:\n",
    "            result = dir(func)\n",
    "            #post:\n",
    "            logger.info(\"function: {}, a:{}, kw()\".format('bad_dir',a, kw))\n",
    "            logger.info(\"function: {}, args:{}, kwargs()\".format(func.__name__,args, kwargs))\n",
    "            return result\n",
    "        return wrapper\n",
    "    return decorator\n",
    "        "
   ]
  },
  {
   "cell_type": "code",
   "execution_count": 8,
   "metadata": {
    "ExecuteTime": {
     "end_time": "2021-06-01T13:42:58.808292Z",
     "start_time": "2021-06-01T13:42:58.803025Z"
    }
   },
   "outputs": [],
   "source": [
    "@bad_dir(1, ERROR=True)\n",
    "def add_one(x):\n",
    "    x = x+1\n",
    "    return(x)\n",
    "y=0"
   ]
  },
  {
   "cell_type": "code",
   "execution_count": 9,
   "metadata": {
    "ExecuteTime": {
     "end_time": "2021-06-01T13:42:58.822495Z",
     "start_time": "2021-06-01T13:42:58.812180Z"
    }
   },
   "outputs": [
    {
     "name": "stderr",
     "output_type": "stream",
     "text": [
      "2021-06-01 13:42:58.813 | INFO     | __main__:wrapper:12 - function: bad_dir, a:(1,), kw()\n",
      "2021-06-01 13:42:58.815 | INFO     | __main__:wrapper:13 - function: add_one, args:(0,), kwargs()\n"
     ]
    },
    {
     "data": {
      "text/plain": [
       "['__annotations__',\n",
       " '__call__',\n",
       " '__class__',\n",
       " '__closure__',\n",
       " '__code__',\n",
       " '__defaults__',\n",
       " '__delattr__',\n",
       " '__dict__',\n",
       " '__dir__',\n",
       " '__doc__',\n",
       " '__eq__',\n",
       " '__format__',\n",
       " '__ge__',\n",
       " '__get__',\n",
       " '__getattribute__',\n",
       " '__globals__',\n",
       " '__gt__',\n",
       " '__hash__',\n",
       " '__init__',\n",
       " '__init_subclass__',\n",
       " '__kwdefaults__',\n",
       " '__le__',\n",
       " '__lt__',\n",
       " '__module__',\n",
       " '__name__',\n",
       " '__ne__',\n",
       " '__new__',\n",
       " '__qualname__',\n",
       " '__reduce__',\n",
       " '__reduce_ex__',\n",
       " '__repr__',\n",
       " '__setattr__',\n",
       " '__sizeof__',\n",
       " '__str__',\n",
       " '__subclasshook__']"
      ]
     },
     "execution_count": 9,
     "metadata": {},
     "output_type": "execute_result"
    }
   ],
   "source": [
    "add_one(y)"
   ]
  },
  {
   "cell_type": "markdown",
   "metadata": {
    "heading_collapsed": true
   },
   "source": [
    "### decorator template with arguments "
   ]
  },
  {
   "cell_type": "code",
   "execution_count": 10,
   "metadata": {
    "ExecuteTime": {
     "end_time": "2021-06-01T13:42:58.833717Z",
     "start_time": "2021-06-01T13:42:58.825409Z"
    },
    "hidden": true
   },
   "outputs": [],
   "source": [
    "def log_call(*a, **kw):\n",
    "    \"\"\"\n",
    "        Decorator @log_call wraps the funtion \n",
    "        with log events.\n",
    "    \"\"\"\n",
    "    def decorator(func):\n",
    "        @wraps(func)\n",
    "        def wrapper(*args, **kwargs):\n",
    "            #Pre:\n",
    "            result = func(*args, **kwargs)\n",
    "            #post:\n",
    "            logger.info(\"function: {}, result:{}\".format(func.__name__,result))\n",
    "            return result\n",
    "        return wrapper\n",
    "    return decorator\n",
    "        \n",
    "\n",
    "@log_call(ERROR=True)\n",
    "def add_one(x):\n",
    "    x = x+1\n",
    "    return(x)\n",
    "y=0"
   ]
  },
  {
   "cell_type": "code",
   "execution_count": 11,
   "metadata": {
    "ExecuteTime": {
     "end_time": "2021-06-01T13:42:58.844358Z",
     "start_time": "2021-06-01T13:42:58.836617Z"
    },
    "hidden": true
   },
   "outputs": [
    {
     "name": "stderr",
     "output_type": "stream",
     "text": [
      "2021-06-01 13:42:58.837 | INFO     | __main__:wrapper:12 - function: add_one, result:1\n"
     ]
    },
    {
     "data": {
      "text/plain": [
       "1"
      ]
     },
     "execution_count": 11,
     "metadata": {},
     "output_type": "execute_result"
    }
   ],
   "source": [
    "y = add_one(y)\n",
    "y"
   ]
  },
  {
   "cell_type": "markdown",
   "metadata": {
    "heading_collapsed": true
   },
   "source": [
    "## Use decorator argument"
   ]
  },
  {
   "cell_type": "code",
   "execution_count": 12,
   "id": "77345351",
   "metadata": {
    "ExecuteTime": {
     "end_time": "2021-06-01T13:42:58.853221Z",
     "start_time": "2021-06-01T13:42:58.846695Z"
    },
    "hidden": true
   },
   "outputs": [],
   "source": [
    "from typing import Dict, List, Any\n",
    "def log_output(fun, result:Any, kw:Dict, check_state:List ) -> None:\n",
    "    for key in kw:\n",
    "        keyl = key.lower()\n",
    "        if  keyl in check_state:\n",
    "            if kw[key]:\n",
    "                eval('logger.'+keyl)(\"function: {}, result:{}\".format(fun.__name__,result))\n"
   ]
  },
  {
   "cell_type": "code",
   "execution_count": 13,
   "metadata": {
    "ExecuteTime": {
     "end_time": "2021-06-01T13:42:58.863227Z",
     "start_time": "2021-06-01T13:42:58.855596Z"
    },
    "hidden": true
   },
   "outputs": [],
   "source": [
    "def log_call(*a, **kw):\n",
    "    \"\"\"\n",
    "        Decorator @log_call wraps the funtion \n",
    "        with log events.\n",
    "    \"\"\"\n",
    "    def decorator(fun):\n",
    "        @wraps(fun)\n",
    "        def wrapper(*args, **kwargs):\n",
    "            #Pre\n",
    "            result = fun(*args, **kwargs)\n",
    "            #post:\n",
    "            check_state = ('debug', 'info', 'success', 'warning', 'error', 'critical')\n",
    "            log_output(fun, result, kw, check_state)\n",
    "            return result\n",
    "        return wrapper\n",
    "    return decorator"
   ]
  },
  {
   "cell_type": "code",
   "execution_count": 14,
   "metadata": {
    "ExecuteTime": {
     "end_time": "2021-06-01T13:42:58.873728Z",
     "start_time": "2021-06-01T13:42:58.868708Z"
    },
    "hidden": true
   },
   "outputs": [],
   "source": [
    "@log_call(ERROR=True)\n",
    "def add_one(x):\n",
    "    x = x+1\n",
    "    return(x)\n",
    "y=0"
   ]
  },
  {
   "cell_type": "code",
   "execution_count": 15,
   "metadata": {
    "ExecuteTime": {
     "end_time": "2021-06-01T13:42:58.884423Z",
     "start_time": "2021-06-01T13:42:58.876987Z"
    },
    "hidden": true,
    "scrolled": true
   },
   "outputs": [
    {
     "name": "stderr",
     "output_type": "stream",
     "text": [
      "2021-06-01 13:42:58.878 | ERROR    | __main__:log_output:7 - function: add_one, result:1\n"
     ]
    },
    {
     "data": {
      "text/plain": [
       "1"
      ]
     },
     "execution_count": 15,
     "metadata": {},
     "output_type": "execute_result"
    }
   ],
   "source": [
    "y = add_one(y)\n",
    "y"
   ]
  },
  {
   "cell_type": "markdown",
   "metadata": {
    "heading_collapsed": true
   },
   "source": [
    "## using two decorators"
   ]
  },
  {
   "cell_type": "code",
   "execution_count": 16,
   "id": "1c06164a",
   "metadata": {
    "ExecuteTime": {
     "end_time": "2021-06-01T13:42:58.893852Z",
     "start_time": "2021-06-01T13:42:58.886815Z"
    },
    "hidden": true
   },
   "outputs": [],
   "source": [
    "#GLOBAL \n",
    "call_count= 0\n",
    "def add_one(fun):\n",
    "    \"\"\"\n",
    "            Decorator pre-function call and post-function call of function func.\n",
    "    \"\"\"\n",
    "    def wrapper(*args, **kwargs):\n",
    "        global call_count\n",
    "        #Pre action\n",
    "        result = fun(*args, **kwargs)\n",
    "        logger.info('call_count:{}'.format(call_count))\n",
    "        call_count = call_count+1\n",
    "        logger.info('Increase call_count:{}'.format(call_count))\n",
    "        return result\n",
    "    return wrapper"
   ]
  },
  {
   "cell_type": "code",
   "execution_count": 17,
   "metadata": {
    "ExecuteTime": {
     "end_time": "2021-06-01T13:42:58.901287Z",
     "start_time": "2021-06-01T13:42:58.896522Z"
    },
    "hidden": true
   },
   "outputs": [],
   "source": [
    "@log_call(CRITICAL=True)\n",
    "@add_one\n",
    "def pow(x,y):\n",
    "    return(x**y)"
   ]
  },
  {
   "cell_type": "code",
   "execution_count": 18,
   "metadata": {
    "ExecuteTime": {
     "end_time": "2021-06-01T13:42:58.914942Z",
     "start_time": "2021-06-01T13:42:58.904009Z"
    },
    "hidden": true
   },
   "outputs": [
    {
     "name": "stderr",
     "output_type": "stream",
     "text": [
      "2021-06-01 13:42:58.905 | INFO     | __main__:wrapper:11 - call_count:0\n",
      "2021-06-01 13:42:58.907 | INFO     | __main__:wrapper:13 - Increase call_count:1\n",
      "2021-06-01 13:42:58.908 | CRITICAL | __main__:log_output:7 - function: wrapper, result:1024\n"
     ]
    },
    {
     "name": "stdout",
     "output_type": "stream",
     "text": [
      " 0\n",
      "1024\n"
     ]
    }
   ],
   "source": [
    "print('',call_count)\n",
    "print(pow(2,10))"
   ]
  },
  {
   "cell_type": "markdown",
   "metadata": {
    "ExecuteTime": {
     "end_time": "2021-05-29T23:13:38.886515Z",
     "start_time": "2021-05-29T23:13:38.882657Z"
    },
    "hidden": true
   },
   "source": []
  },
  {
   "cell_type": "code",
   "execution_count": 19,
   "metadata": {
    "ExecuteTime": {
     "end_time": "2021-06-01T13:42:58.928170Z",
     "start_time": "2021-06-01T13:42:58.917498Z"
    },
    "hidden": true
   },
   "outputs": [
    {
     "name": "stderr",
     "output_type": "stream",
     "text": [
      "2021-06-01 13:42:58.919 | INFO     | __main__:wrapper:11 - call_count:1\n",
      "2021-06-01 13:42:58.920 | INFO     | __main__:wrapper:13 - Increase call_count:2\n",
      "2021-06-01 13:42:58.921 | CRITICAL | __main__:log_output:7 - function: wrapper, result:1024\n"
     ]
    },
    {
     "name": "stdout",
     "output_type": "stream",
     "text": [
      "1024\n",
      " 2\n"
     ]
    }
   ],
   "source": [
    "print(pow(2,10))\n",
    "print('',call_count)"
   ]
  },
  {
   "cell_type": "markdown",
   "metadata": {
    "ExecuteTime": {
     "end_time": "2021-05-29T18:40:37.048561Z",
     "start_time": "2021-05-29T18:40:37.037838Z"
    }
   },
   "source": [
    "## using four decorators"
   ]
  },
  {
   "cell_type": "code",
   "execution_count": 20,
   "metadata": {
    "ExecuteTime": {
     "end_time": "2021-06-01T13:43:00.861165Z",
     "start_time": "2021-06-01T13:42:58.931125Z"
    }
   },
   "outputs": [
    {
     "name": "stdout",
     "output_type": "stream",
     "text": [
      "Requirement already satisfied: numba in /opt/conda/lib/python3.7/site-packages (0.53.1)\r\n",
      "Requirement already satisfied: llvmlite<0.37,>=0.36.0rc1 in /opt/conda/lib/python3.7/site-packages (from numba) (0.36.0)\r\n",
      "Requirement already satisfied: setuptools in /opt/conda/lib/python3.7/site-packages (from numba) (46.1.3.post20200325)\r\n",
      "Requirement already satisfied: numpy>=1.15 in /opt/conda/lib/python3.7/site-packages (from numba) (1.20.3)\r\n"
     ]
    }
   ],
   "source": [
    "!pip install numba\n",
    "from numba import jit"
   ]
  },
  {
   "cell_type": "code",
   "execution_count": 21,
   "metadata": {
    "ExecuteTime": {
     "end_time": "2021-06-01T13:43:00.869475Z",
     "start_time": "2021-06-01T13:43:00.863936Z"
    }
   },
   "outputs": [],
   "source": [
    "@log_call(ERROR=True)\n",
    "@add_one\n",
    "def cum_one(x:int,y:int) -> int:\n",
    "    total = 1 \n",
    "    for i in range(2,y,1):\n",
    "        total += 1\n",
    "    return(total)"
   ]
  },
  {
   "cell_type": "code",
   "execution_count": 22,
   "metadata": {
    "ExecuteTime": {
     "end_time": "2021-06-01T13:43:07.957590Z",
     "start_time": "2021-06-01T13:43:00.871943Z"
    }
   },
   "outputs": [
    {
     "name": "stderr",
     "output_type": "stream",
     "text": [
      "2021-06-01 13:43:07.949 | INFO     | __main__:wrapper:11 - call_count:2\n",
      "2021-06-01 13:43:07.950 | INFO     | __main__:wrapper:13 - Increase call_count:3\n",
      "2021-06-01 13:43:07.951 | ERROR    | __main__:log_output:7 - function: wrapper, result:99999999\n"
     ]
    },
    {
     "data": {
      "text/plain": [
       "99999999"
      ]
     },
     "execution_count": 22,
     "metadata": {},
     "output_type": "execute_result"
    }
   ],
   "source": [
    "cum_one(2,100_000_000)\n"
   ]
  },
  {
   "cell_type": "code",
   "execution_count": 23,
   "metadata": {
    "ExecuteTime": {
     "end_time": "2021-06-01T13:43:07.966783Z",
     "start_time": "2021-06-01T13:43:07.960335Z"
    }
   },
   "outputs": [],
   "source": [
    "@add_one\n",
    "@log_call(ERROR=True)\n",
    "@jit\n",
    "def cum_one(x:int,y:int) -> int:\n",
    "    total = 1 \n",
    "    for i in range(2,y,1):\n",
    "        total += 1\n",
    "    return(total)"
   ]
  },
  {
   "cell_type": "code",
   "execution_count": 24,
   "metadata": {
    "ExecuteTime": {
     "end_time": "2021-06-01T13:43:08.173068Z",
     "start_time": "2021-06-01T13:43:07.969596Z"
    }
   },
   "outputs": [
    {
     "name": "stderr",
     "output_type": "stream",
     "text": [
      "2021-06-01 13:43:08.165 | ERROR    | __main__:log_output:7 - function: cum_one, result:99999999\n",
      "2021-06-01 13:43:08.166 | INFO     | __main__:wrapper:11 - call_count:3\n",
      "2021-06-01 13:43:08.167 | INFO     | __main__:wrapper:13 - Increase call_count:4\n"
     ]
    },
    {
     "data": {
      "text/plain": [
       "99999999"
      ]
     },
     "execution_count": 24,
     "metadata": {},
     "output_type": "execute_result"
    }
   ],
   "source": [
    "cum_one(2,100_000_000)"
   ]
  },
  {
   "cell_type": "code",
   "execution_count": 25,
   "metadata": {
    "ExecuteTime": {
     "end_time": "2021-06-01T13:43:08.186273Z",
     "start_time": "2021-06-01T13:43:08.175744Z"
    }
   },
   "outputs": [
    {
     "name": "stderr",
     "output_type": "stream",
     "text": [
      "2021-06-01 13:43:08.177 | ERROR    | __main__:log_output:7 - function: cum_one, result:99999999\n",
      "2021-06-01 13:43:08.179 | INFO     | __main__:wrapper:11 - call_count:4\n",
      "2021-06-01 13:43:08.180 | INFO     | __main__:wrapper:13 - Increase call_count:5\n"
     ]
    },
    {
     "data": {
      "text/plain": [
       "99999999"
      ]
     },
     "execution_count": 25,
     "metadata": {},
     "output_type": "execute_result"
    }
   ],
   "source": [
    "cum_one(2,100_000_000)"
   ]
  },
  {
   "cell_type": "markdown",
   "metadata": {},
   "source": [
    "## CHANGE ORDER OF DECORATORS"
   ]
  },
  {
   "cell_type": "code",
   "execution_count": 28,
   "metadata": {
    "ExecuteTime": {
     "end_time": "2021-06-01T14:25:44.552904Z",
     "start_time": "2021-06-01T14:25:44.452088Z"
    }
   },
   "outputs": [
    {
     "name": "stderr",
     "output_type": "stream",
     "text": [
      "2021-06-01 14:25:44.544 | INFO     | __main__:wrapper:11 - call_count:5\n",
      "2021-06-01 14:25:44.545 | INFO     | __main__:wrapper:13 - Increase call_count:6\n",
      "2021-06-01 14:25:44.546 | ERROR    | __main__:log_output:7 - function: wrapper, result:99999999\n"
     ]
    },
    {
     "data": {
      "text/plain": [
       "99999999"
      ]
     },
     "execution_count": 28,
     "metadata": {},
     "output_type": "execute_result"
    }
   ],
   "source": [
    "@log_call(ERROR=True)\n",
    "@add_one\n",
    "@jit\n",
    "def cum_one(x:int,y:int) -> int:\n",
    "    total = 1 \n",
    "    for i in range(2,y,1):\n",
    "        total += 1\n",
    "    return(total)\n",
    "\n",
    "cum_one(2,100_000_000)"
   ]
  },
  {
   "cell_type": "code",
   "execution_count": 29,
   "metadata": {
    "ExecuteTime": {
     "end_time": "2021-06-01T14:30:39.710691Z",
     "start_time": "2021-06-01T14:30:39.704621Z"
    }
   },
   "outputs": [],
   "source": [
    "@jit\n",
    "@add_one\n",
    "@log_call(ERROR=True)\n",
    "def cum_one(x:int,y:int) -> int:\n",
    "    total = 1 \n",
    "    for i in range(2,y,1):\n",
    "        total += 1\n",
    "    return(total)"
   ]
  },
  {
   "cell_type": "code",
   "execution_count": 30,
   "metadata": {
    "ExecuteTime": {
     "end_time": "2021-06-01T14:30:44.069673Z",
     "start_time": "2021-06-01T14:30:44.050691Z"
    }
   },
   "outputs": [
    {
     "ename": "UnsupportedError",
     "evalue": "Failed in object mode pipeline (step: analyzing bytecode)\nCALL_FUNCTION_EX with **kwargs not supported",
     "output_type": "error",
     "traceback": [
      "\u001b[0;31m---------------------------------------------------------------------------\u001b[0m",
      "\u001b[0;31mUnsupportedError\u001b[0m                          Traceback (most recent call last)",
      "\u001b[0;32m<ipython-input-30-b17420d6dadd>\u001b[0m in \u001b[0;36m<module>\u001b[0;34m\u001b[0m\n\u001b[0;32m----> 1\u001b[0;31m \u001b[0mcum_one\u001b[0m\u001b[0;34m(\u001b[0m\u001b[0;36m2\u001b[0m\u001b[0;34m,\u001b[0m\u001b[0;36m100_000_000\u001b[0m\u001b[0;34m)\u001b[0m\u001b[0;34m\u001b[0m\u001b[0;34m\u001b[0m\u001b[0m\n\u001b[0m",
      "\u001b[0;32m/opt/conda/lib/python3.7/site-packages/numba/core/dispatcher.py\u001b[0m in \u001b[0;36m_compile_for_args\u001b[0;34m(self, *args, **kws)\u001b[0m\n\u001b[1;32m    421\u001b[0m         \u001b[0;32mexcept\u001b[0m \u001b[0merrors\u001b[0m\u001b[0;34m.\u001b[0m\u001b[0mUnsupportedError\u001b[0m \u001b[0;32mas\u001b[0m \u001b[0me\u001b[0m\u001b[0;34m:\u001b[0m\u001b[0;34m\u001b[0m\u001b[0;34m\u001b[0m\u001b[0m\n\u001b[1;32m    422\u001b[0m             \u001b[0;31m# Something unsupported is present in the user code, add help info\u001b[0m\u001b[0;34m\u001b[0m\u001b[0;34m\u001b[0m\u001b[0;34m\u001b[0m\u001b[0m\n\u001b[0;32m--> 423\u001b[0;31m             \u001b[0merror_rewrite\u001b[0m\u001b[0;34m(\u001b[0m\u001b[0me\u001b[0m\u001b[0;34m,\u001b[0m \u001b[0;34m'unsupported_error'\u001b[0m\u001b[0;34m)\u001b[0m\u001b[0;34m\u001b[0m\u001b[0;34m\u001b[0m\u001b[0m\n\u001b[0m\u001b[1;32m    424\u001b[0m         except (errors.NotDefinedError, errors.RedefinedError,\n\u001b[1;32m    425\u001b[0m                 errors.VerificationError) as e:\n",
      "\u001b[0;32m/opt/conda/lib/python3.7/site-packages/numba/core/dispatcher.py\u001b[0m in \u001b[0;36merror_rewrite\u001b[0;34m(e, issue_type)\u001b[0m\n\u001b[1;32m    359\u001b[0m                 \u001b[0;32mraise\u001b[0m \u001b[0me\u001b[0m\u001b[0;34m\u001b[0m\u001b[0;34m\u001b[0m\u001b[0m\n\u001b[1;32m    360\u001b[0m             \u001b[0;32melse\u001b[0m\u001b[0;34m:\u001b[0m\u001b[0;34m\u001b[0m\u001b[0;34m\u001b[0m\u001b[0m\n\u001b[0;32m--> 361\u001b[0;31m                 \u001b[0;32mraise\u001b[0m \u001b[0me\u001b[0m\u001b[0;34m.\u001b[0m\u001b[0mwith_traceback\u001b[0m\u001b[0;34m(\u001b[0m\u001b[0;32mNone\u001b[0m\u001b[0;34m)\u001b[0m\u001b[0;34m\u001b[0m\u001b[0;34m\u001b[0m\u001b[0m\n\u001b[0m\u001b[1;32m    362\u001b[0m \u001b[0;34m\u001b[0m\u001b[0m\n\u001b[1;32m    363\u001b[0m         \u001b[0margtypes\u001b[0m \u001b[0;34m=\u001b[0m \u001b[0;34m[\u001b[0m\u001b[0;34m]\u001b[0m\u001b[0;34m\u001b[0m\u001b[0;34m\u001b[0m\u001b[0m\n",
      "\u001b[0;31mUnsupportedError\u001b[0m: Failed in object mode pipeline (step: analyzing bytecode)\nCALL_FUNCTION_EX with **kwargs not supported"
     ]
    }
   ],
   "source": [
    "cum_one(2,100_000_000)"
   ]
  },
  {
   "cell_type": "code",
   "execution_count": null,
   "metadata": {},
   "outputs": [],
   "source": []
  }
 ],
 "metadata": {
  "kernelspec": {
   "display_name": "Python 3",
   "language": "python",
   "name": "python3"
  },
  "language_info": {
   "codemirror_mode": {
    "name": "ipython",
    "version": 3
   },
   "file_extension": ".py",
   "mimetype": "text/x-python",
   "name": "python",
   "nbconvert_exporter": "python",
   "pygments_lexer": "ipython3",
   "version": "3.7.6"
  },
  "toc": {
   "base_numbering": 1,
   "nav_menu": {},
   "number_sections": true,
   "sideBar": true,
   "skip_h1_title": false,
   "title_cell": "Table of Contents",
   "title_sidebar": "Contents",
   "toc_cell": false,
   "toc_position": {},
   "toc_section_display": true,
   "toc_window_display": true
  }
 },
 "nbformat": 4,
 "nbformat_minor": 5
}
